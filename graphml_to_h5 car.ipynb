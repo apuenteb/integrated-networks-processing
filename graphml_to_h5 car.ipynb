{
 "cells": [
  {
   "cell_type": "markdown",
   "metadata": {},
   "source": [
    "Load graphml file and transform into h5 file using pandana"
   ]
  },
  {
   "cell_type": "code",
   "execution_count": 1,
   "metadata": {},
   "outputs": [],
   "source": [
    "import networkx as nx\n",
    "\n",
    "G_temp=nx.read_graphml(\"./networks/gipuzkoa_drive.graphml\")"
   ]
  },
  {
   "cell_type": "code",
   "execution_count": 2,
   "metadata": {},
   "outputs": [],
   "source": [
    "import pandas as pd\n",
    "\n",
    "node_df=pd.DataFrame.from_dict(dict(G_temp.nodes(data=True)), orient=\"index\")\n",
    "edge_df=nx.to_pandas_edgelist(G_temp)"
   ]
  },
  {
   "cell_type": "code",
   "execution_count": 3,
   "metadata": {},
   "outputs": [
    {
     "name": "stdout",
     "output_type": "stream",
     "text": [
      "                 y           x street_count highway  ref\n",
      "448001  43.1795625  -2.4899828            3     NaN  NaN\n",
      "448006  43.1826552  -2.4814224            4     NaN  NaN\n",
      "451289  43.1927813  -2.4381722            3     NaN  NaN\n",
      "469503   43.191805  -2.4512039            3     NaN  NaN\n",
      "469506  43.1917959  -2.4524942            3     NaN  NaN\n"
     ]
    }
   ],
   "source": [
    "print(node_df.head())"
   ]
  },
  {
   "cell_type": "code",
   "execution_count": 4,
   "metadata": {},
   "outputs": [
    {
     "name": "stdout",
     "output_type": "stream",
     "text": [
      "   source      target junction bridge      ref           distance  \\\n",
      "0  448001  3934729820      NaN    NaN      NaN            113.604   \n",
      "1  448001      916343      NaN    NaN  BI-3344             42.152   \n",
      "2  448006    25433518      NaN    NaN      NaN             77.905   \n",
      "3  448006   299660335      NaN    NaN      NaN             229.73   \n",
      "4  451289  5674243805      NaN    NaN    N-634  907.9949999999999   \n",
      "\n",
      "                                            geometry width tunnel maxspeed  \\\n",
      "0  LINESTRING (-2.4899828 43.1795625, -2.489874 4...   NaN    NaN      NaN   \n",
      "1  LINESTRING (-2.4899828 43.1795625, -2.4901355 ...   NaN    NaN      NaN   \n",
      "2  LINESTRING (-2.4814224 43.1826552, -2.4813444 ...   NaN    NaN      NaN   \n",
      "3  LINESTRING (-2.4814224 43.1826552, -2.480944 4...   NaN    NaN      NaN   \n",
      "4  LINESTRING (-2.4381722 43.1927813, -2.4384757 ...   NaN    yes       70   \n",
      "\n",
      "       highway access                  name oneway lanes reversed  \\\n",
      "0     tertiary    NaN      Otaola hiribidea  False     2    False   \n",
      "1     tertiary    NaN    Gipuzkoa hiribidea  False     2     True   \n",
      "2  residential    NaN       Santaiñes kalea  False     2    False   \n",
      "3     tertiary    NaN      Otaola hiribidea   True     2    False   \n",
      "4        trunk    NaN  Kantauriko errepidea  False     2     True   \n",
      "\n",
      "                           osmid  \n",
      "0                       44716332  \n",
      "1                     1009087270  \n",
      "2                       21770157  \n",
      "3                       44580274  \n",
      "4  [71321937, 4358223, 10672063]  \n"
     ]
    }
   ],
   "source": [
    "# rename length to distance\n",
    "edge_df=edge_df.rename(columns={\"length\": \"distance\"})\n",
    "print(edge_df.head())"
   ]
  },
  {
   "cell_type": "code",
   "execution_count": 5,
   "metadata": {},
   "outputs": [],
   "source": [
    "# Convert columns to numeric, forcing errors='coerce' to handle non-numeric values\n",
    "edge_df[\"distance\"] = pd.to_numeric(edge_df[\"distance\"], errors=\"coerce\")"
   ]
  },
  {
   "cell_type": "code",
   "execution_count": 8,
   "metadata": {},
   "outputs": [
    {
     "name": "stdout",
     "output_type": "stream",
     "text": [
      "   source      target junction bridge      ref  distance  \\\n",
      "0  448001  3934729820      NaN    NaN      NaN   113.604   \n",
      "1  448001      916343      NaN    NaN  BI-3344    42.152   \n",
      "2  448006    25433518      NaN    NaN      NaN    77.905   \n",
      "3  448006   299660335      NaN    NaN      NaN   229.730   \n",
      "4  451289  5674243805      NaN    NaN    N-634   907.995   \n",
      "\n",
      "                                            geometry width tunnel  maxspeed  \\\n",
      "0  LINESTRING (-2.4899828 43.1795625, -2.489874 4...   NaN    NaN      70.0   \n",
      "1  LINESTRING (-2.4899828 43.1795625, -2.4901355 ...   NaN    NaN      70.0   \n",
      "2  LINESTRING (-2.4814224 43.1826552, -2.4813444 ...   NaN    NaN      60.0   \n",
      "3  LINESTRING (-2.4814224 43.1826552, -2.480944 4...   NaN    NaN      70.0   \n",
      "4  LINESTRING (-2.4381722 43.1927813, -2.4384757 ...   NaN    yes      70.0   \n",
      "\n",
      "       highway access                  name oneway lanes reversed  \\\n",
      "0     tertiary    NaN      Otaola hiribidea  False     2    False   \n",
      "1     tertiary    NaN    Gipuzkoa hiribidea  False     2     True   \n",
      "2  residential    NaN       Santaiñes kalea  False     2    False   \n",
      "3     tertiary    NaN      Otaola hiribidea   True     2    False   \n",
      "4        trunk    NaN  Kantauriko errepidea  False     2     True   \n",
      "\n",
      "                           osmid  \n",
      "0                       44716332  \n",
      "1                     1009087270  \n",
      "2                       21770157  \n",
      "3                       44580274  \n",
      "4  [71321937, 4358223, 10672063]  \n"
     ]
    }
   ],
   "source": [
    "edge_df[\"maxspeed\"] = pd.to_numeric(edge_df[\"maxspeed\"], errors=\"coerce\")\n",
    "edge_df[\"maxspeed\"] = edge_df.groupby(\"highway\")[\"maxspeed\"].transform(lambda x: x.fillna(x.max()))\n",
    "print(edge_df.head())"
   ]
  },
  {
   "cell_type": "code",
   "execution_count": 9,
   "metadata": {},
   "outputs": [
    {
     "name": "stdout",
     "output_type": "stream",
     "text": [
      "highway\n",
      "['living_street', 'residential']               False\n",
      "['living_street', 'secondary']                 False\n",
      "['living_street', 'unclassified']               True\n",
      "['motorway_link', 'motorway']                  False\n",
      "['motorway_link', 'primary']                    True\n",
      "['motorway_link', 'residential']                True\n",
      "['primary', 'secondary']                        True\n",
      "['primary_link', 'primary']                     True\n",
      "['tertiary', 'motorway_link']                  False\n",
      "['tertiary', 'residential', 'secondary']        True\n",
      "['tertiary', 'residential']                    False\n",
      "['tertiary', 'secondary']                       True\n",
      "['tertiary', 'tertiary_link']                  False\n",
      "['tertiary', 'unclassified', 'residential']     True\n",
      "['tertiary', 'unclassified']                   False\n",
      "['tertiary_link', 'secondary']                  True\n",
      "['trunk_link', 'motorway_link']                 True\n",
      "['unclassified', 'living_street']               True\n",
      "['unclassified', 'residential']                False\n",
      "['unclassified', 'secondary_link']              True\n",
      "busway                                          True\n",
      "escape                                          True\n",
      "ladder                                          True\n",
      "living_street                                  False\n",
      "motorway                                       False\n",
      "motorway_link                                  False\n",
      "primary                                        False\n",
      "primary_link                                   False\n",
      "residential                                    False\n",
      "road                                            True\n",
      "secondary                                      False\n",
      "secondary_link                                 False\n",
      "tertiary                                       False\n",
      "tertiary_link                                  False\n",
      "trunk                                          False\n",
      "trunk_link                                     False\n",
      "unclassified                                   False\n",
      "Name: maxspeed, dtype: bool\n"
     ]
    }
   ],
   "source": [
    "print(edge_df.groupby(\"highway\")[\"maxspeed\"].apply(lambda x: x.isna().all()))"
   ]
  },
  {
   "cell_type": "code",
   "execution_count": 10,
   "metadata": {},
   "outputs": [],
   "source": [
    "default_speeds = {\n",
    "    \"motorway\": 120,\n",
    "    \"motorway_link\": 90,\n",
    "    \"trunk\": 110,\n",
    "    \"trunk_link\": 90,\n",
    "    \"primary\": 90,\n",
    "    \"primary_link\": 80,\n",
    "    \"secondary\": 80,\n",
    "    \"secondary_link\": 70,\n",
    "    \"tertiary\": 60,\n",
    "    \"tertiary_link\": 50,\n",
    "    \"residential\": 50,\n",
    "    \"living_street\": 30,\n",
    "    \"unclassified\": 40,\n",
    "    \"busway\": 50,  # Assign reasonable values for missing categories\n",
    "    \"escape\": 30,\n",
    "    \"ladder\": 10,\n",
    "    \"road\": 50  # Generic road\n",
    "}\n",
    "\n",
    "def assign_speed(row):\n",
    "    if pd.notna(row[\"maxspeed\"]):\n",
    "        return row[\"maxspeed\"]\n",
    "    \n",
    "    # Convert list-like strings to actual lists (if necessary)\n",
    "    highway_types = row[\"highway\"]\n",
    "    if isinstance(highway_types, str):\n",
    "        highway_types = eval(highway_types) if highway_types.startswith(\"[\") else [highway_types]\n",
    "    \n",
    "    # Find the first matching speed limit\n",
    "    for road_type in highway_types:\n",
    "        if road_type in default_speeds:\n",
    "            return default_speeds[road_type]\n",
    "    \n",
    "    # Fallback default speed if none match\n",
    "    return 50  \n",
    "\n",
    "# Apply the function to fill NaN values\n",
    "edge_df[\"maxspeed\"] = edge_df.apply(assign_speed, axis=1)"
   ]
  },
  {
   "cell_type": "code",
   "execution_count": 11,
   "metadata": {},
   "outputs": [
    {
     "name": "stdout",
     "output_type": "stream",
     "text": [
      "0\n"
     ]
    }
   ],
   "source": [
    "print(edge_df[\"maxspeed\"].isna().sum())  # Should be 0"
   ]
  },
  {
   "cell_type": "code",
   "execution_count": 12,
   "metadata": {},
   "outputs": [],
   "source": [
    "# save edge_df to csv\n",
    "edge_df.to_csv(\"./networks/gipuzkoa_drive_edges.csv\", index=False)"
   ]
  },
  {
   "cell_type": "code",
   "execution_count": 21,
   "metadata": {},
   "outputs": [
    {
     "name": "stdout",
     "output_type": "stream",
     "text": [
      "                 x           y\n",
      "448001  -2.4899828  43.1795625\n",
      "448006  -2.4814224  43.1826552\n",
      "451277   -2.425101  43.2049133\n",
      "451289  -2.4381722  43.1927813\n",
      "469501  -2.4516244  43.1911116\n",
      "   source      target  distance\n",
      "0  448001  3934729820   113.604\n",
      "1  448001    25438648   139.660\n",
      "2  448001      916343    42.152\n",
      "3  448006  5949227426    20.781\n",
      "4  448006     6928916    78.047\n"
     ]
    }
   ],
   "source": [
    "print(node_df.head())\n",
    "print(edge_df.head())"
   ]
  },
  {
   "cell_type": "code",
   "execution_count": 22,
   "metadata": {},
   "outputs": [
    {
     "name": "stdout",
     "output_type": "stream",
     "text": [
      "<pandana.network.Network object at 0x0000020AA67A2EA0>\n"
     ]
    }
   ],
   "source": [
    "import pandana as pdna\n",
    "\n",
    "node_x=node_df[\"x\"]\n",
    "node_y=node_df[\"y\"]\n",
    "edge_from=edge_df[\"source\"]\n",
    "edge_to=edge_df[\"target\"]\n",
    "edge_weights=pd.DataFrame(edge_df[\"distance\"])\n",
    "\n",
    "walk_network = pdna.Network(node_x, node_y, edge_from, edge_to, edge_weights, twoway=True)\n",
    "\n",
    "print(walk_network)"
   ]
  },
  {
   "cell_type": "code",
   "execution_count": 23,
   "metadata": {},
   "outputs": [],
   "source": [
    "network_file=\"./networks/walk_network.h5\"\n",
    "walk_network.save_hdf5(network_file)"
   ]
  }
 ],
 "metadata": {
  "kernelspec": {
   "display_name": "Python 3",
   "language": "python",
   "name": "python3"
  },
  "language_info": {
   "codemirror_mode": {
    "name": "ipython",
    "version": 3
   },
   "file_extension": ".py",
   "mimetype": "text/x-python",
   "name": "python",
   "nbconvert_exporter": "python",
   "pygments_lexer": "ipython3",
   "version": "3.12.3"
  }
 },
 "nbformat": 4,
 "nbformat_minor": 2
}
