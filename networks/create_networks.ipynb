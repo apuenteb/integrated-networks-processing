{
 "cells": [
  {
   "cell_type": "code",
   "execution_count": 1,
   "metadata": {},
   "outputs": [],
   "source": [
    "import json\n",
    "import pandas as pd\n",
    "import shapely\n",
    "import geopandas as gpd\n",
    "from shapely.geometry import LineString, Point\n",
    "import pandana\n",
    "import osmnet"
   ]
  },
  {
   "cell_type": "code",
   "execution_count": 2,
   "metadata": {},
   "outputs": [],
   "source": [
    "lat_min = 42.904155\n",
    "long_min = -2.621987\n",
    "lat_max = 43.403070\n",
    "long_max = -1.740334"
   ]
  },
  {
   "cell_type": "markdown",
   "metadata": {},
   "source": [
    "Drive"
   ]
  },
  {
   "cell_type": "code",
   "execution_count": 3,
   "metadata": {},
   "outputs": [
    {
     "name": "stdout",
     "output_type": "stream",
     "text": [
      "Requesting network data within bounding box from Overpass API in 4 request(s)\n",
      "Posting to http://www.overpass-api.de/api/interpreter with timeout=180, \"{'data': '[out:json][timeout:180];(way[\"highway\"][\"highway\"!~\"cycleway|footway|path|pedestrian|steps|track|proposed|construction|bridleway|abandoned|platform|raceway|service\"][\"motor_vehicle\"!~\"no\"][\"motorcar\"!~\"no\"][\"service\"!~\"parking|parking_aisle|driveway|emergency_access\"](42.90415500,-2.62199057,43.15677470,-2.17936200);>;);out;'}\"\n",
      "Downloaded 13,152.7KB from www.overpass-api.de in 11.98 seconds\n",
      "Posting to http://www.overpass-api.de/api/interpreter with timeout=180, \"{'data': '[out:json][timeout:180];(way[\"highway\"][\"highway\"!~\"cycleway|footway|path|pedestrian|steps|track|proposed|construction|bridleway|abandoned|platform|raceway|service\"][\"motor_vehicle\"!~\"no\"][\"motorcar\"!~\"no\"][\"service\"!~\"parking|parking_aisle|driveway|emergency_access\"](43.15445613,-2.62199057,43.40391960,-2.17600228);>;);out;'}\"\n",
      "Downloaded 10,359.7KB from www.overpass-api.de in 1.79 seconds\n",
      "Posting to http://www.overpass-api.de/api/interpreter with timeout=180, \"{'data': '[out:json][timeout:180];(way[\"highway\"][\"highway\"!~\"cycleway|footway|path|pedestrian|steps|track|proposed|construction|bridleway|abandoned|platform|raceway|service\"][\"motor_vehicle\"!~\"no\"][\"motorcar\"!~\"no\"][\"service\"!~\"parking|parking_aisle|driveway|emergency_access\"](43.15046475,-2.17936200,43.40391960,-1.74033400);>;);out;'}\"\n",
      "Downloaded 16,890.4KB from www.overpass-api.de in 2.33 seconds\n",
      "Posting to http://www.overpass-api.de/api/interpreter with timeout=180, \"{'data': '[out:json][timeout:180];(way[\"highway\"][\"highway\"!~\"cycleway|footway|path|pedestrian|steps|track|proposed|construction|bridleway|abandoned|platform|raceway|service\"][\"motor_vehicle\"!~\"no\"][\"motorcar\"!~\"no\"][\"service\"!~\"parking|parking_aisle|driveway|emergency_access\"](42.90415500,-2.18267877,43.15445613,-1.74033400);>;);out;'}\"\n",
      "Downloaded 8,290.8KB from www.overpass-api.de in 1.29 seconds\n",
      "Downloaded OSM network data within bounding box from Overpass API in 4 request(s) and 18.69 seconds\n",
      "9,738 duplicate records removed. Took 3.81 seconds\n",
      "Returning OSM data with 382,986 nodes and 34,679 ways...\n",
      "Edge node pairs completed. Took 35.54 seconds\n",
      "Returning processed graph with 33,375 nodes and 84,504 edges...\n",
      "Completed OSM data download and Pandana node and edge table creation in 61.23 seconds\n"
     ]
    }
   ],
   "source": [
    "drive_nodes, drive_edges = osmnet.load.network_from_bbox(\n",
    "    lat_min=lat_min, lng_min=long_min, lat_max=lat_max,\n",
    "    lng_max=long_max, network_type='drive', two_way=False)"
   ]
  },
  {
   "cell_type": "code",
   "execution_count": 4,
   "metadata": {},
   "outputs": [],
   "source": [
    "drive_nodes=drive_nodes.rename(columns = {'x': 'lon', 'y': 'lat'})"
   ]
  },
  {
   "cell_type": "code",
   "execution_count": 5,
   "metadata": {},
   "outputs": [],
   "source": [
    "# Add lat and long to each edge\n",
    "\n",
    "drive_edges=drive_edges.merge(drive_nodes, how='left', left_on='from', right_index=True).rename(\n",
    "    columns={'lon': 'from_lon', 'lat': 'from_lat'})\n",
    "drive_edges=drive_edges.merge(drive_nodes, how='left', left_on='to', right_index=True).rename(\n",
    "    columns={'lon': 'to_lon', 'lat': 'to_lat'})"
   ]
  },
  {
   "cell_type": "code",
   "execution_count": 6,
   "metadata": {},
   "outputs": [],
   "source": [
    "drive_edges['geometry']=drive_edges.apply(\n",
    "    lambda row: LineString([[row['from_lon'], row['from_lat']],\n",
    "                             [row['to_lon'], row['to_lat']]]), axis=1)"
   ]
  },
  {
   "cell_type": "code",
   "execution_count": 9,
   "metadata": {},
   "outputs": [],
   "source": [
    "# Create geodataframe\n",
    "\n",
    "drive_edges_gdf=gpd.GeoDataFrame(data=drive_edges, geometry='geometry', crs='epsg:4326')"
   ]
  },
  {
   "cell_type": "markdown",
   "metadata": {},
   "source": [
    "Ensure all roads have valid speed"
   ]
  },
  {
   "cell_type": "code",
   "execution_count": 10,
   "metadata": {},
   "outputs": [],
   "source": [
    "# Delete \"_link\"\n",
    "\n",
    "drive_edges_gdf['highway']=drive_edges_gdf['highway'].apply(lambda hw: hw.replace('_link', ''))\n",
    "\n",
    "# Fill null values\n",
    "# Then, change from \"60 km/h\" to \"60\"\n",
    "\n",
    "drive_edges_gdf['maxspeed']=drive_edges_gdf['maxspeed'].fillna(0)\n",
    "drive_edges_gdf['maxspeed']=drive_edges_gdf['maxspeed'].apply(lambda s: int(str(s).split(' ')[0]))\n",
    "\n",
    "# Group highways with type and save mode for each type\n",
    "\n",
    "grouped = drive_edges_gdf.loc[drive_edges_gdf['maxspeed']>0].groupby('highway')['maxspeed'].agg(pd.Series.mode)\n",
    "for t in drive_edges_gdf.highway.unique():\n",
    "    if t not in grouped.keys():\n",
    "        grouped[t] = grouped[\"unclassified\"]\n",
    "\n",
    "# Replace zero values with group mode\n",
    "drive_edges_gdf.loc[drive_edges_gdf['maxspeed'] == 0, 'maxspeed'] = drive_edges_gdf.loc[drive_edges_gdf['maxspeed'] == 0, 'highway'].apply(lambda x: grouped[x])"
   ]
  },
  {
   "cell_type": "code",
   "execution_count": 19,
   "metadata": {},
   "outputs": [],
   "source": [
    "# Add m/s speed and time as a function of distance and speed.\n",
    "\n",
    "drive_edges_gdf['speed_m_s']=0.6*drive_edges_gdf['maxspeed']*1000/3600\n",
    "drive_edges_gdf['drive_time_s']=drive_edges_gdf['distance']/drive_edges_gdf['speed_m_s']"
   ]
  },
  {
   "cell_type": "markdown",
   "metadata": {},
   "source": [
    "Create shapefile for GAMA"
   ]
  },
  {
   "cell_type": "code",
   "execution_count": 13,
   "metadata": {},
   "outputs": [],
   "source": [
    "# drive_edges_gdf.to_file(f\"data/drive_shapefile.shp\", driver='ESRI Shapefile')"
   ]
  },
  {
   "cell_type": "markdown",
   "metadata": {},
   "source": [
    "Create pandana network"
   ]
  },
  {
   "cell_type": "code",
   "execution_count": 20,
   "metadata": {},
   "outputs": [],
   "source": [
    "drive_net_pdna=pandana.network.Network(\n",
    "    drive_nodes['lon'], drive_nodes['lat'],\n",
    "    drive_edges_gdf['from'], drive_edges_gdf['to'],\n",
    "    drive_edges_gdf[['distance','speed_m_s','drive_time_s']], twoway=False)"
   ]
  },
  {
   "cell_type": "code",
   "execution_count": 21,
   "metadata": {},
   "outputs": [],
   "source": [
    "drive_net_pdna.save_hdf5(\"../networks/drive_net.h5\")"
   ]
  },
  {
   "cell_type": "code",
   "execution_count": 18,
   "metadata": {},
   "outputs": [],
   "source": [
    "drive_nodes.to_csv(\"../networks/drive_nodes.csv\")"
   ]
  },
  {
   "cell_type": "code",
   "execution_count": 19,
   "metadata": {},
   "outputs": [],
   "source": [
    "# drive_edges_gdf.to_file('../data/drive_net.geojson', index=False)\n",
    "# drive_edges_gdf.to_file('../front_end/data/drive_net.geojson', index=False)\n",
    "# drive_nodes.to_csv('../data/drive_nodes.csv')"
   ]
  },
  {
   "cell_type": "markdown",
   "metadata": {},
   "source": [
    "Walk and Bike"
   ]
  },
  {
   "cell_type": "code",
   "execution_count": 20,
   "metadata": {},
   "outputs": [
    {
     "name": "stdout",
     "output_type": "stream",
     "text": [
      "Requesting network data within bounding box from Overpass API in 4 request(s)\n",
      "Posting to http://www.overpass-api.de/api/interpreter with timeout=180, \"{'data': '[out:json][timeout:180];(way[\"highway\"][\"highway\"!~\"motor|proposed|construction|abandoned|platform|raceway\"][\"foot\"!~\"no\"][\"pedestrians\"!~\"no\"](42.90415500,-2.62199057,43.15677470,-2.17936200);>;);out;'}\"\n",
      "Downloaded 46,332.1KB from www.overpass-api.de in 1.89 seconds\n",
      "Posting to http://www.overpass-api.de/api/interpreter with timeout=180, \"{'data': '[out:json][timeout:180];(way[\"highway\"][\"highway\"!~\"motor|proposed|construction|abandoned|platform|raceway\"][\"foot\"!~\"no\"][\"pedestrians\"!~\"no\"](43.15445613,-2.62199057,43.40391960,-2.17600228);>;);out;'}\"\n",
      "Downloaded 33,014.9KB from www.overpass-api.de in 1.58 seconds\n",
      "Posting to http://www.overpass-api.de/api/interpreter with timeout=180, \"{'data': '[out:json][timeout:180];(way[\"highway\"][\"highway\"!~\"motor|proposed|construction|abandoned|platform|raceway\"][\"foot\"!~\"no\"][\"pedestrians\"!~\"no\"](43.15046475,-2.17936200,43.40391960,-1.74033400);>;);out;'}\"\n",
      "Downloaded 55,405.8KB from www.overpass-api.de in 2.26 seconds\n",
      "Posting to http://www.overpass-api.de/api/interpreter with timeout=180, \"{'data': '[out:json][timeout:180];(way[\"highway\"][\"highway\"!~\"motor|proposed|construction|abandoned|platform|raceway\"][\"foot\"!~\"no\"][\"pedestrians\"!~\"no\"](42.90415500,-2.18267877,43.15445613,-1.74033400);>;);out;'}\"\n",
      "Downloaded 39,208.3KB from www.overpass-api.de in 1.70 seconds\n",
      "Downloaded OSM network data within bounding box from Overpass API in 4 request(s) and 12.79 seconds\n",
      "36,163 duplicate records removed. Took 11.09 seconds\n",
      "Returning OSM data with 1,486,212 nodes and 107,291 ways...\n",
      "Edge node pairs completed. Took 110.47 seconds\n",
      "Returning processed graph with 121,064 nodes and 328,244 edges...\n",
      "Completed OSM data download and Pandana node and edge table creation in 145.60 seconds\n"
     ]
    }
   ],
   "source": [
    "walk_nodes, walk_edges = osmnet.load.network_from_bbox(\n",
    "    lat_min=lat_min, lng_min=long_min, lat_max=lat_max,\n",
    "    lng_max=long_max, network_type='walk', two_way=False)"
   ]
  },
  {
   "cell_type": "code",
   "execution_count": 21,
   "metadata": {},
   "outputs": [],
   "source": [
    "walk_nodes=walk_nodes.rename(columns = {'x': 'lon', 'y': 'lat'})"
   ]
  },
  {
   "cell_type": "code",
   "execution_count": 22,
   "metadata": {},
   "outputs": [],
   "source": [
    "walk_edges=walk_edges.merge(walk_nodes, how='left', left_on='from', right_index=True).rename(\n",
    "    columns={'lon': 'from_lon', 'lat': 'from_lat'})\n",
    "walk_edges=walk_edges.merge(walk_nodes, how='left', left_on='to', right_index=True).rename(\n",
    "    columns={'lon': 'to_lon', 'lat': 'to_lat'})"
   ]
  },
  {
   "cell_type": "code",
   "execution_count": 23,
   "metadata": {},
   "outputs": [],
   "source": [
    "walk_edges['geometry']=walk_edges.apply(\n",
    "    lambda row: LineString([[row['from_lon'], row['from_lat']],\n",
    "                             [row['to_lon'], row['to_lat']]]), axis=1)"
   ]
  },
  {
   "cell_type": "code",
   "execution_count": 24,
   "metadata": {},
   "outputs": [],
   "source": [
    "walk_edges_gdf=gpd.GeoDataFrame(data=walk_edges, geometry='geometry', crs='epsg:4326')"
   ]
  },
  {
   "cell_type": "code",
   "execution_count": 26,
   "metadata": {},
   "outputs": [],
   "source": [
    "walk_nodes.to_csv(\"../networks/walk_nodes.csv\")"
   ]
  },
  {
   "cell_type": "markdown",
   "metadata": {},
   "source": [
    "Create walk pandana network"
   ]
  },
  {
   "cell_type": "code",
   "execution_count": 27,
   "metadata": {},
   "outputs": [],
   "source": [
    "walk_net_pdna=pandana.network.Network(\n",
    "    walk_nodes['lon'], walk_nodes['lat'],\n",
    "    walk_edges_gdf['from'], walk_edges_gdf['to'],\n",
    "    walk_edges_gdf[['distance']], twoway=False)"
   ]
  },
  {
   "cell_type": "code",
   "execution_count": 28,
   "metadata": {},
   "outputs": [],
   "source": [
    "walk_net_pdna.save_hdf5(\"../networks/walk_net.h5\")"
   ]
  },
  {
   "cell_type": "code",
   "execution_count": 29,
   "metadata": {},
   "outputs": [],
   "source": [
    "# walk_edges_gdf.to_file('../data/walk_net.geojson', index=False)\n",
    "# walk_edges_gdf.to_file('../front_end/data/walk_net.geojson', index=False)\n",
    "# walk_nodes.to_csv('../data/walk_nodes.csv')"
   ]
  },
  {
   "cell_type": "markdown",
   "metadata": {},
   "source": [
    "Create bike pandana network"
   ]
  },
  {
   "cell_type": "code",
   "execution_count": 30,
   "metadata": {},
   "outputs": [],
   "source": [
    "walk_net_pdna.save_hdf5(\"../networks/bike_net.h5\")"
   ]
  },
  {
   "cell_type": "code",
   "execution_count": 31,
   "metadata": {},
   "outputs": [],
   "source": [
    "# walk_edges_gdf.to_file('../data/bike_net.geojson', index=False)\n",
    "# walk_edges_gdf.to_file('../front_end/data/bike_net.geojson', index=False)\n",
    "# walk_nodes.to_csv('../data/bike_nodes.csv')"
   ]
  }
 ],
 "metadata": {
  "kernelspec": {
   "display_name": "Python 3",
   "language": "python",
   "name": "python3"
  },
  "language_info": {
   "codemirror_mode": {
    "name": "ipython",
    "version": 3
   },
   "file_extension": ".py",
   "mimetype": "text/x-python",
   "name": "python",
   "nbconvert_exporter": "python",
   "pygments_lexer": "ipython3",
   "version": "3.12.3"
  }
 },
 "nbformat": 4,
 "nbformat_minor": 2
}
