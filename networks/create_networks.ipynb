{
 "cells": [
  {
   "cell_type": "code",
   "execution_count": 4,
   "metadata": {},
   "outputs": [],
   "source": [
    "import json\n",
    "import pandas as pd\n",
    "import shapely\n",
    "import geopandas as gpd\n",
    "from shapely.geometry import LineString, Point\n",
    "import pandana\n",
    "import osmnet"
   ]
  },
  {
   "cell_type": "code",
   "execution_count": 5,
   "metadata": {},
   "outputs": [],
   "source": [
    "lat_min = 42.904155\n",
    "long_min = -2.621987\n",
    "lat_max = 43.403070\n",
    "long_max = -1.740334"
   ]
  },
  {
   "cell_type": "markdown",
   "metadata": {},
   "source": [
    "Drive"
   ]
  },
  {
   "cell_type": "code",
   "execution_count": 6,
   "metadata": {},
   "outputs": [
    {
     "name": "stdout",
     "output_type": "stream",
     "text": [
      "Requesting network data within bounding box from Overpass API in 4 request(s)\n",
      "Posting to http://www.overpass-api.de/api/interpreter with timeout=180, \"{'data': '[out:json][timeout:180];(way[\"highway\"][\"highway\"!~\"cycleway|footway|path|pedestrian|steps|track|proposed|construction|bridleway|abandoned|platform|raceway|service\"][\"motor_vehicle\"!~\"no\"][\"motorcar\"!~\"no\"][\"service\"!~\"parking|parking_aisle|driveway|emergency_access\"](42.90415500,-2.62199057,43.15677470,-2.17936200);>;);out;'}\"\n",
      "Downloaded 13,079.4KB from www.overpass-api.de in 1.26 seconds\n",
      "Posting to http://www.overpass-api.de/api/interpreter with timeout=180, \"{'data': '[out:json][timeout:180];(way[\"highway\"][\"highway\"!~\"cycleway|footway|path|pedestrian|steps|track|proposed|construction|bridleway|abandoned|platform|raceway|service\"][\"motor_vehicle\"!~\"no\"][\"motorcar\"!~\"no\"][\"service\"!~\"parking|parking_aisle|driveway|emergency_access\"](43.15445613,-2.62199057,43.40391960,-2.17600228);>;);out;'}\"\n",
      "Downloaded 10,290.4KB from www.overpass-api.de in 1.08 seconds\n",
      "Posting to http://www.overpass-api.de/api/interpreter with timeout=180, \"{'data': '[out:json][timeout:180];(way[\"highway\"][\"highway\"!~\"cycleway|footway|path|pedestrian|steps|track|proposed|construction|bridleway|abandoned|platform|raceway|service\"][\"motor_vehicle\"!~\"no\"][\"motorcar\"!~\"no\"][\"service\"!~\"parking|parking_aisle|driveway|emergency_access\"](43.15046475,-2.17936200,43.40391960,-1.74033400);>;);out;'}\"\n",
      "Downloaded 16,802.3KB from www.overpass-api.de in 1.28 seconds\n",
      "Posting to http://www.overpass-api.de/api/interpreter with timeout=180, \"{'data': '[out:json][timeout:180];(way[\"highway\"][\"highway\"!~\"cycleway|footway|path|pedestrian|steps|track|proposed|construction|bridleway|abandoned|platform|raceway|service\"][\"motor_vehicle\"!~\"no\"][\"motorcar\"!~\"no\"][\"service\"!~\"parking|parking_aisle|driveway|emergency_access\"](42.90415500,-2.18267877,43.15445613,-1.74033400);>;);out;'}\"\n",
      "Downloaded 8,289.8KB from www.overpass-api.de in 0.86 seconds\n",
      "Downloaded OSM network data within bounding box from Overpass API in 4 request(s) and 5.89 seconds\n",
      "9,768 duplicate records removed. Took 2.34 seconds\n",
      "Returning OSM data with 381,792 nodes and 34,451 ways...\n",
      "Edge node pairs completed. Took 25.84 seconds\n",
      "Returning processed graph with 33,140 nodes and 83,800 edges...\n",
      "Completed OSM data download and Pandana node and edge table creation in 36.78 seconds\n"
     ]
    }
   ],
   "source": [
    "drive_nodes, drive_edges = osmnet.load.network_from_bbox(\n",
    "    lat_min=lat_min, lng_min=long_min, lat_max=lat_max,\n",
    "    lng_max=long_max, network_type='drive', two_way=False)"
   ]
  },
  {
   "cell_type": "code",
   "execution_count": 7,
   "metadata": {},
   "outputs": [],
   "source": [
    "drive_nodes=drive_nodes.rename(columns = {'x': 'lon', 'y': 'lat'})"
   ]
  },
  {
   "cell_type": "code",
   "execution_count": 8,
   "metadata": {},
   "outputs": [],
   "source": [
    "# Add lat and long to each edge\n",
    "\n",
    "drive_edges=drive_edges.merge(drive_nodes, how='left', left_on='from', right_index=True).rename(\n",
    "    columns={'lon': 'from_lon', 'lat': 'from_lat'})\n",
    "drive_edges=drive_edges.merge(drive_nodes, how='left', left_on='to', right_index=True).rename(\n",
    "    columns={'lon': 'to_lon', 'lat': 'to_lat'})"
   ]
  },
  {
   "cell_type": "code",
   "execution_count": 9,
   "metadata": {},
   "outputs": [],
   "source": [
    "drive_edges['geometry']=drive_edges.apply(\n",
    "    lambda row: LineString([[row['from_lon'], row['from_lat']],\n",
    "                             [row['to_lon'], row['to_lat']]]), axis=1)"
   ]
  },
  {
   "cell_type": "code",
   "execution_count": 10,
   "metadata": {},
   "outputs": [
    {
     "data": {
      "text/html": [
       "<div>\n",
       "<style scoped>\n",
       "    .dataframe tbody tr th:only-of-type {\n",
       "        vertical-align: middle;\n",
       "    }\n",
       "\n",
       "    .dataframe tbody tr th {\n",
       "        vertical-align: top;\n",
       "    }\n",
       "\n",
       "    .dataframe thead th {\n",
       "        text-align: right;\n",
       "    }\n",
       "</style>\n",
       "<table border=\"1\" class=\"dataframe\">\n",
       "  <thead>\n",
       "    <tr style=\"text-align: right;\">\n",
       "      <th></th>\n",
       "      <th></th>\n",
       "      <th>from</th>\n",
       "      <th>to</th>\n",
       "      <th>distance</th>\n",
       "      <th>name</th>\n",
       "      <th>ref</th>\n",
       "      <th>highway</th>\n",
       "      <th>service</th>\n",
       "      <th>bridge</th>\n",
       "      <th>tunnel</th>\n",
       "      <th>access</th>\n",
       "      <th>...</th>\n",
       "      <th>area</th>\n",
       "      <th>width</th>\n",
       "      <th>junction</th>\n",
       "      <th>from_lon</th>\n",
       "      <th>from_lat</th>\n",
       "      <th>id_x</th>\n",
       "      <th>to_lon</th>\n",
       "      <th>to_lat</th>\n",
       "      <th>id_y</th>\n",
       "      <th>geometry</th>\n",
       "    </tr>\n",
       "  </thead>\n",
       "  <tbody>\n",
       "    <tr>\n",
       "      <th>833859</th>\n",
       "      <th>301662479</th>\n",
       "      <td>833859</td>\n",
       "      <td>301662479</td>\n",
       "      <td>20.132225</td>\n",
       "      <td>Beasain-Bergara autobia</td>\n",
       "      <td>AP-636</td>\n",
       "      <td>motorway</td>\n",
       "      <td>NaN</td>\n",
       "      <td>yes</td>\n",
       "      <td>NaN</td>\n",
       "      <td>NaN</td>\n",
       "      <td>...</td>\n",
       "      <td>NaN</td>\n",
       "      <td>NaN</td>\n",
       "      <td>NaN</td>\n",
       "      <td>-2.216077</td>\n",
       "      <td>43.044569</td>\n",
       "      <td>833859</td>\n",
       "      <td>-2.216319</td>\n",
       "      <td>43.044609</td>\n",
       "      <td>301662479</td>\n",
       "      <td>LINESTRING (-2.21608 43.04457, -2.21632 43.04461)</td>\n",
       "    </tr>\n",
       "    <tr>\n",
       "      <th>301662479</th>\n",
       "      <th>833859</th>\n",
       "      <td>301662479</td>\n",
       "      <td>833859</td>\n",
       "      <td>20.132225</td>\n",
       "      <td>Beasain-Bergara autobia</td>\n",
       "      <td>AP-636</td>\n",
       "      <td>motorway</td>\n",
       "      <td>NaN</td>\n",
       "      <td>yes</td>\n",
       "      <td>NaN</td>\n",
       "      <td>NaN</td>\n",
       "      <td>...</td>\n",
       "      <td>NaN</td>\n",
       "      <td>NaN</td>\n",
       "      <td>NaN</td>\n",
       "      <td>-2.216319</td>\n",
       "      <td>43.044609</td>\n",
       "      <td>301662479</td>\n",
       "      <td>-2.216077</td>\n",
       "      <td>43.044569</td>\n",
       "      <td>833859</td>\n",
       "      <td>LINESTRING (-2.21632 43.04461, -2.21608 43.04457)</td>\n",
       "    </tr>\n",
       "    <tr>\n",
       "      <th>5462312</th>\n",
       "      <th>299850007</th>\n",
       "      <td>5462312</td>\n",
       "      <td>299850007</td>\n",
       "      <td>56.146191</td>\n",
       "      <td>NaN</td>\n",
       "      <td>NaN</td>\n",
       "      <td>trunk_link</td>\n",
       "      <td>NaN</td>\n",
       "      <td>NaN</td>\n",
       "      <td>NaN</td>\n",
       "      <td>NaN</td>\n",
       "      <td>...</td>\n",
       "      <td>NaN</td>\n",
       "      <td>NaN</td>\n",
       "      <td>NaN</td>\n",
       "      <td>-2.462793</td>\n",
       "      <td>43.076158</td>\n",
       "      <td>5462312</td>\n",
       "      <td>-2.463082</td>\n",
       "      <td>43.076616</td>\n",
       "      <td>299850007</td>\n",
       "      <td>LINESTRING (-2.46279 43.07616, -2.46308 43.07662)</td>\n",
       "    </tr>\n",
       "    <tr>\n",
       "      <th rowspan=\"2\" valign=\"top\">299850007</th>\n",
       "      <th>5462312</th>\n",
       "      <td>299850007</td>\n",
       "      <td>5462312</td>\n",
       "      <td>56.146191</td>\n",
       "      <td>NaN</td>\n",
       "      <td>NaN</td>\n",
       "      <td>trunk_link</td>\n",
       "      <td>NaN</td>\n",
       "      <td>NaN</td>\n",
       "      <td>NaN</td>\n",
       "      <td>NaN</td>\n",
       "      <td>...</td>\n",
       "      <td>NaN</td>\n",
       "      <td>NaN</td>\n",
       "      <td>NaN</td>\n",
       "      <td>-2.463082</td>\n",
       "      <td>43.076616</td>\n",
       "      <td>299850007</td>\n",
       "      <td>-2.462793</td>\n",
       "      <td>43.076158</td>\n",
       "      <td>5462312</td>\n",
       "      <td>LINESTRING (-2.46308 43.07662, -2.46279 43.07616)</td>\n",
       "    </tr>\n",
       "    <tr>\n",
       "      <th>299850058</th>\n",
       "      <td>299850007</td>\n",
       "      <td>299850058</td>\n",
       "      <td>368.407367</td>\n",
       "      <td>NaN</td>\n",
       "      <td>NaN</td>\n",
       "      <td>trunk_link</td>\n",
       "      <td>NaN</td>\n",
       "      <td>NaN</td>\n",
       "      <td>NaN</td>\n",
       "      <td>NaN</td>\n",
       "      <td>...</td>\n",
       "      <td>NaN</td>\n",
       "      <td>NaN</td>\n",
       "      <td>NaN</td>\n",
       "      <td>-2.463082</td>\n",
       "      <td>43.076616</td>\n",
       "      <td>299850007</td>\n",
       "      <td>-2.464266</td>\n",
       "      <td>43.079813</td>\n",
       "      <td>299850058</td>\n",
       "      <td>LINESTRING (-2.46308 43.07662, -2.46427 43.07981)</td>\n",
       "    </tr>\n",
       "    <tr>\n",
       "      <th>...</th>\n",
       "      <th>...</th>\n",
       "      <td>...</td>\n",
       "      <td>...</td>\n",
       "      <td>...</td>\n",
       "      <td>...</td>\n",
       "      <td>...</td>\n",
       "      <td>...</td>\n",
       "      <td>...</td>\n",
       "      <td>...</td>\n",
       "      <td>...</td>\n",
       "      <td>...</td>\n",
       "      <td>...</td>\n",
       "      <td>...</td>\n",
       "      <td>...</td>\n",
       "      <td>...</td>\n",
       "      <td>...</td>\n",
       "      <td>...</td>\n",
       "      <td>...</td>\n",
       "      <td>...</td>\n",
       "      <td>...</td>\n",
       "      <td>...</td>\n",
       "      <td>...</td>\n",
       "    </tr>\n",
       "    <tr>\n",
       "      <th>12480434029</th>\n",
       "      <th>286469862</th>\n",
       "      <td>12480434029</td>\n",
       "      <td>286469862</td>\n",
       "      <td>33.620990</td>\n",
       "      <td>NaN</td>\n",
       "      <td>NaN</td>\n",
       "      <td>tertiary</td>\n",
       "      <td>NaN</td>\n",
       "      <td>NaN</td>\n",
       "      <td>NaN</td>\n",
       "      <td>NaN</td>\n",
       "      <td>...</td>\n",
       "      <td>NaN</td>\n",
       "      <td>NaN</td>\n",
       "      <td>NaN</td>\n",
       "      <td>-2.034990</td>\n",
       "      <td>43.099075</td>\n",
       "      <td>12480434029</td>\n",
       "      <td>-2.034639</td>\n",
       "      <td>43.098915</td>\n",
       "      <td>286469862</td>\n",
       "      <td>LINESTRING (-2.03499 43.09908, -2.03464 43.09892)</td>\n",
       "    </tr>\n",
       "    <tr>\n",
       "      <th>641916002</th>\n",
       "      <th>286469862</th>\n",
       "      <td>641916002</td>\n",
       "      <td>286469862</td>\n",
       "      <td>24.920460</td>\n",
       "      <td>NaN</td>\n",
       "      <td>NaN</td>\n",
       "      <td>tertiary</td>\n",
       "      <td>NaN</td>\n",
       "      <td>NaN</td>\n",
       "      <td>NaN</td>\n",
       "      <td>NaN</td>\n",
       "      <td>...</td>\n",
       "      <td>NaN</td>\n",
       "      <td>NaN</td>\n",
       "      <td>NaN</td>\n",
       "      <td>-2.034889</td>\n",
       "      <td>43.098785</td>\n",
       "      <td>641916002</td>\n",
       "      <td>-2.034639</td>\n",
       "      <td>43.098915</td>\n",
       "      <td>286469862</td>\n",
       "      <td>LINESTRING (-2.03489 43.09879, -2.03464 43.09892)</td>\n",
       "    </tr>\n",
       "    <tr>\n",
       "      <th rowspan=\"2\" valign=\"top\">286469862</th>\n",
       "      <th>641916002</th>\n",
       "      <td>286469862</td>\n",
       "      <td>641916002</td>\n",
       "      <td>24.920460</td>\n",
       "      <td>NaN</td>\n",
       "      <td>NaN</td>\n",
       "      <td>tertiary</td>\n",
       "      <td>NaN</td>\n",
       "      <td>NaN</td>\n",
       "      <td>NaN</td>\n",
       "      <td>NaN</td>\n",
       "      <td>...</td>\n",
       "      <td>NaN</td>\n",
       "      <td>NaN</td>\n",
       "      <td>NaN</td>\n",
       "      <td>-2.034639</td>\n",
       "      <td>43.098915</td>\n",
       "      <td>286469862</td>\n",
       "      <td>-2.034889</td>\n",
       "      <td>43.098785</td>\n",
       "      <td>641916002</td>\n",
       "      <td>LINESTRING (-2.03464 43.09892, -2.03489 43.09879)</td>\n",
       "    </tr>\n",
       "    <tr>\n",
       "      <th>12480434046</th>\n",
       "      <td>286469862</td>\n",
       "      <td>12480434046</td>\n",
       "      <td>22.851751</td>\n",
       "      <td>NaN</td>\n",
       "      <td>NaN</td>\n",
       "      <td>tertiary</td>\n",
       "      <td>NaN</td>\n",
       "      <td>NaN</td>\n",
       "      <td>NaN</td>\n",
       "      <td>NaN</td>\n",
       "      <td>...</td>\n",
       "      <td>NaN</td>\n",
       "      <td>NaN</td>\n",
       "      <td>NaN</td>\n",
       "      <td>-2.034639</td>\n",
       "      <td>43.098915</td>\n",
       "      <td>286469862</td>\n",
       "      <td>-2.034920</td>\n",
       "      <td>43.098926</td>\n",
       "      <td>12480434046</td>\n",
       "      <td>LINESTRING (-2.03464 43.09892, -2.03492 43.09893)</td>\n",
       "    </tr>\n",
       "    <tr>\n",
       "      <th>12480434046</th>\n",
       "      <th>286469862</th>\n",
       "      <td>12480434046</td>\n",
       "      <td>286469862</td>\n",
       "      <td>22.851751</td>\n",
       "      <td>NaN</td>\n",
       "      <td>NaN</td>\n",
       "      <td>tertiary</td>\n",
       "      <td>NaN</td>\n",
       "      <td>NaN</td>\n",
       "      <td>NaN</td>\n",
       "      <td>NaN</td>\n",
       "      <td>...</td>\n",
       "      <td>NaN</td>\n",
       "      <td>NaN</td>\n",
       "      <td>NaN</td>\n",
       "      <td>-2.034920</td>\n",
       "      <td>43.098926</td>\n",
       "      <td>12480434046</td>\n",
       "      <td>-2.034639</td>\n",
       "      <td>43.098915</td>\n",
       "      <td>286469862</td>\n",
       "      <td>LINESTRING (-2.03492 43.09893, -2.03464 43.09892)</td>\n",
       "    </tr>\n",
       "  </tbody>\n",
       "</table>\n",
       "<p>83800 rows × 24 columns</p>\n",
       "</div>"
      ],
      "text/plain": [
       "                                from           to    distance  \\\n",
       "833859      301662479         833859    301662479   20.132225   \n",
       "301662479   833859         301662479       833859   20.132225   \n",
       "5462312     299850007        5462312    299850007   56.146191   \n",
       "299850007   5462312        299850007      5462312   56.146191   \n",
       "            299850058      299850007    299850058  368.407367   \n",
       "...                              ...          ...         ...   \n",
       "12480434029 286469862    12480434029    286469862   33.620990   \n",
       "641916002   286469862      641916002    286469862   24.920460   \n",
       "286469862   641916002      286469862    641916002   24.920460   \n",
       "            12480434046    286469862  12480434046   22.851751   \n",
       "12480434046 286469862    12480434046    286469862   22.851751   \n",
       "\n",
       "                                            name     ref     highway service  \\\n",
       "833859      301662479    Beasain-Bergara autobia  AP-636    motorway     NaN   \n",
       "301662479   833859       Beasain-Bergara autobia  AP-636    motorway     NaN   \n",
       "5462312     299850007                        NaN     NaN  trunk_link     NaN   \n",
       "299850007   5462312                          NaN     NaN  trunk_link     NaN   \n",
       "            299850058                        NaN     NaN  trunk_link     NaN   \n",
       "...                                          ...     ...         ...     ...   \n",
       "12480434029 286469862                        NaN     NaN    tertiary     NaN   \n",
       "641916002   286469862                        NaN     NaN    tertiary     NaN   \n",
       "286469862   641916002                        NaN     NaN    tertiary     NaN   \n",
       "            12480434046                      NaN     NaN    tertiary     NaN   \n",
       "12480434046 286469862                        NaN     NaN    tertiary     NaN   \n",
       "\n",
       "                        bridge tunnel access  ... area width junction  \\\n",
       "833859      301662479      yes    NaN    NaN  ...  NaN   NaN      NaN   \n",
       "301662479   833859         yes    NaN    NaN  ...  NaN   NaN      NaN   \n",
       "5462312     299850007      NaN    NaN    NaN  ...  NaN   NaN      NaN   \n",
       "299850007   5462312        NaN    NaN    NaN  ...  NaN   NaN      NaN   \n",
       "            299850058      NaN    NaN    NaN  ...  NaN   NaN      NaN   \n",
       "...                        ...    ...    ...  ...  ...   ...      ...   \n",
       "12480434029 286469862      NaN    NaN    NaN  ...  NaN   NaN      NaN   \n",
       "641916002   286469862      NaN    NaN    NaN  ...  NaN   NaN      NaN   \n",
       "286469862   641916002      NaN    NaN    NaN  ...  NaN   NaN      NaN   \n",
       "            12480434046    NaN    NaN    NaN  ...  NaN   NaN      NaN   \n",
       "12480434046 286469862      NaN    NaN    NaN  ...  NaN   NaN      NaN   \n",
       "\n",
       "                         from_lon   from_lat         id_x    to_lon  \\\n",
       "833859      301662479   -2.216077  43.044569       833859 -2.216319   \n",
       "301662479   833859      -2.216319  43.044609    301662479 -2.216077   \n",
       "5462312     299850007   -2.462793  43.076158      5462312 -2.463082   \n",
       "299850007   5462312     -2.463082  43.076616    299850007 -2.462793   \n",
       "            299850058   -2.463082  43.076616    299850007 -2.464266   \n",
       "...                           ...        ...          ...       ...   \n",
       "12480434029 286469862   -2.034990  43.099075  12480434029 -2.034639   \n",
       "641916002   286469862   -2.034889  43.098785    641916002 -2.034639   \n",
       "286469862   641916002   -2.034639  43.098915    286469862 -2.034889   \n",
       "            12480434046 -2.034639  43.098915    286469862 -2.034920   \n",
       "12480434046 286469862   -2.034920  43.098926  12480434046 -2.034639   \n",
       "\n",
       "                            to_lat         id_y  \\\n",
       "833859      301662479    43.044609    301662479   \n",
       "301662479   833859       43.044569       833859   \n",
       "5462312     299850007    43.076616    299850007   \n",
       "299850007   5462312      43.076158      5462312   \n",
       "            299850058    43.079813    299850058   \n",
       "...                            ...          ...   \n",
       "12480434029 286469862    43.098915    286469862   \n",
       "641916002   286469862    43.098915    286469862   \n",
       "286469862   641916002    43.098785    641916002   \n",
       "            12480434046  43.098926  12480434046   \n",
       "12480434046 286469862    43.098915    286469862   \n",
       "\n",
       "                                                                  geometry  \n",
       "833859      301662479    LINESTRING (-2.21608 43.04457, -2.21632 43.04461)  \n",
       "301662479   833859       LINESTRING (-2.21632 43.04461, -2.21608 43.04457)  \n",
       "5462312     299850007    LINESTRING (-2.46279 43.07616, -2.46308 43.07662)  \n",
       "299850007   5462312      LINESTRING (-2.46308 43.07662, -2.46279 43.07616)  \n",
       "            299850058    LINESTRING (-2.46308 43.07662, -2.46427 43.07981)  \n",
       "...                                                                    ...  \n",
       "12480434029 286469862    LINESTRING (-2.03499 43.09908, -2.03464 43.09892)  \n",
       "641916002   286469862    LINESTRING (-2.03489 43.09879, -2.03464 43.09892)  \n",
       "286469862   641916002    LINESTRING (-2.03464 43.09892, -2.03489 43.09879)  \n",
       "            12480434046  LINESTRING (-2.03464 43.09892, -2.03492 43.09893)  \n",
       "12480434046 286469862    LINESTRING (-2.03492 43.09893, -2.03464 43.09892)  \n",
       "\n",
       "[83800 rows x 24 columns]"
      ]
     },
     "execution_count": 10,
     "metadata": {},
     "output_type": "execute_result"
    }
   ],
   "source": [
    "# Create geodataframe\n",
    "\n",
    "drive_edges_gdf=gpd.GeoDataFrame(data=drive_edges, geometry='geometry', crs='epsg:4326')\n",
    "drive_edges_gdf"
   ]
  },
  {
   "cell_type": "markdown",
   "metadata": {},
   "source": [
    "Ensure all roads have valid speed"
   ]
  },
  {
   "cell_type": "code",
   "execution_count": 11,
   "metadata": {},
   "outputs": [],
   "source": [
    "# Delete \"_link\"\n",
    "\n",
    "drive_edges_gdf['highway']=drive_edges_gdf['highway'].apply(lambda hw: hw.replace('_link', ''))\n",
    "\n",
    "# Fill null values\n",
    "# Then, change from \"60 km/h\" to \"60\"\n",
    "\n",
    "drive_edges_gdf['maxspeed']=drive_edges_gdf['maxspeed'].fillna(0)\n",
    "drive_edges_gdf['maxspeed']=drive_edges_gdf['maxspeed'].apply(lambda s: int(str(s).split(' ')[0]))\n",
    "\n",
    "# Group highways with type and save mode for each type\n",
    "\n",
    "grouped = drive_edges_gdf.loc[drive_edges_gdf['maxspeed']>0].groupby('highway')['maxspeed'].agg(pd.Series.mode)\n",
    "for t in drive_edges_gdf.highway.unique():\n",
    "    if t not in grouped.keys():\n",
    "        grouped[t] = grouped[\"unclassified\"]\n",
    "\n",
    "# Replace zero values with group mode\n",
    "drive_edges_gdf.loc[drive_edges_gdf['maxspeed'] == 0, 'maxspeed'] = drive_edges_gdf.loc[drive_edges_gdf['maxspeed'] == 0, 'highway'].apply(lambda x: grouped[x])"
   ]
  },
  {
   "cell_type": "code",
   "execution_count": 12,
   "metadata": {},
   "outputs": [],
   "source": [
    "# Add m/s speed and time as a function of distance and speed.\n",
    "\n",
    "drive_edges_gdf['speed_m_s']=0.8*drive_edges_gdf['maxspeed']*1000/3600\n",
    "drive_edges_gdf['drive_time_s']=drive_edges_gdf['distance']/drive_edges_gdf['speed_m_s']"
   ]
  },
  {
   "cell_type": "markdown",
   "metadata": {},
   "source": [
    "Create shapefile for GAMA"
   ]
  },
  {
   "cell_type": "code",
   "execution_count": 13,
   "metadata": {},
   "outputs": [],
   "source": [
    "# drive_edges_gdf.to_file(f\"data/drive_shapefile.shp\", driver='ESRI Shapefile')"
   ]
  },
  {
   "cell_type": "markdown",
   "metadata": {},
   "source": [
    "Create pandana network"
   ]
  },
  {
   "cell_type": "code",
   "execution_count": 14,
   "metadata": {},
   "outputs": [],
   "source": [
    "drive_net_pdna=pandana.network.Network(\n",
    "    drive_nodes['lon'], drive_nodes['lat'],\n",
    "    drive_edges_gdf['from'], drive_edges_gdf['to'],\n",
    "    drive_edges_gdf[['distance','speed_m_s','drive_time_s']], twoway=False)"
   ]
  },
  {
   "cell_type": "code",
   "execution_count": 16,
   "metadata": {},
   "outputs": [],
   "source": [
    "drive_net_pdna.save_hdf5(\"../networks/drive_net.h5\")"
   ]
  },
  {
   "cell_type": "code",
   "execution_count": 18,
   "metadata": {},
   "outputs": [],
   "source": [
    "drive_nodes.to_csv(\"../networks/drive_nodes.csv\")"
   ]
  },
  {
   "cell_type": "code",
   "execution_count": 19,
   "metadata": {},
   "outputs": [],
   "source": [
    "# drive_edges_gdf.to_file('../data/drive_net.geojson', index=False)\n",
    "# drive_edges_gdf.to_file('../front_end/data/drive_net.geojson', index=False)\n",
    "# drive_nodes.to_csv('../data/drive_nodes.csv')"
   ]
  },
  {
   "cell_type": "markdown",
   "metadata": {},
   "source": [
    "Walk and Bike"
   ]
  },
  {
   "cell_type": "code",
   "execution_count": 20,
   "metadata": {},
   "outputs": [
    {
     "name": "stdout",
     "output_type": "stream",
     "text": [
      "Requesting network data within bounding box from Overpass API in 4 request(s)\n",
      "Posting to http://www.overpass-api.de/api/interpreter with timeout=180, \"{'data': '[out:json][timeout:180];(way[\"highway\"][\"highway\"!~\"motor|proposed|construction|abandoned|platform|raceway\"][\"foot\"!~\"no\"][\"pedestrians\"!~\"no\"](42.90415500,-2.62199057,43.15677470,-2.17936200);>;);out;'}\"\n",
      "Downloaded 46,332.1KB from www.overpass-api.de in 1.89 seconds\n",
      "Posting to http://www.overpass-api.de/api/interpreter with timeout=180, \"{'data': '[out:json][timeout:180];(way[\"highway\"][\"highway\"!~\"motor|proposed|construction|abandoned|platform|raceway\"][\"foot\"!~\"no\"][\"pedestrians\"!~\"no\"](43.15445613,-2.62199057,43.40391960,-2.17600228);>;);out;'}\"\n",
      "Downloaded 33,014.9KB from www.overpass-api.de in 1.58 seconds\n",
      "Posting to http://www.overpass-api.de/api/interpreter with timeout=180, \"{'data': '[out:json][timeout:180];(way[\"highway\"][\"highway\"!~\"motor|proposed|construction|abandoned|platform|raceway\"][\"foot\"!~\"no\"][\"pedestrians\"!~\"no\"](43.15046475,-2.17936200,43.40391960,-1.74033400);>;);out;'}\"\n",
      "Downloaded 55,405.8KB from www.overpass-api.de in 2.26 seconds\n",
      "Posting to http://www.overpass-api.de/api/interpreter with timeout=180, \"{'data': '[out:json][timeout:180];(way[\"highway\"][\"highway\"!~\"motor|proposed|construction|abandoned|platform|raceway\"][\"foot\"!~\"no\"][\"pedestrians\"!~\"no\"](42.90415500,-2.18267877,43.15445613,-1.74033400);>;);out;'}\"\n",
      "Downloaded 39,208.3KB from www.overpass-api.de in 1.70 seconds\n",
      "Downloaded OSM network data within bounding box from Overpass API in 4 request(s) and 12.79 seconds\n",
      "36,163 duplicate records removed. Took 11.09 seconds\n",
      "Returning OSM data with 1,486,212 nodes and 107,291 ways...\n",
      "Edge node pairs completed. Took 110.47 seconds\n",
      "Returning processed graph with 121,064 nodes and 328,244 edges...\n",
      "Completed OSM data download and Pandana node and edge table creation in 145.60 seconds\n"
     ]
    }
   ],
   "source": [
    "walk_nodes, walk_edges = osmnet.load.network_from_bbox(\n",
    "    lat_min=lat_min, lng_min=long_min, lat_max=lat_max,\n",
    "    lng_max=long_max, network_type='walk', two_way=False)"
   ]
  },
  {
   "cell_type": "code",
   "execution_count": 21,
   "metadata": {},
   "outputs": [],
   "source": [
    "walk_nodes=walk_nodes.rename(columns = {'x': 'lon', 'y': 'lat'})"
   ]
  },
  {
   "cell_type": "code",
   "execution_count": 22,
   "metadata": {},
   "outputs": [],
   "source": [
    "walk_edges=walk_edges.merge(walk_nodes, how='left', left_on='from', right_index=True).rename(\n",
    "    columns={'lon': 'from_lon', 'lat': 'from_lat'})\n",
    "walk_edges=walk_edges.merge(walk_nodes, how='left', left_on='to', right_index=True).rename(\n",
    "    columns={'lon': 'to_lon', 'lat': 'to_lat'})"
   ]
  },
  {
   "cell_type": "code",
   "execution_count": 23,
   "metadata": {},
   "outputs": [],
   "source": [
    "walk_edges['geometry']=walk_edges.apply(\n",
    "    lambda row: LineString([[row['from_lon'], row['from_lat']],\n",
    "                             [row['to_lon'], row['to_lat']]]), axis=1)"
   ]
  },
  {
   "cell_type": "code",
   "execution_count": 24,
   "metadata": {},
   "outputs": [],
   "source": [
    "walk_edges_gdf=gpd.GeoDataFrame(data=walk_edges, geometry='geometry', crs='epsg:4326')"
   ]
  },
  {
   "cell_type": "code",
   "execution_count": 26,
   "metadata": {},
   "outputs": [],
   "source": [
    "walk_nodes.to_csv(\"../networks/walk_nodes.csv\")"
   ]
  },
  {
   "cell_type": "markdown",
   "metadata": {},
   "source": [
    "Create walk pandana network"
   ]
  },
  {
   "cell_type": "code",
   "execution_count": 27,
   "metadata": {},
   "outputs": [],
   "source": [
    "walk_net_pdna=pandana.network.Network(\n",
    "    walk_nodes['lon'], walk_nodes['lat'],\n",
    "    walk_edges_gdf['from'], walk_edges_gdf['to'],\n",
    "    walk_edges_gdf[['distance']], twoway=False)"
   ]
  },
  {
   "cell_type": "code",
   "execution_count": 28,
   "metadata": {},
   "outputs": [],
   "source": [
    "walk_net_pdna.save_hdf5(\"../networks/walk_net.h5\")"
   ]
  },
  {
   "cell_type": "code",
   "execution_count": 29,
   "metadata": {},
   "outputs": [],
   "source": [
    "# walk_edges_gdf.to_file('../data/walk_net.geojson', index=False)\n",
    "# walk_edges_gdf.to_file('../front_end/data/walk_net.geojson', index=False)\n",
    "# walk_nodes.to_csv('../data/walk_nodes.csv')"
   ]
  },
  {
   "cell_type": "markdown",
   "metadata": {},
   "source": [
    "Create bike pandana network"
   ]
  },
  {
   "cell_type": "code",
   "execution_count": 30,
   "metadata": {},
   "outputs": [],
   "source": [
    "walk_net_pdna.save_hdf5(\"../networks/bike_net.h5\")"
   ]
  },
  {
   "cell_type": "code",
   "execution_count": 31,
   "metadata": {},
   "outputs": [],
   "source": [
    "# walk_edges_gdf.to_file('../data/bike_net.geojson', index=False)\n",
    "# walk_edges_gdf.to_file('../front_end/data/bike_net.geojson', index=False)\n",
    "# walk_nodes.to_csv('../data/bike_nodes.csv')"
   ]
  }
 ],
 "metadata": {
  "kernelspec": {
   "display_name": "Python 3",
   "language": "python",
   "name": "python3"
  },
  "language_info": {
   "codemirror_mode": {
    "name": "ipython",
    "version": 3
   },
   "file_extension": ".py",
   "mimetype": "text/x-python",
   "name": "python",
   "nbconvert_exporter": "python",
   "pygments_lexer": "ipython3",
   "version": "3.12.3"
  }
 },
 "nbformat": 4,
 "nbformat_minor": 2
}
