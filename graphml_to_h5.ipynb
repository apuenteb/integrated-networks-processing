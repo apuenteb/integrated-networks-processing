{
 "cells": [
  {
   "cell_type": "markdown",
   "metadata": {},
   "source": [
    "Load graphml file and transform into h5 file using pandana"
   ]
  },
  {
   "cell_type": "code",
   "execution_count": 13,
   "metadata": {},
   "outputs": [],
   "source": [
    "import networkx as nx\n",
    "\n",
    "G_temp=nx.read_graphml(\"gipuzkoa_walk_with_geometry.graphml\")"
   ]
  },
  {
   "cell_type": "code",
   "execution_count": 14,
   "metadata": {},
   "outputs": [],
   "source": [
    "import pandas as pd\n",
    "\n",
    "node_df=pd.DataFrame.from_dict(dict(G_temp.nodes(data=True)), orient=\"index\")\n",
    "edge_df=nx.to_pandas_edgelist(G_temp)"
   ]
  },
  {
   "cell_type": "code",
   "execution_count": 15,
   "metadata": {},
   "outputs": [
    {
     "name": "stdout",
     "output_type": "stream",
     "text": [
      "                 y           x street_count highway  ref\n",
      "448001  43.1795625  -2.4899828            3     NaN  NaN\n",
      "448006  43.1826552  -2.4814224            4     NaN  NaN\n",
      "451277  43.2049133   -2.425101            3     NaN  NaN\n",
      "451289  43.1927813  -2.4381722            3     NaN  NaN\n",
      "469501  43.1911116  -2.4516244            3     NaN  NaN\n"
     ]
    }
   ],
   "source": [
    "print(node_df.head())"
   ]
  },
  {
   "cell_type": "code",
   "execution_count": 16,
   "metadata": {},
   "outputs": [
    {
     "name": "stdout",
     "output_type": "stream",
     "text": [
      "   source      target reversed bridge  \\\n",
      "0  448001  3934729820    False    NaN   \n",
      "1  448001    25438648     True    yes   \n",
      "2  448001      916343     True    NaN   \n",
      "3  448006  5949227426     True    NaN   \n",
      "4  448006     6928916     True    NaN   \n",
      "\n",
      "                                            geometry      highway junction  \\\n",
      "0  LINESTRING (-2.4899828 43.1795625, -2.489874 4...     tertiary      NaN   \n",
      "1  LINESTRING (-2.4899828 43.1795625, -2.4900901 ...  residential      NaN   \n",
      "2  LINESTRING (-2.4899828 43.1795625, -2.4901355 ...     tertiary      NaN   \n",
      "3  LINESTRING (-2.4814224 43.1826552, -2.4816299 ...     tertiary      NaN   \n",
      "4  LINESTRING (-2.4814224 43.1826552, -2.4814342 ...  residential      NaN   \n",
      "\n",
      "  access maxspeed                             osmid      ref tunnel width  \\\n",
      "0    NaN      NaN                          44716332      NaN    NaN   NaN   \n",
      "1    NaN      NaN  [219375572, 219375573, 44716327]      NaN    NaN   NaN   \n",
      "2    NaN      NaN                        1009087270  BI-3344    NaN   NaN   \n",
      "3    NaN      NaN                           4358261      NaN    NaN   NaN   \n",
      "4    NaN      NaN                           4969606      NaN    NaN   NaN   \n",
      "\n",
      "  service                   name distance landuse lanes oneway  \n",
      "0     NaN       Otaola hiribidea  113.604     NaN     2  False  \n",
      "1     NaN  Tiburzio Anitua kalea   139.66     NaN     2  False  \n",
      "2     NaN     Gipuzkoa hiribidea   42.152     NaN     2  False  \n",
      "3     NaN       Otaola hiribidea   20.781     NaN     2  False  \n",
      "4     NaN                    NaN   78.047     NaN     2  False  \n"
     ]
    }
   ],
   "source": [
    "# rename length to distance\n",
    "edge_df=edge_df.rename(columns={\"length\": \"distance\"})\n",
    "print(edge_df.head())"
   ]
  },
  {
   "cell_type": "code",
   "execution_count": 17,
   "metadata": {},
   "outputs": [],
   "source": [
    "# Convert columns to numeric, forcing errors='coerce' to handle non-numeric values\n",
    "edge_df[\"distance\"] = pd.to_numeric(edge_df[\"distance\"], errors=\"coerce\")"
   ]
  },
  {
   "cell_type": "code",
   "execution_count": 20,
   "metadata": {},
   "outputs": [],
   "source": [
    "# just keep index, x and y from node_df\n",
    "node_df=node_df[[\"x\", \"y\"]]\n",
    "\n",
    "# just keep source, target and distance from edge_df\n",
    "edge_df=edge_df[[\"source\", \"target\", \"distance\"]]"
   ]
  },
  {
   "cell_type": "code",
   "execution_count": 21,
   "metadata": {},
   "outputs": [
    {
     "name": "stdout",
     "output_type": "stream",
     "text": [
      "                 x           y\n",
      "448001  -2.4899828  43.1795625\n",
      "448006  -2.4814224  43.1826552\n",
      "451277   -2.425101  43.2049133\n",
      "451289  -2.4381722  43.1927813\n",
      "469501  -2.4516244  43.1911116\n",
      "   source      target  distance\n",
      "0  448001  3934729820   113.604\n",
      "1  448001    25438648   139.660\n",
      "2  448001      916343    42.152\n",
      "3  448006  5949227426    20.781\n",
      "4  448006     6928916    78.047\n"
     ]
    }
   ],
   "source": [
    "print(node_df.head())\n",
    "print(edge_df.head())"
   ]
  },
  {
   "cell_type": "code",
   "execution_count": 22,
   "metadata": {},
   "outputs": [
    {
     "name": "stdout",
     "output_type": "stream",
     "text": [
      "<pandana.network.Network object at 0x0000020AA67A2EA0>\n"
     ]
    }
   ],
   "source": [
    "import pandana as pdna\n",
    "\n",
    "node_x=node_df[\"x\"]\n",
    "node_y=node_df[\"y\"]\n",
    "edge_from=edge_df[\"source\"]\n",
    "edge_to=edge_df[\"target\"]\n",
    "edge_weights=pd.DataFrame(edge_df[\"distance\"])\n",
    "\n",
    "walk_network = pdna.Network(node_x, node_y, edge_from, edge_to, edge_weights, twoway=True)\n",
    "\n",
    "print(walk_network)"
   ]
  },
  {
   "cell_type": "code",
   "execution_count": 23,
   "metadata": {},
   "outputs": [],
   "source": [
    "network_file=\"walk_network.h5\"\n",
    "walk_network.save_hdf5(network_file)"
   ]
  }
 ],
 "metadata": {
  "kernelspec": {
   "display_name": "Python 3",
   "language": "python",
   "name": "python3"
  },
  "language_info": {
   "codemirror_mode": {
    "name": "ipython",
    "version": 3
   },
   "file_extension": ".py",
   "mimetype": "text/x-python",
   "name": "python",
   "nbconvert_exporter": "python",
   "pygments_lexer": "ipython3",
   "version": "3.12.3"
  }
 },
 "nbformat": 4,
 "nbformat_minor": 2
}
