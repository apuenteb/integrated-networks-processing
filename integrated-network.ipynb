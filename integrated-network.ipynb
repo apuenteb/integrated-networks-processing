{
  "nbformat": 4,
  "nbformat_minor": 0,
  "metadata": {
    "colab": {
      "provenance": [],
      "mount_file_id": "1EwyhXqWawBd2nSHmPIdmwjqZao-3o9Zf",
      "authorship_tag": "ABX9TyNgPvn7/VaR77GmhZ/SfNZU"
    },
    "kernelspec": {
      "name": "python3",
      "display_name": "Python 3"
    },
    "language_info": {
      "name": "python"
    }
  },
  "cells": [
    {
      "cell_type": "code",
      "source": [
        "!pip install pandas==1.5.3"
      ],
      "metadata": {
        "colab": {
          "base_uri": "https://localhost:8080/"
        },
        "id": "i0LSF021hhHa",
        "outputId": "fa772100-c4bb-46dd-b992-f00c231b56d3"
      },
      "execution_count": 1,
      "outputs": [
        {
          "output_type": "stream",
          "name": "stdout",
          "text": [
            "Requirement already satisfied: pandas==1.5.3 in /usr/local/lib/python3.11/dist-packages (1.5.3)\n",
            "Requirement already satisfied: python-dateutil>=2.8.1 in /usr/local/lib/python3.11/dist-packages (from pandas==1.5.3) (2.8.2)\n",
            "Requirement already satisfied: pytz>=2020.1 in /usr/local/lib/python3.11/dist-packages (from pandas==1.5.3) (2024.2)\n",
            "Requirement already satisfied: numpy>=1.21.0 in /usr/local/lib/python3.11/dist-packages (from pandas==1.5.3) (1.26.4)\n",
            "Requirement already satisfied: six>=1.5 in /usr/local/lib/python3.11/dist-packages (from python-dateutil>=2.8.1->pandas==1.5.3) (1.17.0)\n"
          ]
        }
      ]
    },
    {
      "cell_type": "code",
      "execution_count": 2,
      "metadata": {
        "colab": {
          "base_uri": "https://localhost:8080/"
        },
        "id": "HSmdkJAyIoQv",
        "outputId": "0f73b385-5ba9-45a9-cd0b-1d97f89164ba"
      },
      "outputs": [
        {
          "output_type": "stream",
          "name": "stdout",
          "text": [
            "Requirement already satisfied: urbanaccess in /usr/local/lib/python3.11/dist-packages (0.2.2)\n",
            "Requirement already satisfied: requests>=2.9.1 in /usr/local/lib/python3.11/dist-packages (from urbanaccess) (2.32.3)\n",
            "Requirement already satisfied: six>=1.11 in /usr/local/lib/python3.11/dist-packages (from urbanaccess) (1.17.0)\n",
            "Requirement already satisfied: pandas>=0.17.0 in /usr/local/lib/python3.11/dist-packages (from urbanaccess) (1.5.3)\n",
            "Requirement already satisfied: numpy>=1.11 in /usr/local/lib/python3.11/dist-packages (from urbanaccess) (1.26.4)\n",
            "Requirement already satisfied: osmnet>=0.1.4 in /usr/local/lib/python3.11/dist-packages (from urbanaccess) (0.1.7)\n",
            "Requirement already satisfied: pandana>=0.2.0 in /usr/local/lib/python3.11/dist-packages (from urbanaccess) (0.7)\n",
            "Requirement already satisfied: matplotlib>=2.0 in /usr/local/lib/python3.11/dist-packages (from urbanaccess) (3.10.0)\n",
            "Requirement already satisfied: geopy>=1.11.0 in /usr/local/lib/python3.11/dist-packages (from urbanaccess) (2.4.1)\n",
            "Requirement already satisfied: pyyaml>=3.11 in /usr/local/lib/python3.11/dist-packages (from urbanaccess) (6.0.2)\n",
            "Requirement already satisfied: scikit-learn>=0.17.1 in /usr/local/lib/python3.11/dist-packages (from urbanaccess) (1.6.1)\n",
            "Requirement already satisfied: geographiclib<3,>=1.52 in /usr/local/lib/python3.11/dist-packages (from geopy>=1.11.0->urbanaccess) (2.0)\n",
            "Requirement already satisfied: contourpy>=1.0.1 in /usr/local/lib/python3.11/dist-packages (from matplotlib>=2.0->urbanaccess) (1.3.1)\n",
            "Requirement already satisfied: cycler>=0.10 in /usr/local/lib/python3.11/dist-packages (from matplotlib>=2.0->urbanaccess) (0.12.1)\n",
            "Requirement already satisfied: fonttools>=4.22.0 in /usr/local/lib/python3.11/dist-packages (from matplotlib>=2.0->urbanaccess) (4.55.7)\n",
            "Requirement already satisfied: kiwisolver>=1.3.1 in /usr/local/lib/python3.11/dist-packages (from matplotlib>=2.0->urbanaccess) (1.4.8)\n",
            "Requirement already satisfied: packaging>=20.0 in /usr/local/lib/python3.11/dist-packages (from matplotlib>=2.0->urbanaccess) (24.2)\n",
            "Requirement already satisfied: pillow>=8 in /usr/local/lib/python3.11/dist-packages (from matplotlib>=2.0->urbanaccess) (11.1.0)\n",
            "Requirement already satisfied: pyparsing>=2.3.1 in /usr/local/lib/python3.11/dist-packages (from matplotlib>=2.0->urbanaccess) (3.2.1)\n",
            "Requirement already satisfied: python-dateutil>=2.7 in /usr/local/lib/python3.11/dist-packages (from matplotlib>=2.0->urbanaccess) (2.8.2)\n",
            "Requirement already satisfied: geopandas>=0.11 in /usr/local/lib/python3.11/dist-packages (from osmnet>=0.1.4->urbanaccess) (1.0.1)\n",
            "Requirement already satisfied: shapely>=1.8 in /usr/local/lib/python3.11/dist-packages (from osmnet>=0.1.4->urbanaccess) (2.0.6)\n",
            "Requirement already satisfied: tables>=3.1 in /usr/local/lib/python3.11/dist-packages (from pandana>=0.2.0->urbanaccess) (3.10.2)\n",
            "Requirement already satisfied: pytz>=2020.1 in /usr/local/lib/python3.11/dist-packages (from pandas>=0.17.0->urbanaccess) (2024.2)\n",
            "Requirement already satisfied: charset-normalizer<4,>=2 in /usr/local/lib/python3.11/dist-packages (from requests>=2.9.1->urbanaccess) (3.4.1)\n",
            "Requirement already satisfied: idna<4,>=2.5 in /usr/local/lib/python3.11/dist-packages (from requests>=2.9.1->urbanaccess) (3.10)\n",
            "Requirement already satisfied: urllib3<3,>=1.21.1 in /usr/local/lib/python3.11/dist-packages (from requests>=2.9.1->urbanaccess) (2.3.0)\n",
            "Requirement already satisfied: certifi>=2017.4.17 in /usr/local/lib/python3.11/dist-packages (from requests>=2.9.1->urbanaccess) (2024.12.14)\n",
            "Requirement already satisfied: scipy>=1.6.0 in /usr/local/lib/python3.11/dist-packages (from scikit-learn>=0.17.1->urbanaccess) (1.13.1)\n",
            "Requirement already satisfied: joblib>=1.2.0 in /usr/local/lib/python3.11/dist-packages (from scikit-learn>=0.17.1->urbanaccess) (1.4.2)\n",
            "Requirement already satisfied: threadpoolctl>=3.1.0 in /usr/local/lib/python3.11/dist-packages (from scikit-learn>=0.17.1->urbanaccess) (3.5.0)\n",
            "Requirement already satisfied: pyogrio>=0.7.2 in /usr/local/lib/python3.11/dist-packages (from geopandas>=0.11->osmnet>=0.1.4->urbanaccess) (0.10.0)\n",
            "Requirement already satisfied: pyproj>=3.3.0 in /usr/local/lib/python3.11/dist-packages (from geopandas>=0.11->osmnet>=0.1.4->urbanaccess) (3.7.0)\n",
            "Requirement already satisfied: numexpr>=2.6.2 in /usr/local/lib/python3.11/dist-packages (from tables>=3.1->pandana>=0.2.0->urbanaccess) (2.10.2)\n",
            "Requirement already satisfied: py-cpuinfo in /usr/local/lib/python3.11/dist-packages (from tables>=3.1->pandana>=0.2.0->urbanaccess) (9.0.0)\n",
            "Requirement already satisfied: blosc2>=2.3.0 in /usr/local/lib/python3.11/dist-packages (from tables>=3.1->pandana>=0.2.0->urbanaccess) (3.0.0)\n",
            "Requirement already satisfied: typing-extensions>=4.4.0 in /usr/local/lib/python3.11/dist-packages (from tables>=3.1->pandana>=0.2.0->urbanaccess) (4.12.2)\n",
            "Requirement already satisfied: ndindex in /usr/local/lib/python3.11/dist-packages (from blosc2>=2.3.0->tables>=3.1->pandana>=0.2.0->urbanaccess) (1.9.2)\n",
            "Requirement already satisfied: msgpack in /usr/local/lib/python3.11/dist-packages (from blosc2>=2.3.0->tables>=3.1->pandana>=0.2.0->urbanaccess) (1.1.0)\n",
            "Requirement already satisfied: httpx in /usr/local/lib/python3.11/dist-packages (from blosc2>=2.3.0->tables>=3.1->pandana>=0.2.0->urbanaccess) (0.28.1)\n",
            "Requirement already satisfied: anyio in /usr/local/lib/python3.11/dist-packages (from httpx->blosc2>=2.3.0->tables>=3.1->pandana>=0.2.0->urbanaccess) (3.7.1)\n",
            "Requirement already satisfied: httpcore==1.* in /usr/local/lib/python3.11/dist-packages (from httpx->blosc2>=2.3.0->tables>=3.1->pandana>=0.2.0->urbanaccess) (1.0.7)\n",
            "Requirement already satisfied: h11<0.15,>=0.13 in /usr/local/lib/python3.11/dist-packages (from httpcore==1.*->httpx->blosc2>=2.3.0->tables>=3.1->pandana>=0.2.0->urbanaccess) (0.14.0)\n",
            "Requirement already satisfied: sniffio>=1.1 in /usr/local/lib/python3.11/dist-packages (from anyio->httpx->blosc2>=2.3.0->tables>=3.1->pandana>=0.2.0->urbanaccess) (1.3.1)\n"
          ]
        }
      ],
      "source": [
        "!pip install urbanaccess"
      ]
    },
    {
      "cell_type": "code",
      "source": [
        "import numpy as np\n",
        "import os\n",
        "import glob\n",
        "import statistics\n",
        "from pathlib import Path\n",
        "import re\n",
        "import requests\n",
        "from io import StringIO\n",
        "import random\n",
        "import pdb\n",
        "import matplotlib\n",
        "import pandas as pd\n",
        "import matplotlib.pyplot as plt\n",
        "import time\n",
        "import urbanaccess as ua\n",
        "from urbanaccess.config import settings\n",
        "from urbanaccess.gtfsfeeds import feeds\n",
        "from urbanaccess import gtfsfeeds\n",
        "from urbanaccess.gtfs.gtfsfeeds_dataframe import gtfsfeeds_dfs\n",
        "from urbanaccess.network import ua_network, load_network\n",
        "#import pandas as pd\n",
        "from datetime import datetime\n",
        "import pandana as pdn"
      ],
      "metadata": {
        "id": "4EPFqcQiIynT"
      },
      "execution_count": 3,
      "outputs": []
    },
    {
      "cell_type": "code",
      "source": [
        "feeds.add_feed(add_dict={'dbus': 'https://www.geo.euskadi.eus/cartografia/DatosDescarga/Transporte/Moveuskadi/ATTG/dbus/google_transit.zip'})\n",
        "feeds.add_feed(add_dict={'lurraldebus_areizaga': 'https://www.geo.euskadi.eus/cartografia/DatosDescarga/Transporte/Moveuskadi/ATTG/lurraldebus_areizaga/google_transit.zip'})\n",
        "feeds.add_feed(add_dict={'lurraldebus_arrasate': 'https://www.geo.euskadi.eus/cartografia/DatosDescarga/Transporte/Moveuskadi/ATTG/lurraldebus_arrasate/google_transit.zip'})\n",
        "feeds.add_feed(add_dict={'lurraldebus_auif_urb': 'https://www.geo.euskadi.eus/cartografia/DatosDescarga/Transporte/Moveuskadi/ATTG/lurraldebus_auif_urb/google_transit.zip'})\n",
        "feeds.add_feed(add_dict={'lurraldebus_eibar': 'https://www.geo.euskadi.eus/cartografia/DatosDescarga/Transporte/Moveuskadi/ATTG/lurraldebus_eibar/google_transit.zip'})\n",
        "feeds.add_feed(add_dict={'lurraldebus_ekialdebus': 'https://www.geo.euskadi.eus/cartografia/DatosDescarga/Transporte/Moveuskadi/ATTG/lurraldebus_ekialdebus/google_transit.zip'})\n",
        "feeds.add_feed(add_dict={'lurraldebus_euskotren_bus': 'https://www.geo.euskadi.eus/cartografia/DatosDescarga/Transporte/Moveuskadi/ATTG/lurraldebus_euskotren_bus/google_transit.zip'})\n",
        "feeds.add_feed(add_dict={'lurraldebus_garayar': 'https://www.geo.euskadi.eus/cartografia/DatosDescarga/Transporte/Moveuskadi/ATTG/lurraldebus_garayar/google_transit.zip'})\n",
        "feeds.add_feed(add_dict={'lurraldebus_gipuzkoana': 'https://www.geo.euskadi.eus/cartografia/DatosDescarga/Transporte/Moveuskadi/ATTG/lurraldebus_gipuzkoana/google_transit.zip'})\n",
        "feeds.add_feed(add_dict={'lurraldebus_goierrialdea': 'https://www.geo.euskadi.eus/cartografia/DatosDescarga/Transporte/Moveuskadi/ATTG/lurraldebus_goierrialdea/google_transit.zip'})\n",
        "feeds.add_feed(add_dict={'lurraldebus_hernani': 'https://www.geo.euskadi.eus/cartografia/DatosDescarga/Transporte/Moveuskadi/ATTG/lurraldebus_hernani/google_transit.zip'})\n",
        "feeds.add_feed(add_dict={'lurraldebus_lasarte': 'https://www.geo.euskadi.eus/cartografia/DatosDescarga/Transporte/Moveuskadi/ATTG/lurraldebus_lasarte/google_transit.zip'})\n",
        "feeds.add_feed(add_dict={'lurraldebus_oiartzun': 'https://www.geo.euskadi.eus/cartografia/DatosDescarga/Transporte/Moveuskadi/ATTG/lurraldebus_oiartzun/google_transit.zip'})\n",
        "feeds.add_feed(add_dict={'lurraldebus_pesa': 'https://www.geo.euskadi.eus/cartografia/DatosDescarga/Transporte/Moveuskadi/ATTG/lurraldebus_pesa/google_transit.zip'})\n",
        "feeds.add_feed(add_dict={'lurraldebus_renteria': 'https://www.geo.euskadi.eus/cartografia/DatosDescarga/Transporte/Moveuskadi/ATTG/lurraldebus_renteria/google_transit.zip'})\n",
        "feeds.add_feed(add_dict={'lurraldebus_tbh': 'https://www.geo.euskadi.eus/cartografia/DatosDescarga/Transporte/Moveuskadi/ATTG/lurraldebus_tbh/google_transit.zip'})\n",
        "feeds.add_feed(add_dict={'lurraldebus_tolosaldea': 'https://www.geo.euskadi.eus/cartografia/DatosDescarga/Transporte/Moveuskadi/ATTG/lurraldebus_tolosaldea/google_transit.zip'})\n",
        "feeds.add_feed(add_dict={'lurraldebus_tsst': 'https://www.geo.euskadi.eus/cartografia/DatosDescarga/Transporte/Moveuskadi/ATTG/lurraldebus_tsst/google_transit.zip'})\n",
        "feeds.add_feed(add_dict={'lurraldebus_zarautz': 'https://www.geo.euskadi.eus/cartografia/DatosDescarga/Transporte/Moveuskadi/ATTG/lurraldebus_zarautz/google_transit.zip'})\n",
        "feeds.add_feed(add_dict={'Euskotren': 'https://www.geo.euskadi.eus/cartografia/DatosDescarga/Transporte/Moveuskadi/Euskotren/google_transit.zip'})\n",
        "feeds.add_feed(add_dict={'Renfe': 'https://www.geo.euskadi.eus/cartografia/DatosDescarga/Transporte/Moveuskadi/Renfe/google_transit.zip'})\n",
        "\n",
        "#ANA: Commented because the file downloaded gives back an error, not a zip file\n",
        "feeds.add_feed(add_dict={'Renfe_cercanias': 'https://www.geo.euskadi.eus/cartografia/DatosDescarga/Transporte/Moveuskadi/Renfe_Cercanias/google_transit.zip'})\n",
        "\n",
        "\n",
        "#feeds.add_feed(add_dict={'SCP_routes': '.\\data\\gtfsfeed_zips\\routes_EZ_companies.zip'})\n",
        "# I download all these feeds, 70sg\n",
        "gtfsfeeds.download()"
      ],
      "metadata": {
        "colab": {
          "base_uri": "https://localhost:8080/"
        },
        "id": "F2tUqQndI3V3",
        "outputId": "bed9eb5d-c4cd-42da-a46c-c04ca946d59b"
      },
      "execution_count": 4,
      "outputs": [
        {
          "output_type": "stream",
          "name": "stderr",
          "text": [
            "INFO:urbanaccess:Added 1 feeds to gtfs_feeds: {'dbus': 'https://www.geo.euskadi.eus/cartografia/DatosDescarga/Transporte/Moveuskadi/ATTG/dbus/google_transit.zip'}\n",
            "INFO:urbanaccess:Added 1 feeds to gtfs_feeds: {'lurraldebus_areizaga': 'https://www.geo.euskadi.eus/cartografia/DatosDescarga/Transporte/Moveuskadi/ATTG/lurraldebus_areizaga/google_transit.zip'}\n",
            "INFO:urbanaccess:Added 1 feeds to gtfs_feeds: {'lurraldebus_arrasate': 'https://www.geo.euskadi.eus/cartografia/DatosDescarga/Transporte/Moveuskadi/ATTG/lurraldebus_arrasate/google_transit.zip'}\n",
            "INFO:urbanaccess:Added 1 feeds to gtfs_feeds: {'lurraldebus_auif_urb': 'https://www.geo.euskadi.eus/cartografia/DatosDescarga/Transporte/Moveuskadi/ATTG/lurraldebus_auif_urb/google_transit.zip'}\n",
            "INFO:urbanaccess:Added 1 feeds to gtfs_feeds: {'lurraldebus_eibar': 'https://www.geo.euskadi.eus/cartografia/DatosDescarga/Transporte/Moveuskadi/ATTG/lurraldebus_eibar/google_transit.zip'}\n",
            "INFO:urbanaccess:Added 1 feeds to gtfs_feeds: {'lurraldebus_ekialdebus': 'https://www.geo.euskadi.eus/cartografia/DatosDescarga/Transporte/Moveuskadi/ATTG/lurraldebus_ekialdebus/google_transit.zip'}\n",
            "INFO:urbanaccess:Added 1 feeds to gtfs_feeds: {'lurraldebus_euskotren_bus': 'https://www.geo.euskadi.eus/cartografia/DatosDescarga/Transporte/Moveuskadi/ATTG/lurraldebus_euskotren_bus/google_transit.zip'}\n",
            "INFO:urbanaccess:Added 1 feeds to gtfs_feeds: {'lurraldebus_garayar': 'https://www.geo.euskadi.eus/cartografia/DatosDescarga/Transporte/Moveuskadi/ATTG/lurraldebus_garayar/google_transit.zip'}\n",
            "INFO:urbanaccess:Added 1 feeds to gtfs_feeds: {'lurraldebus_gipuzkoana': 'https://www.geo.euskadi.eus/cartografia/DatosDescarga/Transporte/Moveuskadi/ATTG/lurraldebus_gipuzkoana/google_transit.zip'}\n",
            "INFO:urbanaccess:Added 1 feeds to gtfs_feeds: {'lurraldebus_goierrialdea': 'https://www.geo.euskadi.eus/cartografia/DatosDescarga/Transporte/Moveuskadi/ATTG/lurraldebus_goierrialdea/google_transit.zip'}\n",
            "INFO:urbanaccess:Added 1 feeds to gtfs_feeds: {'lurraldebus_hernani': 'https://www.geo.euskadi.eus/cartografia/DatosDescarga/Transporte/Moveuskadi/ATTG/lurraldebus_hernani/google_transit.zip'}\n",
            "INFO:urbanaccess:Added 1 feeds to gtfs_feeds: {'lurraldebus_lasarte': 'https://www.geo.euskadi.eus/cartografia/DatosDescarga/Transporte/Moveuskadi/ATTG/lurraldebus_lasarte/google_transit.zip'}\n",
            "INFO:urbanaccess:Added 1 feeds to gtfs_feeds: {'lurraldebus_oiartzun': 'https://www.geo.euskadi.eus/cartografia/DatosDescarga/Transporte/Moveuskadi/ATTG/lurraldebus_oiartzun/google_transit.zip'}\n",
            "INFO:urbanaccess:Added 1 feeds to gtfs_feeds: {'lurraldebus_pesa': 'https://www.geo.euskadi.eus/cartografia/DatosDescarga/Transporte/Moveuskadi/ATTG/lurraldebus_pesa/google_transit.zip'}\n",
            "INFO:urbanaccess:Added 1 feeds to gtfs_feeds: {'lurraldebus_renteria': 'https://www.geo.euskadi.eus/cartografia/DatosDescarga/Transporte/Moveuskadi/ATTG/lurraldebus_renteria/google_transit.zip'}\n",
            "INFO:urbanaccess:Added 1 feeds to gtfs_feeds: {'lurraldebus_tbh': 'https://www.geo.euskadi.eus/cartografia/DatosDescarga/Transporte/Moveuskadi/ATTG/lurraldebus_tbh/google_transit.zip'}\n",
            "INFO:urbanaccess:Added 1 feeds to gtfs_feeds: {'lurraldebus_tolosaldea': 'https://www.geo.euskadi.eus/cartografia/DatosDescarga/Transporte/Moveuskadi/ATTG/lurraldebus_tolosaldea/google_transit.zip'}\n",
            "INFO:urbanaccess:Added 1 feeds to gtfs_feeds: {'lurraldebus_tsst': 'https://www.geo.euskadi.eus/cartografia/DatosDescarga/Transporte/Moveuskadi/ATTG/lurraldebus_tsst/google_transit.zip'}\n",
            "INFO:urbanaccess:Added 1 feeds to gtfs_feeds: {'lurraldebus_zarautz': 'https://www.geo.euskadi.eus/cartografia/DatosDescarga/Transporte/Moveuskadi/ATTG/lurraldebus_zarautz/google_transit.zip'}\n",
            "INFO:urbanaccess:Added 1 feeds to gtfs_feeds: {'Euskotren': 'https://www.geo.euskadi.eus/cartografia/DatosDescarga/Transporte/Moveuskadi/Euskotren/google_transit.zip'}\n",
            "INFO:urbanaccess:Added 1 feeds to gtfs_feeds: {'Renfe': 'https://www.geo.euskadi.eus/cartografia/DatosDescarga/Transporte/Moveuskadi/Renfe/google_transit.zip'}\n",
            "INFO:urbanaccess:Added 1 feeds to gtfs_feeds: {'Renfe_cercanias': 'https://www.geo.euskadi.eus/cartografia/DatosDescarga/Transporte/Moveuskadi/Renfe_Cercanias/google_transit.zip'}\n",
            "INFO:urbanaccess:22 GTFS feed(s) will be downloaded here: data/gtfsfeed_zips\n"
          ]
        },
        {
          "output_type": "stream",
          "name": "stdout",
          "text": [
            "Added 1 feeds to gtfs_feeds: {'dbus': 'https://www.geo.euskadi.eus/cartografia/DatosDescarga/Transporte/Moveuskadi/ATTG/dbus/google_transit.zip'}\n",
            "Added 1 feeds to gtfs_feeds: {'lurraldebus_areizaga': 'https://www.geo.euskadi.eus/cartografia/DatosDescarga/Transporte/Moveuskadi/ATTG/lurraldebus_areizaga/google_transit.zip'}\n",
            "Added 1 feeds to gtfs_feeds: {'lurraldebus_arrasate': 'https://www.geo.euskadi.eus/cartografia/DatosDescarga/Transporte/Moveuskadi/ATTG/lurraldebus_arrasate/google_transit.zip'}\n",
            "Added 1 feeds to gtfs_feeds: {'lurraldebus_auif_urb': 'https://www.geo.euskadi.eus/cartografia/DatosDescarga/Transporte/Moveuskadi/ATTG/lurraldebus_auif_urb/google_transit.zip'}\n",
            "Added 1 feeds to gtfs_feeds: {'lurraldebus_eibar': 'https://www.geo.euskadi.eus/cartografia/DatosDescarga/Transporte/Moveuskadi/ATTG/lurraldebus_eibar/google_transit.zip'}\n",
            "Added 1 feeds to gtfs_feeds: {'lurraldebus_ekialdebus': 'https://www.geo.euskadi.eus/cartografia/DatosDescarga/Transporte/Moveuskadi/ATTG/lurraldebus_ekialdebus/google_transit.zip'}\n",
            "Added 1 feeds to gtfs_feeds: {'lurraldebus_euskotren_bus': 'https://www.geo.euskadi.eus/cartografia/DatosDescarga/Transporte/Moveuskadi/ATTG/lurraldebus_euskotren_bus/google_transit.zip'}\n",
            "Added 1 feeds to gtfs_feeds: {'lurraldebus_garayar': 'https://www.geo.euskadi.eus/cartografia/DatosDescarga/Transporte/Moveuskadi/ATTG/lurraldebus_garayar/google_transit.zip'}\n",
            "Added 1 feeds to gtfs_feeds: {'lurraldebus_gipuzkoana': 'https://www.geo.euskadi.eus/cartografia/DatosDescarga/Transporte/Moveuskadi/ATTG/lurraldebus_gipuzkoana/google_transit.zip'}\n",
            "Added 1 feeds to gtfs_feeds: {'lurraldebus_goierrialdea': 'https://www.geo.euskadi.eus/cartografia/DatosDescarga/Transporte/Moveuskadi/ATTG/lurraldebus_goierrialdea/google_transit.zip'}\n",
            "Added 1 feeds to gtfs_feeds: {'lurraldebus_hernani': 'https://www.geo.euskadi.eus/cartografia/DatosDescarga/Transporte/Moveuskadi/ATTG/lurraldebus_hernani/google_transit.zip'}\n",
            "Added 1 feeds to gtfs_feeds: {'lurraldebus_lasarte': 'https://www.geo.euskadi.eus/cartografia/DatosDescarga/Transporte/Moveuskadi/ATTG/lurraldebus_lasarte/google_transit.zip'}\n",
            "Added 1 feeds to gtfs_feeds: {'lurraldebus_oiartzun': 'https://www.geo.euskadi.eus/cartografia/DatosDescarga/Transporte/Moveuskadi/ATTG/lurraldebus_oiartzun/google_transit.zip'}\n",
            "Added 1 feeds to gtfs_feeds: {'lurraldebus_pesa': 'https://www.geo.euskadi.eus/cartografia/DatosDescarga/Transporte/Moveuskadi/ATTG/lurraldebus_pesa/google_transit.zip'}\n",
            "Added 1 feeds to gtfs_feeds: {'lurraldebus_renteria': 'https://www.geo.euskadi.eus/cartografia/DatosDescarga/Transporte/Moveuskadi/ATTG/lurraldebus_renteria/google_transit.zip'}\n",
            "Added 1 feeds to gtfs_feeds: {'lurraldebus_tbh': 'https://www.geo.euskadi.eus/cartografia/DatosDescarga/Transporte/Moveuskadi/ATTG/lurraldebus_tbh/google_transit.zip'}\n",
            "Added 1 feeds to gtfs_feeds: {'lurraldebus_tolosaldea': 'https://www.geo.euskadi.eus/cartografia/DatosDescarga/Transporte/Moveuskadi/ATTG/lurraldebus_tolosaldea/google_transit.zip'}\n",
            "Added 1 feeds to gtfs_feeds: {'lurraldebus_tsst': 'https://www.geo.euskadi.eus/cartografia/DatosDescarga/Transporte/Moveuskadi/ATTG/lurraldebus_tsst/google_transit.zip'}\n",
            "Added 1 feeds to gtfs_feeds: {'lurraldebus_zarautz': 'https://www.geo.euskadi.eus/cartografia/DatosDescarga/Transporte/Moveuskadi/ATTG/lurraldebus_zarautz/google_transit.zip'}\n",
            "Added 1 feeds to gtfs_feeds: {'Euskotren': 'https://www.geo.euskadi.eus/cartografia/DatosDescarga/Transporte/Moveuskadi/Euskotren/google_transit.zip'}\n",
            "Added 1 feeds to gtfs_feeds: {'Renfe': 'https://www.geo.euskadi.eus/cartografia/DatosDescarga/Transporte/Moveuskadi/Renfe/google_transit.zip'}\n",
            "Added 1 feeds to gtfs_feeds: {'Renfe_cercanias': 'https://www.geo.euskadi.eus/cartografia/DatosDescarga/Transporte/Moveuskadi/Renfe_Cercanias/google_transit.zip'}\n",
            "22 GTFS feed(s) will be downloaded here: data/gtfsfeed_zips\n"
          ]
        },
        {
          "output_type": "stream",
          "name": "stderr",
          "text": [
            "INFO:urbanaccess:dbus GTFS feed downloaded successfully. Took 2.59 seconds for 1,864,079.0KB\n"
          ]
        },
        {
          "output_type": "stream",
          "name": "stdout",
          "text": [
            "dbus GTFS feed downloaded successfully. Took 2.59 seconds for 1,864,079.0KB\n"
          ]
        },
        {
          "output_type": "stream",
          "name": "stderr",
          "text": [
            "INFO:urbanaccess:lurraldebus_areizaga GTFS feed downloaded successfully. Took 1.45 seconds for 175,056.0KB\n"
          ]
        },
        {
          "output_type": "stream",
          "name": "stdout",
          "text": [
            "lurraldebus_areizaga GTFS feed downloaded successfully. Took 1.45 seconds for 175,056.0KB\n"
          ]
        },
        {
          "output_type": "stream",
          "name": "stderr",
          "text": [
            "INFO:urbanaccess:lurraldebus_arrasate GTFS feed downloaded successfully. Took 1.23 seconds for 85,770.0KB\n"
          ]
        },
        {
          "output_type": "stream",
          "name": "stdout",
          "text": [
            "lurraldebus_arrasate GTFS feed downloaded successfully. Took 1.23 seconds for 85,770.0KB\n"
          ]
        },
        {
          "output_type": "stream",
          "name": "stderr",
          "text": [
            "INFO:urbanaccess:lurraldebus_auif_urb GTFS feed downloaded successfully. Took 1.34 seconds for 223,318.0KB\n"
          ]
        },
        {
          "output_type": "stream",
          "name": "stdout",
          "text": [
            "lurraldebus_auif_urb GTFS feed downloaded successfully. Took 1.34 seconds for 223,318.0KB\n"
          ]
        },
        {
          "output_type": "stream",
          "name": "stderr",
          "text": [
            "INFO:urbanaccess:lurraldebus_eibar GTFS feed downloaded successfully. Took 1.30 seconds for 74,570.0KB\n"
          ]
        },
        {
          "output_type": "stream",
          "name": "stdout",
          "text": [
            "lurraldebus_eibar GTFS feed downloaded successfully. Took 1.30 seconds for 74,570.0KB\n"
          ]
        },
        {
          "output_type": "stream",
          "name": "stderr",
          "text": [
            "INFO:urbanaccess:lurraldebus_ekialdebus GTFS feed downloaded successfully. Took 2.40 seconds for 1,566,342.0KB\n"
          ]
        },
        {
          "output_type": "stream",
          "name": "stdout",
          "text": [
            "lurraldebus_ekialdebus GTFS feed downloaded successfully. Took 2.40 seconds for 1,566,342.0KB\n"
          ]
        },
        {
          "output_type": "stream",
          "name": "stderr",
          "text": [
            "INFO:urbanaccess:lurraldebus_euskotren_bus GTFS feed downloaded successfully. Took 2.56 seconds for 1,844,383.0KB\n"
          ]
        },
        {
          "output_type": "stream",
          "name": "stdout",
          "text": [
            "lurraldebus_euskotren_bus GTFS feed downloaded successfully. Took 2.56 seconds for 1,844,383.0KB\n"
          ]
        },
        {
          "output_type": "stream",
          "name": "stderr",
          "text": [
            "INFO:urbanaccess:lurraldebus_garayar GTFS feed downloaded successfully. Took 1.55 seconds for 398,196.0KB\n"
          ]
        },
        {
          "output_type": "stream",
          "name": "stdout",
          "text": [
            "lurraldebus_garayar GTFS feed downloaded successfully. Took 1.55 seconds for 398,196.0KB\n"
          ]
        },
        {
          "output_type": "stream",
          "name": "stderr",
          "text": [
            "INFO:urbanaccess:lurraldebus_gipuzkoana GTFS feed downloaded successfully. Took 1.76 seconds for 1,022,769.0KB\n"
          ]
        },
        {
          "output_type": "stream",
          "name": "stdout",
          "text": [
            "lurraldebus_gipuzkoana GTFS feed downloaded successfully. Took 1.76 seconds for 1,022,769.0KB\n"
          ]
        },
        {
          "output_type": "stream",
          "name": "stderr",
          "text": [
            "INFO:urbanaccess:lurraldebus_goierrialdea GTFS feed downloaded successfully. Took 2.22 seconds for 1,206,056.0KB\n"
          ]
        },
        {
          "output_type": "stream",
          "name": "stdout",
          "text": [
            "lurraldebus_goierrialdea GTFS feed downloaded successfully. Took 2.22 seconds for 1,206,056.0KB\n"
          ]
        },
        {
          "output_type": "stream",
          "name": "stderr",
          "text": [
            "INFO:urbanaccess:lurraldebus_hernani GTFS feed downloaded successfully. Took 1.29 seconds for 59,046.0KB\n"
          ]
        },
        {
          "output_type": "stream",
          "name": "stdout",
          "text": [
            "lurraldebus_hernani GTFS feed downloaded successfully. Took 1.29 seconds for 59,046.0KB\n"
          ]
        },
        {
          "output_type": "stream",
          "name": "stderr",
          "text": [
            "INFO:urbanaccess:lurraldebus_lasarte GTFS feed downloaded successfully. Took 1.02 seconds for 26,655.0KB\n"
          ]
        },
        {
          "output_type": "stream",
          "name": "stdout",
          "text": [
            "lurraldebus_lasarte GTFS feed downloaded successfully. Took 1.02 seconds for 26,655.0KB\n"
          ]
        },
        {
          "output_type": "stream",
          "name": "stderr",
          "text": [
            "INFO:urbanaccess:lurraldebus_oiartzun GTFS feed downloaded successfully. Took 1.03 seconds for 38,963.0KB\n"
          ]
        },
        {
          "output_type": "stream",
          "name": "stdout",
          "text": [
            "lurraldebus_oiartzun GTFS feed downloaded successfully. Took 1.03 seconds for 38,963.0KB\n"
          ]
        },
        {
          "output_type": "stream",
          "name": "stderr",
          "text": [
            "INFO:urbanaccess:lurraldebus_pesa GTFS feed downloaded successfully. Took 4.83 seconds for 3,967,757.0KB\n"
          ]
        },
        {
          "output_type": "stream",
          "name": "stdout",
          "text": [
            "lurraldebus_pesa GTFS feed downloaded successfully. Took 4.83 seconds for 3,967,757.0KB\n"
          ]
        },
        {
          "output_type": "stream",
          "name": "stderr",
          "text": [
            "INFO:urbanaccess:lurraldebus_renteria GTFS feed downloaded successfully. Took 1.37 seconds for 123,395.0KB\n"
          ]
        },
        {
          "output_type": "stream",
          "name": "stdout",
          "text": [
            "lurraldebus_renteria GTFS feed downloaded successfully. Took 1.37 seconds for 123,395.0KB\n"
          ]
        },
        {
          "output_type": "stream",
          "name": "stderr",
          "text": [
            "INFO:urbanaccess:lurraldebus_tbh GTFS feed downloaded successfully. Took 1.86 seconds for 1,123,927.0KB\n"
          ]
        },
        {
          "output_type": "stream",
          "name": "stdout",
          "text": [
            "lurraldebus_tbh GTFS feed downloaded successfully. Took 1.86 seconds for 1,123,927.0KB\n"
          ]
        },
        {
          "output_type": "stream",
          "name": "stderr",
          "text": [
            "INFO:urbanaccess:lurraldebus_tolosaldea GTFS feed downloaded successfully. Took 1.95 seconds for 618,450.0KB\n"
          ]
        },
        {
          "output_type": "stream",
          "name": "stdout",
          "text": [
            "lurraldebus_tolosaldea GTFS feed downloaded successfully. Took 1.95 seconds for 618,450.0KB\n"
          ]
        },
        {
          "output_type": "stream",
          "name": "stderr",
          "text": [
            "INFO:urbanaccess:lurraldebus_tsst GTFS feed downloaded successfully. Took 1.66 seconds for 691,633.0KB\n"
          ]
        },
        {
          "output_type": "stream",
          "name": "stdout",
          "text": [
            "lurraldebus_tsst GTFS feed downloaded successfully. Took 1.66 seconds for 691,633.0KB\n"
          ]
        },
        {
          "output_type": "stream",
          "name": "stderr",
          "text": [
            "INFO:urbanaccess:lurraldebus_zarautz GTFS feed downloaded successfully. Took 1.57 seconds for 211,752.0KB\n"
          ]
        },
        {
          "output_type": "stream",
          "name": "stdout",
          "text": [
            "lurraldebus_zarautz GTFS feed downloaded successfully. Took 1.57 seconds for 211,752.0KB\n"
          ]
        },
        {
          "output_type": "stream",
          "name": "stderr",
          "text": [
            "INFO:urbanaccess:Euskotren GTFS feed downloaded successfully. Took 2.01 seconds for 1,610,138.0KB\n"
          ]
        },
        {
          "output_type": "stream",
          "name": "stdout",
          "text": [
            "Euskotren GTFS feed downloaded successfully. Took 2.01 seconds for 1,610,138.0KB\n"
          ]
        },
        {
          "output_type": "stream",
          "name": "stderr",
          "text": [
            "INFO:urbanaccess:Renfe GTFS feed downloaded successfully. Took 1.99 seconds for 635,319.0KB\n"
          ]
        },
        {
          "output_type": "stream",
          "name": "stdout",
          "text": [
            "Renfe GTFS feed downloaded successfully. Took 1.99 seconds for 635,319.0KB\n"
          ]
        },
        {
          "output_type": "stream",
          "name": "stderr",
          "text": [
            "INFO:urbanaccess:Renfe_cercanias GTFS feed downloaded successfully. Took 11.52 seconds for 14,248,532.0KB\n",
            "INFO:urbanaccess:GTFS feed download completed. Took 50.57 seconds\n",
            "INFO:urbanaccess:lurraldebus_eibar.zip successfully extracted to: data/gtfsfeed_text/lurraldebus_eibar\n",
            "INFO:urbanaccess:lurraldebus_lasarte.zip successfully extracted to: data/gtfsfeed_text/lurraldebus_lasarte\n",
            "INFO:urbanaccess:lurraldebus_renteria.zip successfully extracted to: data/gtfsfeed_text/lurraldebus_renteria\n",
            "INFO:urbanaccess:lurraldebus_areizaga.zip successfully extracted to: data/gtfsfeed_text/lurraldebus_areizaga\n",
            "INFO:urbanaccess:lurraldebus_pesa.zip successfully extracted to: data/gtfsfeed_text/lurraldebus_pesa\n"
          ]
        },
        {
          "output_type": "stream",
          "name": "stdout",
          "text": [
            "Renfe_cercanias GTFS feed downloaded successfully. Took 11.52 seconds for 14,248,532.0KB\n",
            "GTFS feed download completed. Took 50.57 seconds\n",
            "lurraldebus_eibar.zip successfully extracted to: data/gtfsfeed_text/lurraldebus_eibar\n",
            "lurraldebus_lasarte.zip successfully extracted to: data/gtfsfeed_text/lurraldebus_lasarte\n",
            "lurraldebus_renteria.zip successfully extracted to: data/gtfsfeed_text/lurraldebus_renteria\n",
            "lurraldebus_areizaga.zip successfully extracted to: data/gtfsfeed_text/lurraldebus_areizaga\n",
            "lurraldebus_pesa.zip successfully extracted to: data/gtfsfeed_text/lurraldebus_pesa\n"
          ]
        },
        {
          "output_type": "stream",
          "name": "stderr",
          "text": [
            "INFO:urbanaccess:lurraldebus_euskotren_bus.zip successfully extracted to: data/gtfsfeed_text/lurraldebus_euskotren_bus\n",
            "INFO:urbanaccess:lurraldebus_tbh.zip successfully extracted to: data/gtfsfeed_text/lurraldebus_tbh\n",
            "INFO:urbanaccess:Euskotren.zip successfully extracted to: data/gtfsfeed_text/Euskotren\n",
            "INFO:urbanaccess:lurraldebus_oiartzun.zip successfully extracted to: data/gtfsfeed_text/lurraldebus_oiartzun\n"
          ]
        },
        {
          "output_type": "stream",
          "name": "stdout",
          "text": [
            "lurraldebus_euskotren_bus.zip successfully extracted to: data/gtfsfeed_text/lurraldebus_euskotren_bus\n",
            "lurraldebus_tbh.zip successfully extracted to: data/gtfsfeed_text/lurraldebus_tbh\n",
            "Euskotren.zip successfully extracted to: data/gtfsfeed_text/Euskotren\n",
            "lurraldebus_oiartzun.zip successfully extracted to: data/gtfsfeed_text/lurraldebus_oiartzun\n"
          ]
        },
        {
          "output_type": "stream",
          "name": "stderr",
          "text": [
            "INFO:urbanaccess:Renfe.zip successfully extracted to: data/gtfsfeed_text/Renfe\n",
            "INFO:urbanaccess:lurraldebus_zarautz.zip successfully extracted to: data/gtfsfeed_text/lurraldebus_zarautz\n",
            "INFO:urbanaccess:lurraldebus_ekialdebus.zip successfully extracted to: data/gtfsfeed_text/lurraldebus_ekialdebus\n",
            "INFO:urbanaccess:lurraldebus_auif_urb.zip successfully extracted to: data/gtfsfeed_text/lurraldebus_auif_urb\n"
          ]
        },
        {
          "output_type": "stream",
          "name": "stdout",
          "text": [
            "Renfe.zip successfully extracted to: data/gtfsfeed_text/Renfe\n",
            "lurraldebus_zarautz.zip successfully extracted to: data/gtfsfeed_text/lurraldebus_zarautz\n",
            "lurraldebus_ekialdebus.zip successfully extracted to: data/gtfsfeed_text/lurraldebus_ekialdebus\n",
            "lurraldebus_auif_urb.zip successfully extracted to: data/gtfsfeed_text/lurraldebus_auif_urb\n"
          ]
        },
        {
          "output_type": "stream",
          "name": "stderr",
          "text": [
            "INFO:urbanaccess:Renfe_cercanias.zip successfully extracted to: data/gtfsfeed_text/Renfe_cercanias\n",
            "INFO:urbanaccess:lurraldebus_garayar.zip successfully extracted to: data/gtfsfeed_text/lurraldebus_garayar\n",
            "INFO:urbanaccess:lurraldebus_gipuzkoana.zip successfully extracted to: data/gtfsfeed_text/lurraldebus_gipuzkoana\n",
            "INFO:urbanaccess:lurraldebus_arrasate.zip successfully extracted to: data/gtfsfeed_text/lurraldebus_arrasate\n",
            "INFO:urbanaccess:lurraldebus_tolosaldea.zip successfully extracted to: data/gtfsfeed_text/lurraldebus_tolosaldea\n",
            "INFO:urbanaccess:lurraldebus_goierrialdea.zip successfully extracted to: data/gtfsfeed_text/lurraldebus_goierrialdea\n"
          ]
        },
        {
          "output_type": "stream",
          "name": "stdout",
          "text": [
            "Renfe_cercanias.zip successfully extracted to: data/gtfsfeed_text/Renfe_cercanias\n",
            "lurraldebus_garayar.zip successfully extracted to: data/gtfsfeed_text/lurraldebus_garayar\n",
            "lurraldebus_gipuzkoana.zip successfully extracted to: data/gtfsfeed_text/lurraldebus_gipuzkoana\n",
            "lurraldebus_arrasate.zip successfully extracted to: data/gtfsfeed_text/lurraldebus_arrasate\n",
            "lurraldebus_tolosaldea.zip successfully extracted to: data/gtfsfeed_text/lurraldebus_tolosaldea\n",
            "lurraldebus_goierrialdea.zip successfully extracted to: data/gtfsfeed_text/lurraldebus_goierrialdea\n"
          ]
        },
        {
          "output_type": "stream",
          "name": "stderr",
          "text": [
            "INFO:urbanaccess:dbus.zip successfully extracted to: data/gtfsfeed_text/dbus\n",
            "INFO:urbanaccess:lurraldebus_tsst.zip successfully extracted to: data/gtfsfeed_text/lurraldebus_tsst\n",
            "INFO:urbanaccess:lurraldebus_hernani.zip successfully extracted to: data/gtfsfeed_text/lurraldebus_hernani\n",
            "INFO:urbanaccess:GTFS feed zipfile extraction completed. Took 2.52 seconds for 22 files\n"
          ]
        },
        {
          "output_type": "stream",
          "name": "stdout",
          "text": [
            "dbus.zip successfully extracted to: data/gtfsfeed_text/dbus\n",
            "lurraldebus_tsst.zip successfully extracted to: data/gtfsfeed_text/lurraldebus_tsst\n",
            "lurraldebus_hernani.zip successfully extracted to: data/gtfsfeed_text/lurraldebus_hernani\n",
            "GTFS feed zipfile extraction completed. Took 2.52 seconds for 22 files\n"
          ]
        }
      ]
    },
    {
      "cell_type": "code",
      "source": [
        "# Load GTFS data into an UrbanAcess transit data object\n",
        "validation = True\n",
        "verbose = True\n",
        "# bbox for Gipuzkoa\n",
        "Lat_min = 42.904155\n",
        "Long_min = -2.621987\n",
        "Lat_max = 43.403070\n",
        "Long_max = -1.740334\n",
        "bbox = (Long_min,Lat_min,Long_max,Lat_max,)\n",
        "remove_stops_outsidebbox = True\n",
        "append_definitions = True\n",
        "\n",
        "#filen = 'transit_ped_net.h5'\n",
        "gtfsfeed_path = './data/gtfsfeed_text'\n",
        "networks_path = './data/input_data_MCM/networks/'\n",
        "transit_path = './data/input_data_MCM/transit_together_24h/'\n",
        "\n",
        "# Definir los valores dados\n",
        "timeranges = [\n",
        "    ['00:00:00', '01:00:00'], ['01:00:00', '02:00:00'], ['02:00:00', '03:00:00'], ['03:00:00', '04:00:00'],\n",
        "    ['04:00:00', '05:00:00'], ['05:00:00', '06:00:00'], ['06:00:00', '07:00:00'], ['07:00:00', '08:00:00'],\n",
        "    ['08:00:00', '09:00:00'], ['09:00:00', '10:00:00'], ['10:00:00', '11:00:00'], ['11:00:00', '12:00:00'],\n",
        "    ['12:00:00', '13:00:00'], ['13:00:00', '14:00:00'], ['14:00:00', '15:00:00'], ['15:00:00', '16:00:00'],\n",
        "    ['16:00:00', '17:00:00'], ['17:00:00', '18:00:00'], ['18:00:00', '19:00:00'], ['19:00:00', '20:00:00'],\n",
        "    ['20:00:00', '21:00:00'], ['21:00:00', '22:00:00'], ['22:00:00', '23:00:00'], ['23:00:00', '24:00:00']\n",
        "]\n",
        "nombres_archivos = [\n",
        "    'transit_0001.h5', 'transit_0102.h5', 'transit_0203.h5', 'transit_0304.h5',\n",
        "    'transit_0405.h5', 'transit_0506.h5', 'transit_0607.h5', 'transit_0708.h5',\n",
        "    'transit_0809.h5', 'transit_0910.h5', 'transit_1011.h5', 'transit_1112.h5',\n",
        "    'transit_1213.h5', 'transit_1314.h5', 'transit_1415.h5', 'transit_1516.h5',\n",
        "    'transit_1617.h5', 'transit_1718.h5', 'transit_1819.h5', 'transit_1920.h5',\n",
        "    'transit_2021.h5', 'transit_2122.h5', 'transit_2223.h5', 'transit_2324.h5'\n",
        "]\n",
        "#hour=10\n",
        "timeranges=[['08:00:00', '20:00:00']] # elegimos los timeranges que esten en nuestra franja\n",
        "nombres_archivos=['transit_0820.h5'] # elegimos los nombres que correspondan a la franja\n",
        "print(timeranges)\n",
        "print(nombres_archivos)"
      ],
      "metadata": {
        "colab": {
          "base_uri": "https://localhost:8080/"
        },
        "id": "8N1p6UjeJFPB",
        "outputId": "b7ed951d-307f-41f5-da63-9182434fe5a3"
      },
      "execution_count": 6,
      "outputs": [
        {
          "output_type": "stream",
          "name": "stdout",
          "text": [
            "[['08:00:00', '20:00:00']]\n",
            "['transit_0820.h5']\n"
          ]
        }
      ]
    },
    {
      "cell_type": "code",
      "source": [
        "for timerange, nombre_archivo in zip(timeranges, nombres_archivos):\n",
        "\n",
        "        filen = f'{nombre_archivo}'\n",
        "        # Create transit network\n",
        "        urbanaccess_net = ua.network.ua_network\n",
        "\n",
        "        # Create new transit network from new feeds ##############################################\n",
        "        loaded_feeds = ua.gtfs.load.gtfsfeed_to_df(gtfsfeed_path=gtfsfeed_path,\n",
        "                                                validation=validation,\n",
        "                                                verbose=verbose,\n",
        "                                                bbox=bbox,\n",
        "                                                remove_stops_outsidebbox=remove_stops_outsidebbox,\n",
        "                                                append_definitions=append_definitions)\n",
        "\n",
        "        print(\"Type of loaded_feeds:\", type(loaded_feeds))\n",
        "        print(\"Attributes of loaded_feeds:\", dir(loaded_feeds))\n",
        "\n",
        "        # Create transit network\n",
        "        ua.gtfs.network.create_transit_net(gtfsfeeds_dfs=loaded_feeds,\n",
        "                                        day='monday',\n",
        "                                        timerange=timerange,\n",
        "                                        calendar_dates_lookup=None)\n",
        "        #############################################################################################\n",
        "\n",
        "        if (os.path.isfile(networks_path + 'walk_network.h5')):\n",
        "\n",
        "            print('\\nLoading saved networks...')\n",
        "            ped_net = pdn.Network.from_hdf5(networks_path + 'walk_network.h5')\n",
        "            print('done!\\n')\n",
        "\n",
        "            # The following sh.. is really important!!! Pandana messes up data types (floats instead of int64!) ####################\n",
        "            ped_net.nodes_df.index = ped_net.nodes_df.index.astype(int)\n",
        "            ped_net.nodes_df['id'] = ped_net.nodes_df.index\n",
        "\n",
        "            ped_net.edges_df[\"from\"] = ped_net.edges_df[\"from\"].astype(int)\n",
        "            ped_net.edges_df[\"to\"] = ped_net.edges_df[\"to\"].astype(int)\n",
        "            ##########################################################################################################################\n",
        "\n",
        "            # create pedestrian network from saved file ######################################\n",
        "            ua.osm.network.create_osm_net(osm_edges=ped_net.edges_df, osm_nodes=ped_net.nodes_df, travel_speed_mph=3)\n",
        "            print('done!\\n')\n",
        "\n",
        "        else:\n",
        "            nodes, edges = ua.osm.load.ua_network_from_bbox(bbox=bbox, remove_lcn=True)\n",
        "\n",
        "            # Create pedestrian network from scratch #########################################\n",
        "            ua.osm.network.create_osm_net(osm_edges=edges, osm_nodes=nodes, travel_speed_mph=3)\n",
        "\n",
        "            ped_net_pdn = pdn.network.Network(\n",
        "                                    nodes[\"x\"],\n",
        "                                    nodes[\"y\"],\n",
        "                                    edges[\"from\"],\n",
        "                                    edges[\"to\"],\n",
        "                                    edges[[\"weight\",\"distance\"]])\n",
        "\n",
        "            ped_net_pdn.save_hdf5(networks_path + 'pedestrian_net.h5')\n",
        "\n",
        "        print('\\nIntegrating all networks...')\n",
        "        # Integrate pedestrian and tansit network\n",
        "        ua.network.integrate_network(urbanaccess_network=urbanaccess_net,  # do we need this?\n",
        "                                    headways=False)\n",
        "\n",
        "        # Add average headways to network travel time\n",
        "        ua.gtfs.headways.headways(gtfsfeeds_df=loaded_feeds,\n",
        "                            headway_timerange=timerange)\n",
        "        loaded_feeds.headways\n",
        "\n",
        "        ua.network.integrate_network(urbanaccess_network=urbanaccess_net,\n",
        "                                headways=True,\n",
        "                                urbanaccess_gtfsfeeds_df=loaded_feeds,\n",
        "                                headway_statistic='mean')\n",
        "        print('successfully integrated existing and newly created networks!')\n",
        "\n",
        "        #print(urbanaccess_net.net_edges[\"from_int\"].head())\n",
        "        #urbanaccess_net.net_nodes.set_index('ID', inplace= True)\n",
        "        transit_ped_net_pdn = pdn.network.Network(\n",
        "                                urbanaccess_net.net_nodes[\"x\"],\n",
        "                                urbanaccess_net.net_nodes[\"y\"],\n",
        "                                urbanaccess_net.net_edges[\"from_int\"],\n",
        "                                urbanaccess_net.net_edges[\"to_int\"],\n",
        "                                urbanaccess_net.net_edges[[\"weight\"]])\n",
        "                                #urbanaccess_net.net_edges[[\"weight\",\"distance\"]])\n",
        "\n",
        "        transit_ped_net_pdn.save_hdf5(transit_path + filen)"
      ],
      "metadata": {
        "colab": {
          "base_uri": "https://localhost:8080/"
        },
        "id": "796GhDbCJGGu",
        "outputId": "45701b98-46ea-4437-efeb-1e390f1af3fb"
      },
      "execution_count": 15,
      "outputs": [
        {
          "output_type": "stream",
          "name": "stderr",
          "text": [
            "INFO:urbanaccess:Checking GTFS text file header whitespace... Reading files using encoding: utf-8 set in configuration.\n"
          ]
        },
        {
          "output_type": "stream",
          "name": "stdout",
          "text": [
            "Checking GTFS text file header whitespace... Reading files using encoding: utf-8 set in configuration.\n"
          ]
        },
        {
          "output_type": "stream",
          "name": "stderr",
          "text": [
            "INFO:urbanaccess:GTFS text file header whitespace check completed. Took 0.83 seconds\n",
            "INFO:urbanaccess:--------------------------------\n",
            "INFO:urbanaccess:Processing GTFS feed: lurraldebus_pesa\n",
            "INFO:urbanaccess:The unique agency id: lurraldebus_transportes_pesa_s.a. was generated using the name of the agency in the agency.txt file.\n",
            "INFO:urbanaccess:Unique agency id operation complete. Took 0.01 seconds\n",
            "INFO:urbanaccess:Unique GTFS feed id operation complete. Took 0.00 seconds\n",
            "WARNING:urbanaccess:WARNING: lurraldebus_pesa GTFS feed stops: 9 of 189 (4.76 percent of total) record(s) are outside the bounding box coordinates\n",
            "INFO:urbanaccess:Records:\n",
            "INFO:urbanaccess:    stop_id  stop_code                                       stop_name  \\\n",
            "41     4314        NaN                        Bilboko Autobus Geltokia   \n",
            "47     4323        NaN                        Vi-Estacion De Autobuses   \n",
            "48     4324        NaN                                          Durana   \n",
            "49     4325        NaN  Carretera A-3002. Direccion Arrasate-Mondragon   \n",
            "60     4350        NaN                                       Magdalena   \n",
            "61     4351        NaN                                       Magdalena   \n",
            "73     4389        NaN                                        Mendibil   \n",
            "74     4390        NaN                                          Durana   \n",
            "142      60        NaN                               Aeropuerto Bilbao   \n",
            "\n",
            "      stop_lat  stop_lon  zone_id  location_type  \\\n",
            "41   43.260188 -2.949182       13              0   \n",
            "47   42.859325 -2.684342       14              0   \n",
            "48   42.890694 -2.639935       12              0   \n",
            "49   42.905329 -2.629143       12              0   \n",
            "60   43.171779 -2.632961       11              0   \n",
            "61   43.171626 -2.632974       11              0   \n",
            "73   42.905491 -2.629216       12              0   \n",
            "74   42.890361 -2.640035       12              0   \n",
            "142  43.305589 -2.905891       90              0   \n",
            "\n",
            "                      unique_agency_id      unique_feed_id  \n",
            "41   lurraldebus_transportes_pesa_s.a.  lurraldebus_pesa_1  \n",
            "47   lurraldebus_transportes_pesa_s.a.  lurraldebus_pesa_1  \n",
            "48   lurraldebus_transportes_pesa_s.a.  lurraldebus_pesa_1  \n",
            "49   lurraldebus_transportes_pesa_s.a.  lurraldebus_pesa_1  \n",
            "60   lurraldebus_transportes_pesa_s.a.  lurraldebus_pesa_1  \n",
            "61   lurraldebus_transportes_pesa_s.a.  lurraldebus_pesa_1  \n",
            "73   lurraldebus_transportes_pesa_s.a.  lurraldebus_pesa_1  \n",
            "74   lurraldebus_transportes_pesa_s.a.  lurraldebus_pesa_1  \n",
            "142  lurraldebus_transportes_pesa_s.a.  lurraldebus_pesa_1  \n",
            "INFO:urbanaccess:Removed identified stops that are outside of bounding box.\n",
            "INFO:urbanaccess:lurraldebus_pesa GTFS feed stops: coordinates are in northwest hemisphere. Latitude = North (90); Longitude = West (-90).\n",
            "INFO:urbanaccess:Appended route type to stops\n",
            "INFO:urbanaccess:Appended route type to stop_times\n",
            "INFO:urbanaccess:--------------------------------\n",
            "INFO:urbanaccess:--------------------------------\n",
            "INFO:urbanaccess:Processing GTFS feed: lurraldebus_garayar\n"
          ]
        },
        {
          "output_type": "stream",
          "name": "stdout",
          "text": [
            "GTFS text file header whitespace check completed. Took 0.83 seconds\n",
            "--------------------------------\n",
            "Processing GTFS feed: lurraldebus_pesa\n",
            "The unique agency id: lurraldebus_transportes_pesa_s.a. was generated using the name of the agency in the agency.txt file.\n",
            "Unique agency id operation complete. Took 0.01 seconds\n",
            "Unique GTFS feed id operation complete. Took 0.00 seconds\n",
            "WARNING: lurraldebus_pesa GTFS feed stops: 9 of 189 (4.76 percent of total) record(s) are outside the bounding box coordinates\n",
            "Records:\n",
            "    stop_id  stop_code                                       stop_name  \\\n",
            "41     4314        NaN                        Bilboko Autobus Geltokia   \n",
            "47     4323        NaN                        Vi-Estacion De Autobuses   \n",
            "48     4324        NaN                                          Durana   \n",
            "49     4325        NaN  Carretera A-3002. Direccion Arrasate-Mondragon   \n",
            "60     4350        NaN                                       Magdalena   \n",
            "61     4351        NaN                                       Magdalena   \n",
            "73     4389        NaN                                        Mendibil   \n",
            "74     4390        NaN                                          Durana   \n",
            "142      60        NaN                               Aeropuerto Bilbao   \n",
            "\n",
            "      stop_lat  stop_lon  zone_id  location_type  \\\n",
            "41   43.260188 -2.949182       13              0   \n",
            "47   42.859325 -2.684342       14              0   \n",
            "48   42.890694 -2.639935       12              0   \n",
            "49   42.905329 -2.629143       12              0   \n",
            "60   43.171779 -2.632961       11              0   \n",
            "61   43.171626 -2.632974       11              0   \n",
            "73   42.905491 -2.629216       12              0   \n",
            "74   42.890361 -2.640035       12              0   \n",
            "142  43.305589 -2.905891       90              0   \n",
            "\n",
            "                      unique_agency_id      unique_feed_id  \n",
            "41   lurraldebus_transportes_pesa_s.a.  lurraldebus_pesa_1  \n",
            "47   lurraldebus_transportes_pesa_s.a.  lurraldebus_pesa_1  \n",
            "48   lurraldebus_transportes_pesa_s.a.  lurraldebus_pesa_1  \n",
            "49   lurraldebus_transportes_pesa_s.a.  lurraldebus_pesa_1  \n",
            "60   lurraldebus_transportes_pesa_s.a.  lurraldebus_pesa_1  \n",
            "61   lurraldebus_transportes_pesa_s.a.  lurraldebus_pesa_1  \n",
            "73   lurraldebus_transportes_pesa_s.a.  lurraldebus_pesa_1  \n",
            "74   lurraldebus_transportes_pesa_s.a.  lurraldebus_pesa_1  \n",
            "142  lurraldebus_transportes_pesa_s.a.  lurraldebus_pesa_1  \n",
            "Removed identified stops that are outside of bounding box.\n",
            "lurraldebus_pesa GTFS feed stops: coordinates are in northwest hemisphere. Latitude = North (90); Longitude = West (-90).\n",
            "Appended route type to stops\n",
            "Appended route type to stop_times\n",
            "--------------------------------\n",
            "--------------------------------\n",
            "Processing GTFS feed: lurraldebus_garayar\n"
          ]
        },
        {
          "output_type": "stream",
          "name": "stderr",
          "text": [
            "INFO:urbanaccess:The unique agency id: lurraldebus_autobuses_garayar_s.a. was generated using the name of the agency in the agency.txt file.\n",
            "INFO:urbanaccess:Unique agency id operation complete. Took 0.01 seconds\n",
            "INFO:urbanaccess:Unique GTFS feed id operation complete. Took 0.00 seconds\n",
            "INFO:urbanaccess:No GTFS feed stops were found to be outside the bounding box coordinates\n",
            "INFO:urbanaccess:lurraldebus_garayar GTFS feed stops: coordinates are in northwest hemisphere. Latitude = North (90); Longitude = West (-90).\n",
            "INFO:urbanaccess:Appended route type to stops\n",
            "INFO:urbanaccess:Appended route type to stop_times\n",
            "INFO:urbanaccess:--------------------------------\n",
            "INFO:urbanaccess:--------------------------------\n",
            "INFO:urbanaccess:Processing GTFS feed: lurraldebus_gipuzkoana\n",
            "INFO:urbanaccess:The unique agency id: lurraldebus_autobuses_la_guipuzcoana_s.l. was generated using the name of the agency in the agency.txt file.\n",
            "INFO:urbanaccess:Unique agency id operation complete. Took 0.01 seconds\n",
            "INFO:urbanaccess:Unique GTFS feed id operation complete. Took 0.00 seconds\n",
            "INFO:urbanaccess:No GTFS feed stops were found to be outside the bounding box coordinates\n",
            "INFO:urbanaccess:lurraldebus_gipuzkoana GTFS feed stops: coordinates are in northwest hemisphere. Latitude = North (90); Longitude = West (-90).\n",
            "INFO:urbanaccess:Appended route type to stops\n",
            "INFO:urbanaccess:Appended route type to stop_times\n"
          ]
        },
        {
          "output_type": "stream",
          "name": "stdout",
          "text": [
            "The unique agency id: lurraldebus_autobuses_garayar_s.a. was generated using the name of the agency in the agency.txt file.\n",
            "Unique agency id operation complete. Took 0.01 seconds\n",
            "Unique GTFS feed id operation complete. Took 0.00 seconds\n",
            "No GTFS feed stops were found to be outside the bounding box coordinates\n",
            "lurraldebus_garayar GTFS feed stops: coordinates are in northwest hemisphere. Latitude = North (90); Longitude = West (-90).\n",
            "Appended route type to stops\n",
            "Appended route type to stop_times\n",
            "--------------------------------\n",
            "--------------------------------\n",
            "Processing GTFS feed: lurraldebus_gipuzkoana\n",
            "The unique agency id: lurraldebus_autobuses_la_guipuzcoana_s.l. was generated using the name of the agency in the agency.txt file.\n",
            "Unique agency id operation complete. Took 0.01 seconds\n",
            "Unique GTFS feed id operation complete. Took 0.00 seconds\n",
            "No GTFS feed stops were found to be outside the bounding box coordinates\n",
            "lurraldebus_gipuzkoana GTFS feed stops: coordinates are in northwest hemisphere. Latitude = North (90); Longitude = West (-90).\n",
            "Appended route type to stops\n",
            "Appended route type to stop_times\n"
          ]
        },
        {
          "output_type": "stream",
          "name": "stderr",
          "text": [
            "INFO:urbanaccess:--------------------------------\n",
            "INFO:urbanaccess:--------------------------------\n",
            "INFO:urbanaccess:Processing GTFS feed: lurraldebus_goierrialdea\n",
            "INFO:urbanaccess:The unique agency id: lurraldebus_bilman was generated using the name of the agency in the agency.txt file.\n",
            "INFO:urbanaccess:Unique agency id operation complete. Took 0.01 seconds\n",
            "INFO:urbanaccess:Unique GTFS feed id operation complete. Took 0.00 seconds\n",
            "INFO:urbanaccess:No GTFS feed stops were found to be outside the bounding box coordinates\n",
            "INFO:urbanaccess:lurraldebus_goierrialdea GTFS feed stops: coordinates are in northwest hemisphere. Latitude = North (90); Longitude = West (-90).\n",
            "INFO:urbanaccess:Appended route type to stops\n",
            "INFO:urbanaccess:Appended route type to stop_times\n",
            "INFO:urbanaccess:--------------------------------\n",
            "INFO:urbanaccess:--------------------------------\n",
            "INFO:urbanaccess:Processing GTFS feed: Euskotren\n"
          ]
        },
        {
          "output_type": "stream",
          "name": "stdout",
          "text": [
            "--------------------------------\n",
            "--------------------------------\n",
            "Processing GTFS feed: lurraldebus_goierrialdea\n",
            "The unique agency id: lurraldebus_bilman was generated using the name of the agency in the agency.txt file.\n",
            "Unique agency id operation complete. Took 0.01 seconds\n",
            "Unique GTFS feed id operation complete. Took 0.00 seconds\n",
            "No GTFS feed stops were found to be outside the bounding box coordinates\n",
            "lurraldebus_goierrialdea GTFS feed stops: coordinates are in northwest hemisphere. Latitude = North (90); Longitude = West (-90).\n",
            "Appended route type to stops\n",
            "Appended route type to stop_times\n",
            "--------------------------------\n",
            "--------------------------------\n",
            "Processing GTFS feed: Euskotren\n"
          ]
        },
        {
          "output_type": "stream",
          "name": "stderr",
          "text": [
            "INFO:urbanaccess:agency.txt agency_name column has more than one agency name listed. Unique agency id was assigned using the agency id and associated agency name.\n",
            "INFO:urbanaccess:Unique agency id operation complete. Took 0.72 seconds\n",
            "INFO:urbanaccess:Unique GTFS feed id operation complete. Took 0.00 seconds\n",
            "WARNING:urbanaccess:WARNING: Euskotren GTFS feed stops: 459 of 796 (57.66 percent of total) record(s) are outside the bounding box coordinates\n",
            "INFO:urbanaccess:Records:\n",
            "INFO:urbanaccess:                                             stop_id  stop_code  \\\n",
            "0              ES:Euskotren:Place:2576_Vestibulo_H1:        NaN   \n",
            "1              ES:Euskotren:Place:2577_Vestibulo_D1:        NaN   \n",
            "2              ES:Euskotren:Place:2577_Vestibulo_D2:        NaN   \n",
            "3              ES:Euskotren:Place:2577_Vestibulo_H1:        NaN   \n",
            "4              ES:Euskotren:Place:2579_Vestibulo_D1:        NaN   \n",
            "..                                               ...        ...   \n",
            "786  ES:Euskotren:StopPlaceEntrance:2661_Entrada_E1:        NaN   \n",
            "787  ES:Euskotren:StopPlaceEntrance:2663_Entrada_E1:        NaN   \n",
            "788  ES:Euskotren:StopPlaceEntrance:2663_Entrada_E2:        NaN   \n",
            "789  ES:Euskotren:StopPlaceEntrance:2663_Entrada_E3:        NaN   \n",
            "790  ES:Euskotren:StopPlaceEntrance:2663_Entrada_E4:        NaN   \n",
            "\n",
            "                   stop_name  tts_stop_name  \\\n",
            "0                    Atondoa            NaN   \n",
            "1                    Atondoa            NaN   \n",
            "2                    Atondoa            NaN   \n",
            "3                    Atondoa            NaN   \n",
            "4                    Atondoa            NaN   \n",
            "..                       ...            ...   \n",
            "786                  Irteera            NaN   \n",
            "787  Irteeera (Kepa enbeita)            NaN   \n",
            "788        Irteeera (Lozoño)            NaN   \n",
            "789    Irteeera (Pau Casals)            NaN   \n",
            "790      Irteeera (Langaran)            NaN   \n",
            "\n",
            "                               stop_desc   stop_lat  stop_lon  \\\n",
            "0    San Jose de Lutxana Auzoa / Erandio  43.291350 -2.969773   \n",
            "1       Plazuela de San Nicolás / Bilbao  43.260025 -2.922042   \n",
            "2       Plazuela de San Nicolás / Bilbao  43.260025 -2.922042   \n",
            "3       Plazuela de San Nicolás / Bilbao  43.260000 -2.922112   \n",
            "4     Santamañe Kalea, s/n bajo / Bermeo  43.417771 -2.723233   \n",
            "..                                   ...        ...       ...   \n",
            "786       Calle de Oletxe, 48 / Usansolo  43.217854 -2.821601   \n",
            "787            Avda. Pau Casals / Bilbao  43.259480 -2.900041   \n",
            "788            Avda. Pau Casals / Bilbao  43.258672 -2.899788   \n",
            "789            Avda. Pau Casals / Bilbao  43.258627 -2.899256   \n",
            "790            Avda. Pau Casals / Bilbao  43.258100 -2.898047   \n",
            "\n",
            "                  zone_id  stop_url  location_type  \\\n",
            "0    ES:Euskotren:Zone:2:       NaN              3   \n",
            "1    ES:Euskotren:Zone:3:       NaN              3   \n",
            "2    ES:Euskotren:Zone:3:       NaN              3   \n",
            "3    ES:Euskotren:Zone:3:       NaN              3   \n",
            "4    ES:Euskotren:Zone:8:       NaN              3   \n",
            "..                    ...       ...            ...   \n",
            "786  ES:Euskotren:Zone:4:       NaN              2   \n",
            "787  ES:Euskotren:Zone:3:       NaN              2   \n",
            "788  ES:Euskotren:Zone:3:       NaN              2   \n",
            "789  ES:Euskotren:Zone:3:       NaN              2   \n",
            "790  ES:Euskotren:Zone:3:       NaN              2   \n",
            "\n",
            "                   parent_station  stop_timezone  wheelchair_boarding  \\\n",
            "0    ES:Euskotren:StopPlace:2576:            NaN                    1   \n",
            "1    ES:Euskotren:StopPlace:2577:            NaN                    1   \n",
            "2    ES:Euskotren:StopPlace:2577:            NaN                    2   \n",
            "3    ES:Euskotren:StopPlace:2577:            NaN                    1   \n",
            "4    ES:Euskotren:StopPlace:2579:            NaN                    1   \n",
            "..                            ...            ...                  ...   \n",
            "786  ES:Euskotren:StopPlace:2661:            NaN                    1   \n",
            "787  ES:Euskotren:StopPlace:2663:            NaN                    2   \n",
            "788  ES:Euskotren:StopPlace:2663:            NaN                    2   \n",
            "789  ES:Euskotren:StopPlace:2663:            NaN                    1   \n",
            "790  ES:Euskotren:StopPlace:2663:            NaN                    2   \n",
            "\n",
            "                             level_id  platform_code unique_agency_id  \\\n",
            "0         ES:Euskotren:Level:Level:0:            NaN              nan   \n",
            "1         ES:Euskotren:Level:Level:0:            NaN              nan   \n",
            "2         ES:Euskotren:Level:Level:0:            NaN              nan   \n",
            "3         ES:Euskotren:Level:Level:0:            NaN              nan   \n",
            "4    ES:Euskotren:Level:Level:Minus1:            NaN              nan   \n",
            "..                                ...            ...              ...   \n",
            "786       ES:Euskotren:Level:Level:0:            NaN              nan   \n",
            "787       ES:Euskotren:Level:Level:0:            NaN              nan   \n",
            "788       ES:Euskotren:Level:Level:0:            NaN              nan   \n",
            "789       ES:Euskotren:Level:Level:0:            NaN              nan   \n",
            "790       ES:Euskotren:Level:Level:0:            NaN              nan   \n",
            "\n",
            "    unique_feed_id  \n",
            "0      euskotren_5  \n",
            "1      euskotren_5  \n",
            "2      euskotren_5  \n",
            "3      euskotren_5  \n",
            "4      euskotren_5  \n",
            "..             ...  \n",
            "786    euskotren_5  \n",
            "787    euskotren_5  \n",
            "788    euskotren_5  \n",
            "789    euskotren_5  \n",
            "790    euskotren_5  \n",
            "\n",
            "[459 rows x 17 columns]\n",
            "INFO:urbanaccess:Removed identified stops that are outside of bounding box.\n",
            "INFO:urbanaccess:Euskotren GTFS feed stops: coordinates are in northwest hemisphere. Latitude = North (90); Longitude = West (-90).\n",
            "INFO:urbanaccess:Appended route type to stops\n",
            "INFO:urbanaccess:Appended route type to stop_times\n",
            "INFO:urbanaccess:--------------------------------\n",
            "INFO:urbanaccess:--------------------------------\n",
            "INFO:urbanaccess:Processing GTFS feed: lurraldebus_lasarte\n",
            "INFO:urbanaccess:The unique agency id: lurraldebus_urbano_de_lasarte was generated using the name of the agency in the agency.txt file.\n"
          ]
        },
        {
          "output_type": "stream",
          "name": "stdout",
          "text": [
            "agency.txt agency_name column has more than one agency name listed. Unique agency id was assigned using the agency id and associated agency name.\n",
            "Unique agency id operation complete. Took 0.72 seconds\n",
            "Unique GTFS feed id operation complete. Took 0.00 seconds\n",
            "WARNING: Euskotren GTFS feed stops: 459 of 796 (57.66 percent of total) record(s) are outside the bounding box coordinates\n",
            "Records:\n",
            "                                             stop_id  stop_code  \\\n",
            "0              ES:Euskotren:Place:2576_Vestibulo_H1:        NaN   \n",
            "1              ES:Euskotren:Place:2577_Vestibulo_D1:        NaN   \n",
            "2              ES:Euskotren:Place:2577_Vestibulo_D2:        NaN   \n",
            "3              ES:Euskotren:Place:2577_Vestibulo_H1:        NaN   \n",
            "4              ES:Euskotren:Place:2579_Vestibulo_D1:        NaN   \n",
            "..                                               ...        ...   \n",
            "786  ES:Euskotren:StopPlaceEntrance:2661_Entrada_E1:        NaN   \n",
            "787  ES:Euskotren:StopPlaceEntrance:2663_Entrada_E1:        NaN   \n",
            "788  ES:Euskotren:StopPlaceEntrance:2663_Entrada_E2:        NaN   \n",
            "789  ES:Euskotren:StopPlaceEntrance:2663_Entrada_E3:        NaN   \n",
            "790  ES:Euskotren:StopPlaceEntrance:2663_Entrada_E4:        NaN   \n",
            "\n",
            "                   stop_name  tts_stop_name  \\\n",
            "0                    Atondoa            NaN   \n",
            "1                    Atondoa            NaN   \n",
            "2                    Atondoa            NaN   \n",
            "3                    Atondoa            NaN   \n",
            "4                    Atondoa            NaN   \n",
            "..                       ...            ...   \n",
            "786                  Irteera            NaN   \n",
            "787  Irteeera (Kepa enbeita)            NaN   \n",
            "788        Irteeera (Lozoño)            NaN   \n",
            "789    Irteeera (Pau Casals)            NaN   \n",
            "790      Irteeera (Langaran)            NaN   \n",
            "\n",
            "                               stop_desc   stop_lat  stop_lon  \\\n",
            "0    San Jose de Lutxana Auzoa / Erandio  43.291350 -2.969773   \n",
            "1       Plazuela de San Nicolás / Bilbao  43.260025 -2.922042   \n",
            "2       Plazuela de San Nicolás / Bilbao  43.260025 -2.922042   \n",
            "3       Plazuela de San Nicolás / Bilbao  43.260000 -2.922112   \n",
            "4     Santamañe Kalea, s/n bajo / Bermeo  43.417771 -2.723233   \n",
            "..                                   ...        ...       ...   \n",
            "786       Calle de Oletxe, 48 / Usansolo  43.217854 -2.821601   \n",
            "787            Avda. Pau Casals / Bilbao  43.259480 -2.900041   \n",
            "788            Avda. Pau Casals / Bilbao  43.258672 -2.899788   \n",
            "789            Avda. Pau Casals / Bilbao  43.258627 -2.899256   \n",
            "790            Avda. Pau Casals / Bilbao  43.258100 -2.898047   \n",
            "\n",
            "                  zone_id  stop_url  location_type  \\\n",
            "0    ES:Euskotren:Zone:2:       NaN              3   \n",
            "1    ES:Euskotren:Zone:3:       NaN              3   \n",
            "2    ES:Euskotren:Zone:3:       NaN              3   \n",
            "3    ES:Euskotren:Zone:3:       NaN              3   \n",
            "4    ES:Euskotren:Zone:8:       NaN              3   \n",
            "..                    ...       ...            ...   \n",
            "786  ES:Euskotren:Zone:4:       NaN              2   \n",
            "787  ES:Euskotren:Zone:3:       NaN              2   \n",
            "788  ES:Euskotren:Zone:3:       NaN              2   \n",
            "789  ES:Euskotren:Zone:3:       NaN              2   \n",
            "790  ES:Euskotren:Zone:3:       NaN              2   \n",
            "\n",
            "                   parent_station  stop_timezone  wheelchair_boarding  \\\n",
            "0    ES:Euskotren:StopPlace:2576:            NaN                    1   \n",
            "1    ES:Euskotren:StopPlace:2577:            NaN                    1   \n",
            "2    ES:Euskotren:StopPlace:2577:            NaN                    2   \n",
            "3    ES:Euskotren:StopPlace:2577:            NaN                    1   \n",
            "4    ES:Euskotren:StopPlace:2579:            NaN                    1   \n",
            "..                            ...            ...                  ...   \n",
            "786  ES:Euskotren:StopPlace:2661:            NaN                    1   \n",
            "787  ES:Euskotren:StopPlace:2663:            NaN                    2   \n",
            "788  ES:Euskotren:StopPlace:2663:            NaN                    2   \n",
            "789  ES:Euskotren:StopPlace:2663:            NaN                    1   \n",
            "790  ES:Euskotren:StopPlace:2663:            NaN                    2   \n",
            "\n",
            "                             level_id  platform_code unique_agency_id  \\\n",
            "0         ES:Euskotren:Level:Level:0:            NaN              nan   \n",
            "1         ES:Euskotren:Level:Level:0:            NaN              nan   \n",
            "2         ES:Euskotren:Level:Level:0:            NaN              nan   \n",
            "3         ES:Euskotren:Level:Level:0:            NaN              nan   \n",
            "4    ES:Euskotren:Level:Level:Minus1:            NaN              nan   \n",
            "..                                ...            ...              ...   \n",
            "786       ES:Euskotren:Level:Level:0:            NaN              nan   \n",
            "787       ES:Euskotren:Level:Level:0:            NaN              nan   \n",
            "788       ES:Euskotren:Level:Level:0:            NaN              nan   \n",
            "789       ES:Euskotren:Level:Level:0:            NaN              nan   \n",
            "790       ES:Euskotren:Level:Level:0:            NaN              nan   \n",
            "\n",
            "    unique_feed_id  \n",
            "0      euskotren_5  \n",
            "1      euskotren_5  \n",
            "2      euskotren_5  \n",
            "3      euskotren_5  \n",
            "4      euskotren_5  \n",
            "..             ...  \n",
            "786    euskotren_5  \n",
            "787    euskotren_5  \n",
            "788    euskotren_5  \n",
            "789    euskotren_5  \n",
            "790    euskotren_5  \n",
            "\n",
            "[459 rows x 17 columns]\n",
            "Removed identified stops that are outside of bounding box.\n",
            "Euskotren GTFS feed stops: coordinates are in northwest hemisphere. Latitude = North (90); Longitude = West (-90).\n",
            "Appended route type to stops\n",
            "Appended route type to stop_times\n",
            "--------------------------------\n",
            "--------------------------------\n",
            "Processing GTFS feed: lurraldebus_lasarte\n"
          ]
        },
        {
          "output_type": "stream",
          "name": "stderr",
          "text": [
            "INFO:urbanaccess:Unique agency id operation complete. Took 0.01 seconds\n",
            "INFO:urbanaccess:Unique GTFS feed id operation complete. Took 0.00 seconds\n",
            "INFO:urbanaccess:No GTFS feed stops were found to be outside the bounding box coordinates\n",
            "INFO:urbanaccess:lurraldebus_lasarte GTFS feed stops: coordinates are in northwest hemisphere. Latitude = North (90); Longitude = West (-90).\n",
            "INFO:urbanaccess:Appended route type to stops\n",
            "INFO:urbanaccess:Appended route type to stop_times\n",
            "INFO:urbanaccess:--------------------------------\n",
            "INFO:urbanaccess:--------------------------------\n",
            "INFO:urbanaccess:Processing GTFS feed: lurraldebus_zarautz\n",
            "INFO:urbanaccess:The unique agency id: zarauzko_hiribusa was generated using the name of the agency in the agency.txt file.\n",
            "INFO:urbanaccess:Unique agency id operation complete. Took 0.01 seconds\n",
            "INFO:urbanaccess:Unique GTFS feed id operation complete. Took 0.00 seconds\n",
            "INFO:urbanaccess:No GTFS feed stops were found to be outside the bounding box coordinates\n",
            "INFO:urbanaccess:lurraldebus_zarautz GTFS feed stops: coordinates are in northwest hemisphere. Latitude = North (90); Longitude = West (-90).\n",
            "INFO:urbanaccess:Appended route type to stops\n",
            "INFO:urbanaccess:Appended route type to stop_times\n"
          ]
        },
        {
          "output_type": "stream",
          "name": "stdout",
          "text": [
            "The unique agency id: lurraldebus_urbano_de_lasarte was generated using the name of the agency in the agency.txt file.\n",
            "Unique agency id operation complete. Took 0.01 seconds\n",
            "Unique GTFS feed id operation complete. Took 0.00 seconds\n",
            "No GTFS feed stops were found to be outside the bounding box coordinates\n",
            "lurraldebus_lasarte GTFS feed stops: coordinates are in northwest hemisphere. Latitude = North (90); Longitude = West (-90).\n",
            "Appended route type to stops\n",
            "Appended route type to stop_times\n",
            "--------------------------------\n",
            "--------------------------------\n",
            "Processing GTFS feed: lurraldebus_zarautz\n",
            "The unique agency id: zarauzko_hiribusa was generated using the name of the agency in the agency.txt file.\n",
            "Unique agency id operation complete. Took 0.01 seconds\n",
            "Unique GTFS feed id operation complete. Took 0.00 seconds\n",
            "No GTFS feed stops were found to be outside the bounding box coordinates\n",
            "lurraldebus_zarautz GTFS feed stops: coordinates are in northwest hemisphere. Latitude = North (90); Longitude = West (-90).\n",
            "Appended route type to stops\n",
            "Appended route type to stop_times\n"
          ]
        },
        {
          "output_type": "stream",
          "name": "stderr",
          "text": [
            "INFO:urbanaccess:--------------------------------\n",
            "INFO:urbanaccess:--------------------------------\n",
            "INFO:urbanaccess:Processing GTFS feed: dbus\n"
          ]
        },
        {
          "output_type": "stream",
          "name": "stdout",
          "text": [
            "--------------------------------\n",
            "--------------------------------\n",
            "Processing GTFS feed: dbus\n"
          ]
        },
        {
          "output_type": "stream",
          "name": "stderr",
          "text": [
            "INFO:urbanaccess:The unique agency id: dbus was generated using the name of the agency in the agency.txt file.\n",
            "INFO:urbanaccess:Unique agency id operation complete. Took 0.03 seconds\n",
            "INFO:urbanaccess:Unique GTFS feed id operation complete. Took 0.00 seconds\n",
            "INFO:urbanaccess:No GTFS feed stops were found to be outside the bounding box coordinates\n",
            "INFO:urbanaccess:dbus GTFS feed stops: coordinates are in northwest hemisphere. Latitude = North (90); Longitude = West (-90).\n"
          ]
        },
        {
          "output_type": "stream",
          "name": "stdout",
          "text": [
            "The unique agency id: dbus was generated using the name of the agency in the agency.txt file.\n",
            "Unique agency id operation complete. Took 0.03 seconds\n",
            "Unique GTFS feed id operation complete. Took 0.00 seconds\n",
            "No GTFS feed stops were found to be outside the bounding box coordinates\n",
            "dbus GTFS feed stops: coordinates are in northwest hemisphere. Latitude = North (90); Longitude = West (-90).\n"
          ]
        },
        {
          "output_type": "stream",
          "name": "stderr",
          "text": [
            "INFO:urbanaccess:Appended route type to stops\n",
            "INFO:urbanaccess:Appended route type to stop_times\n",
            "INFO:urbanaccess:--------------------------------\n"
          ]
        },
        {
          "output_type": "stream",
          "name": "stdout",
          "text": [
            "Appended route type to stops\n",
            "Appended route type to stop_times\n"
          ]
        },
        {
          "output_type": "stream",
          "name": "stderr",
          "text": [
            "INFO:urbanaccess:--------------------------------\n",
            "INFO:urbanaccess:Processing GTFS feed: lurraldebus_tbh\n",
            "INFO:urbanaccess:The unique agency id: lurraldebus_interurbano_tolosa_buruntzaldea was generated using the name of the agency in the agency.txt file.\n",
            "INFO:urbanaccess:Unique agency id operation complete. Took 0.01 seconds\n"
          ]
        },
        {
          "output_type": "stream",
          "name": "stdout",
          "text": [
            "--------------------------------\n",
            "--------------------------------\n",
            "Processing GTFS feed: lurraldebus_tbh\n",
            "The unique agency id: lurraldebus_interurbano_tolosa_buruntzaldea was generated using the name of the agency in the agency.txt file.\n",
            "Unique agency id operation complete. Took 0.01 seconds\n"
          ]
        },
        {
          "output_type": "stream",
          "name": "stderr",
          "text": [
            "INFO:urbanaccess:Unique GTFS feed id operation complete. Took 0.00 seconds\n",
            "INFO:urbanaccess:No GTFS feed stops were found to be outside the bounding box coordinates\n",
            "INFO:urbanaccess:lurraldebus_tbh GTFS feed stops: coordinates are in northwest hemisphere. Latitude = North (90); Longitude = West (-90).\n",
            "INFO:urbanaccess:Appended route type to stops\n",
            "INFO:urbanaccess:Appended route type to stop_times\n",
            "INFO:urbanaccess:--------------------------------\n",
            "INFO:urbanaccess:--------------------------------\n",
            "INFO:urbanaccess:Processing GTFS feed: Renfe_cercanias\n"
          ]
        },
        {
          "output_type": "stream",
          "name": "stdout",
          "text": [
            "Unique GTFS feed id operation complete. Took 0.00 seconds\n",
            "No GTFS feed stops were found to be outside the bounding box coordinates\n",
            "lurraldebus_tbh GTFS feed stops: coordinates are in northwest hemisphere. Latitude = North (90); Longitude = West (-90).\n",
            "Appended route type to stops\n",
            "Appended route type to stop_times\n",
            "--------------------------------\n",
            "--------------------------------\n",
            "Processing GTFS feed: Renfe_cercanias\n"
          ]
        },
        {
          "output_type": "stream",
          "name": "stderr",
          "text": [
            "INFO:urbanaccess:The unique agency id: renfe_cercanias was generated using the name of the agency in the agency.txt file.\n",
            "INFO:urbanaccess:Unique agency id operation complete. Took 0.12 seconds\n",
            "INFO:urbanaccess:Unique GTFS feed id operation complete. Took 0.02 seconds\n",
            "WARNING:urbanaccess:WARNING: Renfe_cercanias GTFS feed stops: 943 of 973 (96.92 percent of total) record(s) are outside the bounding box coordinates\n",
            "INFO:urbanaccess:Records:\n",
            "INFO:urbanaccess:    stop_id                                  stop_name   stop_lat  stop_lon  \\\n",
            "0     04040         Estación de tren Zaragoza-Delicias  41.658649 -0.911615   \n",
            "1     05102                  Estación de tren San Xoán  43.494664 -8.213713   \n",
            "2     05103                Estación de tren Santa Icía  43.500113 -8.199581   \n",
            "3     05104              Estación de tren Virxe Do Mar  43.496509 -8.204876   \n",
            "4     05105                  Estación de tren PiÑeiros  43.509526 -8.183968   \n",
            "..      ...                                        ...        ...       ...   \n",
            "968   97200  Estación de tren Mirasierra-Paco De Lucía  40.499662 -3.709016   \n",
            "969   97201      Estación de tren Madrid-Ramón Y Cajal  40.488298 -3.694683   \n",
            "970   98003            Estación de tren Fte De La Mora  40.484794 -3.662886   \n",
            "971   98304                Estación de tren Valdebebas  40.482000 -3.616292   \n",
            "972   98305      Estación de tren Madrid-Aeropuerto T4  40.491740 -3.593473   \n",
            "\n",
            "     wheelchair_boarding unique_agency_id      unique_feed_id  \n",
            "0                      1  renfe_cercanias  renfe_cercanias_10  \n",
            "1                      2  renfe_cercanias  renfe_cercanias_10  \n",
            "2                      2  renfe_cercanias  renfe_cercanias_10  \n",
            "3                      2  renfe_cercanias  renfe_cercanias_10  \n",
            "4                      2  renfe_cercanias  renfe_cercanias_10  \n",
            "..                   ...              ...                 ...  \n",
            "968                    2  renfe_cercanias  renfe_cercanias_10  \n",
            "969                    2  renfe_cercanias  renfe_cercanias_10  \n",
            "970                    2  renfe_cercanias  renfe_cercanias_10  \n",
            "971                    2  renfe_cercanias  renfe_cercanias_10  \n",
            "972                    2  renfe_cercanias  renfe_cercanias_10  \n",
            "\n",
            "[943 rows x 7 columns]\n",
            "INFO:urbanaccess:Removed identified stops that are outside of bounding box.\n",
            "INFO:urbanaccess:Renfe_cercanias GTFS feed stops: coordinates are in northwest hemisphere. Latitude = North (90); Longitude = West (-90).\n"
          ]
        },
        {
          "output_type": "stream",
          "name": "stdout",
          "text": [
            "The unique agency id: renfe_cercanias was generated using the name of the agency in the agency.txt file.\n",
            "Unique agency id operation complete. Took 0.12 seconds\n",
            "Unique GTFS feed id operation complete. Took 0.02 seconds\n",
            "WARNING: Renfe_cercanias GTFS feed stops: 943 of 973 (96.92 percent of total) record(s) are outside the bounding box coordinates\n",
            "Records:\n",
            "    stop_id                                  stop_name   stop_lat  stop_lon  \\\n",
            "0     04040         Estación de tren Zaragoza-Delicias  41.658649 -0.911615   \n",
            "1     05102                  Estación de tren San Xoán  43.494664 -8.213713   \n",
            "2     05103                Estación de tren Santa Icía  43.500113 -8.199581   \n",
            "3     05104              Estación de tren Virxe Do Mar  43.496509 -8.204876   \n",
            "4     05105                  Estación de tren PiÑeiros  43.509526 -8.183968   \n",
            "..      ...                                        ...        ...       ...   \n",
            "968   97200  Estación de tren Mirasierra-Paco De Lucía  40.499662 -3.709016   \n",
            "969   97201      Estación de tren Madrid-Ramón Y Cajal  40.488298 -3.694683   \n",
            "970   98003            Estación de tren Fte De La Mora  40.484794 -3.662886   \n",
            "971   98304                Estación de tren Valdebebas  40.482000 -3.616292   \n",
            "972   98305      Estación de tren Madrid-Aeropuerto T4  40.491740 -3.593473   \n",
            "\n",
            "     wheelchair_boarding unique_agency_id      unique_feed_id  \n",
            "0                      1  renfe_cercanias  renfe_cercanias_10  \n",
            "1                      2  renfe_cercanias  renfe_cercanias_10  \n",
            "2                      2  renfe_cercanias  renfe_cercanias_10  \n",
            "3                      2  renfe_cercanias  renfe_cercanias_10  \n",
            "4                      2  renfe_cercanias  renfe_cercanias_10  \n",
            "..                   ...              ...                 ...  \n",
            "968                    2  renfe_cercanias  renfe_cercanias_10  \n",
            "969                    2  renfe_cercanias  renfe_cercanias_10  \n",
            "970                    2  renfe_cercanias  renfe_cercanias_10  \n",
            "971                    2  renfe_cercanias  renfe_cercanias_10  \n",
            "972                    2  renfe_cercanias  renfe_cercanias_10  \n",
            "\n",
            "[943 rows x 7 columns]\n",
            "Removed identified stops that are outside of bounding box.\n",
            "Renfe_cercanias GTFS feed stops: coordinates are in northwest hemisphere. Latitude = North (90); Longitude = West (-90).\n"
          ]
        },
        {
          "output_type": "stream",
          "name": "stderr",
          "text": [
            "INFO:urbanaccess:Appended route type to stops\n",
            "INFO:urbanaccess:Appended route type to stop_times\n",
            "INFO:urbanaccess:--------------------------------\n",
            "INFO:urbanaccess:--------------------------------\n",
            "INFO:urbanaccess:Processing GTFS feed: Renfe\n"
          ]
        },
        {
          "output_type": "stream",
          "name": "stdout",
          "text": [
            "Appended route type to stops\n",
            "Appended route type to stop_times\n",
            "--------------------------------\n",
            "--------------------------------\n",
            "Processing GTFS feed: Renfe\n"
          ]
        },
        {
          "output_type": "stream",
          "name": "stderr",
          "text": [
            "INFO:urbanaccess:The unique agency id: renfe_operadora was generated using the name of the agency in the agency.txt file.\n",
            "INFO:urbanaccess:Unique agency id operation complete. Took 0.01 seconds\n",
            "INFO:urbanaccess:Unique GTFS feed id operation complete. Took 0.00 seconds\n",
            "WARNING:urbanaccess:WARNING: Renfe GTFS feed stops: 753 of 774 (97.29 percent of total) record(s) are outside the bounding box coordinates\n",
            "INFO:urbanaccess:Records:\n",
            "INFO:urbanaccess:    stop_id  stop_code                              stop_name  stop_desc  \\\n",
            "0     17000        NaN      Estación de tren Madrid-Chamartin        NaN   \n",
            "1     37606        NaN               Estación de tren Badajoz        NaN   \n",
            "2     37603        NaN               Estación de tren Montijo        NaN   \n",
            "3     37500        NaN                Estación de tren Merida        NaN   \n",
            "4     35400        NaN               Estación de tren Caceres        NaN   \n",
            "..      ...        ...                                    ...        ...   \n",
            "769   34008        NaN   Estación de tren Narros del Castillo        NaN   \n",
            "770   34007        NaN               Estación de tren Crespos        NaN   \n",
            "771   34005        NaN  Estación de tren San Pedro del Arroyo        NaN   \n",
            "772   34002        NaN   Estación de tren Cardenyosa de Avila        NaN   \n",
            "773   07004        NaN               Estación de tren Aguilas        NaN   \n",
            "\n",
            "      stop_lat  stop_lon  zone_id  stop_url  location_type  parent_station  \\\n",
            "0    40.472099 -3.682469      NaN       NaN            NaN             NaN   \n",
            "1    38.890696 -6.981753      NaN       NaN            NaN             NaN   \n",
            "2    38.913539 -6.598577      NaN       NaN            NaN             NaN   \n",
            "3    38.921503 -6.343794      NaN       NaN            NaN             NaN   \n",
            "4    39.461131 -6.385679      NaN       NaN            NaN             NaN   \n",
            "..         ...       ...      ...       ...            ...             ...   \n",
            "769  40.866641 -5.052869      NaN       NaN            NaN             NaN   \n",
            "770  40.870110 -4.968030      NaN       NaN            NaN             NaN   \n",
            "771  40.803841 -4.871407      NaN       NaN            NaN             NaN   \n",
            "772  40.739120 -4.750750      NaN       NaN            NaN             NaN   \n",
            "773  37.409833 -1.572578      NaN       NaN            NaN             NaN   \n",
            "\n",
            "     stop_timezone  wheelchair_boarding unique_agency_id unique_feed_id  \n",
            "0    Europe/Madrid                    1  renfe_operadora       renfe_11  \n",
            "1    Europe/Madrid                    1  renfe_operadora       renfe_11  \n",
            "2    Europe/Madrid                    2  renfe_operadora       renfe_11  \n",
            "3    Europe/Madrid                    1  renfe_operadora       renfe_11  \n",
            "4    Europe/Madrid                    1  renfe_operadora       renfe_11  \n",
            "..             ...                  ...              ...            ...  \n",
            "769  Europe/Madrid                    2  renfe_operadora       renfe_11  \n",
            "770  Europe/Madrid                    2  renfe_operadora       renfe_11  \n",
            "771  Europe/Madrid                    2  renfe_operadora       renfe_11  \n",
            "772  Europe/Madrid                    2  renfe_operadora       renfe_11  \n",
            "773  Europe/Madrid                    2  renfe_operadora       renfe_11  \n",
            "\n",
            "[753 rows x 14 columns]\n",
            "INFO:urbanaccess:Removed identified stops that are outside of bounding box.\n",
            "INFO:urbanaccess:Renfe GTFS feed stops: coordinates are in northwest hemisphere. Latitude = North (90); Longitude = West (-90).\n",
            "INFO:urbanaccess:Appended route type to stops\n",
            "INFO:urbanaccess:Appended route type to stop_times\n",
            "INFO:urbanaccess:--------------------------------\n",
            "INFO:urbanaccess:--------------------------------\n",
            "INFO:urbanaccess:Processing GTFS feed: lurraldebus_euskotren_bus\n"
          ]
        },
        {
          "output_type": "stream",
          "name": "stdout",
          "text": [
            "The unique agency id: renfe_operadora was generated using the name of the agency in the agency.txt file.\n",
            "Unique agency id operation complete. Took 0.01 seconds\n",
            "Unique GTFS feed id operation complete. Took 0.00 seconds\n",
            "WARNING: Renfe GTFS feed stops: 753 of 774 (97.29 percent of total) record(s) are outside the bounding box coordinates\n",
            "Records:\n",
            "    stop_id  stop_code                              stop_name  stop_desc  \\\n",
            "0     17000        NaN      Estación de tren Madrid-Chamartin        NaN   \n",
            "1     37606        NaN               Estación de tren Badajoz        NaN   \n",
            "2     37603        NaN               Estación de tren Montijo        NaN   \n",
            "3     37500        NaN                Estación de tren Merida        NaN   \n",
            "4     35400        NaN               Estación de tren Caceres        NaN   \n",
            "..      ...        ...                                    ...        ...   \n",
            "769   34008        NaN   Estación de tren Narros del Castillo        NaN   \n",
            "770   34007        NaN               Estación de tren Crespos        NaN   \n",
            "771   34005        NaN  Estación de tren San Pedro del Arroyo        NaN   \n",
            "772   34002        NaN   Estación de tren Cardenyosa de Avila        NaN   \n",
            "773   07004        NaN               Estación de tren Aguilas        NaN   \n",
            "\n",
            "      stop_lat  stop_lon  zone_id  stop_url  location_type  parent_station  \\\n",
            "0    40.472099 -3.682469      NaN       NaN            NaN             NaN   \n",
            "1    38.890696 -6.981753      NaN       NaN            NaN             NaN   \n",
            "2    38.913539 -6.598577      NaN       NaN            NaN             NaN   \n",
            "3    38.921503 -6.343794      NaN       NaN            NaN             NaN   \n",
            "4    39.461131 -6.385679      NaN       NaN            NaN             NaN   \n",
            "..         ...       ...      ...       ...            ...             ...   \n",
            "769  40.866641 -5.052869      NaN       NaN            NaN             NaN   \n",
            "770  40.870110 -4.968030      NaN       NaN            NaN             NaN   \n",
            "771  40.803841 -4.871407      NaN       NaN            NaN             NaN   \n",
            "772  40.739120 -4.750750      NaN       NaN            NaN             NaN   \n",
            "773  37.409833 -1.572578      NaN       NaN            NaN             NaN   \n",
            "\n",
            "     stop_timezone  wheelchair_boarding unique_agency_id unique_feed_id  \n",
            "0    Europe/Madrid                    1  renfe_operadora       renfe_11  \n",
            "1    Europe/Madrid                    1  renfe_operadora       renfe_11  \n",
            "2    Europe/Madrid                    2  renfe_operadora       renfe_11  \n",
            "3    Europe/Madrid                    1  renfe_operadora       renfe_11  \n",
            "4    Europe/Madrid                    1  renfe_operadora       renfe_11  \n",
            "..             ...                  ...              ...            ...  \n",
            "769  Europe/Madrid                    2  renfe_operadora       renfe_11  \n",
            "770  Europe/Madrid                    2  renfe_operadora       renfe_11  \n",
            "771  Europe/Madrid                    2  renfe_operadora       renfe_11  \n",
            "772  Europe/Madrid                    2  renfe_operadora       renfe_11  \n",
            "773  Europe/Madrid                    2  renfe_operadora       renfe_11  \n",
            "\n",
            "[753 rows x 14 columns]\n",
            "Removed identified stops that are outside of bounding box.\n",
            "Renfe GTFS feed stops: coordinates are in northwest hemisphere. Latitude = North (90); Longitude = West (-90).\n",
            "Appended route type to stops\n",
            "Appended route type to stop_times\n",
            "--------------------------------\n",
            "--------------------------------\n",
            "Processing GTFS feed: lurraldebus_euskotren_bus\n"
          ]
        },
        {
          "output_type": "stream",
          "name": "stderr",
          "text": [
            "INFO:urbanaccess:The unique agency id: lurraldebus_euskotren was generated using the name of the agency in the agency.txt file.\n",
            "INFO:urbanaccess:Unique agency id operation complete. Took 0.01 seconds\n",
            "INFO:urbanaccess:Unique GTFS feed id operation complete. Took 0.00 seconds\n",
            "WARNING:urbanaccess:WARNING: lurraldebus_euskotren_bus GTFS feed stops: 3 of 231 (1.30 percent of total) record(s) are outside the bounding box coordinates\n",
            "INFO:urbanaccess:Records:\n",
            "INFO:urbanaccess:    stop_id  stop_code   stop_name   stop_lat  stop_lon  zone_id  \\\n",
            "25      118        NaN  Amorebieta  43.218118 -2.730429       15   \n",
            "109    4350        NaN   Magdalena  43.171779 -2.632961       11   \n",
            "110    4351        NaN   Magdalena  43.171626 -2.632974       11   \n",
            "\n",
            "     location_type       unique_agency_id                unique_feed_id  \n",
            "25               0  lurraldebus_euskotren  lurraldebus_euskotren_bus_12  \n",
            "109              0  lurraldebus_euskotren  lurraldebus_euskotren_bus_12  \n",
            "110              0  lurraldebus_euskotren  lurraldebus_euskotren_bus_12  \n",
            "INFO:urbanaccess:Removed identified stops that are outside of bounding box.\n",
            "INFO:urbanaccess:lurraldebus_euskotren_bus GTFS feed stops: coordinates are in northwest hemisphere. Latitude = North (90); Longitude = West (-90).\n",
            "INFO:urbanaccess:Appended route type to stops\n",
            "INFO:urbanaccess:Appended route type to stop_times\n",
            "INFO:urbanaccess:--------------------------------\n",
            "INFO:urbanaccess:--------------------------------\n",
            "INFO:urbanaccess:Processing GTFS feed: lurraldebus_tolosaldea\n"
          ]
        },
        {
          "output_type": "stream",
          "name": "stdout",
          "text": [
            "The unique agency id: lurraldebus_euskotren was generated using the name of the agency in the agency.txt file.\n",
            "Unique agency id operation complete. Took 0.01 seconds\n",
            "Unique GTFS feed id operation complete. Took 0.00 seconds\n",
            "WARNING: lurraldebus_euskotren_bus GTFS feed stops: 3 of 231 (1.30 percent of total) record(s) are outside the bounding box coordinates\n",
            "Records:\n",
            "    stop_id  stop_code   stop_name   stop_lat  stop_lon  zone_id  \\\n",
            "25      118        NaN  Amorebieta  43.218118 -2.730429       15   \n",
            "109    4350        NaN   Magdalena  43.171779 -2.632961       11   \n",
            "110    4351        NaN   Magdalena  43.171626 -2.632974       11   \n",
            "\n",
            "     location_type       unique_agency_id                unique_feed_id  \n",
            "25               0  lurraldebus_euskotren  lurraldebus_euskotren_bus_12  \n",
            "109              0  lurraldebus_euskotren  lurraldebus_euskotren_bus_12  \n",
            "110              0  lurraldebus_euskotren  lurraldebus_euskotren_bus_12  \n",
            "Removed identified stops that are outside of bounding box.\n",
            "lurraldebus_euskotren_bus GTFS feed stops: coordinates are in northwest hemisphere. Latitude = North (90); Longitude = West (-90).\n",
            "Appended route type to stops\n",
            "Appended route type to stop_times\n",
            "--------------------------------\n",
            "--------------------------------\n",
            "Processing GTFS feed: lurraldebus_tolosaldea\n"
          ]
        },
        {
          "output_type": "stream",
          "name": "stderr",
          "text": [
            "INFO:urbanaccess:The unique agency id: lurraldebus_tolosaldea was generated using the name of the agency in the agency.txt file.\n",
            "INFO:urbanaccess:Unique agency id operation complete. Took 0.01 seconds\n",
            "INFO:urbanaccess:Unique GTFS feed id operation complete. Took 0.00 seconds\n",
            "INFO:urbanaccess:No GTFS feed stops were found to be outside the bounding box coordinates\n",
            "INFO:urbanaccess:lurraldebus_tolosaldea GTFS feed stops: coordinates are in northwest hemisphere. Latitude = North (90); Longitude = West (-90).\n",
            "INFO:urbanaccess:Appended route type to stops\n",
            "INFO:urbanaccess:Appended route type to stop_times\n",
            "INFO:urbanaccess:--------------------------------\n",
            "INFO:urbanaccess:--------------------------------\n",
            "INFO:urbanaccess:Processing GTFS feed: lurraldebus_ekialdebus\n"
          ]
        },
        {
          "output_type": "stream",
          "name": "stdout",
          "text": [
            "The unique agency id: lurraldebus_tolosaldea was generated using the name of the agency in the agency.txt file.\n",
            "Unique agency id operation complete. Took 0.01 seconds\n",
            "Unique GTFS feed id operation complete. Took 0.00 seconds\n",
            "No GTFS feed stops were found to be outside the bounding box coordinates\n",
            "lurraldebus_tolosaldea GTFS feed stops: coordinates are in northwest hemisphere. Latitude = North (90); Longitude = West (-90).\n",
            "Appended route type to stops\n",
            "Appended route type to stop_times\n",
            "--------------------------------\n",
            "--------------------------------\n",
            "Processing GTFS feed: lurraldebus_ekialdebus\n"
          ]
        },
        {
          "output_type": "stream",
          "name": "stderr",
          "text": [
            "INFO:urbanaccess:The unique agency id: lurraldebus_ekialdebus was generated using the name of the agency in the agency.txt file.\n",
            "INFO:urbanaccess:Unique agency id operation complete. Took 0.01 seconds\n",
            "INFO:urbanaccess:Unique GTFS feed id operation complete. Took 0.00 seconds\n",
            "INFO:urbanaccess:No GTFS feed stops were found to be outside the bounding box coordinates\n",
            "INFO:urbanaccess:lurraldebus_ekialdebus GTFS feed stops: coordinates are in northwest hemisphere. Latitude = North (90); Longitude = West (-90).\n",
            "INFO:urbanaccess:Appended route type to stops\n",
            "INFO:urbanaccess:Appended route type to stop_times\n"
          ]
        },
        {
          "output_type": "stream",
          "name": "stdout",
          "text": [
            "The unique agency id: lurraldebus_ekialdebus was generated using the name of the agency in the agency.txt file.\n",
            "Unique agency id operation complete. Took 0.01 seconds\n",
            "Unique GTFS feed id operation complete. Took 0.00 seconds\n",
            "No GTFS feed stops were found to be outside the bounding box coordinates\n",
            "lurraldebus_ekialdebus GTFS feed stops: coordinates are in northwest hemisphere. Latitude = North (90); Longitude = West (-90).\n",
            "Appended route type to stops\n",
            "Appended route type to stop_times\n"
          ]
        },
        {
          "output_type": "stream",
          "name": "stderr",
          "text": [
            "INFO:urbanaccess:--------------------------------\n",
            "INFO:urbanaccess:--------------------------------\n",
            "INFO:urbanaccess:Processing GTFS feed: lurraldebus_renteria\n",
            "INFO:urbanaccess:The unique agency id: lurraldebus_urbano_de_errenteria was generated using the name of the agency in the agency.txt file.\n",
            "INFO:urbanaccess:Unique agency id operation complete. Took 0.01 seconds\n",
            "INFO:urbanaccess:Unique GTFS feed id operation complete. Took 0.00 seconds\n",
            "INFO:urbanaccess:No GTFS feed stops were found to be outside the bounding box coordinates\n",
            "INFO:urbanaccess:lurraldebus_renteria GTFS feed stops: coordinates are in northwest hemisphere. Latitude = North (90); Longitude = West (-90).\n",
            "INFO:urbanaccess:Appended route type to stops\n",
            "INFO:urbanaccess:Appended route type to stop_times\n"
          ]
        },
        {
          "output_type": "stream",
          "name": "stdout",
          "text": [
            "--------------------------------\n",
            "--------------------------------\n",
            "Processing GTFS feed: lurraldebus_renteria\n",
            "The unique agency id: lurraldebus_urbano_de_errenteria was generated using the name of the agency in the agency.txt file.\n",
            "Unique agency id operation complete. Took 0.01 seconds\n",
            "Unique GTFS feed id operation complete. Took 0.00 seconds\n",
            "No GTFS feed stops were found to be outside the bounding box coordinates\n",
            "lurraldebus_renteria GTFS feed stops: coordinates are in northwest hemisphere. Latitude = North (90); Longitude = West (-90).\n",
            "Appended route type to stops\n",
            "Appended route type to stop_times\n"
          ]
        },
        {
          "output_type": "stream",
          "name": "stderr",
          "text": [
            "INFO:urbanaccess:--------------------------------\n",
            "INFO:urbanaccess:--------------------------------\n",
            "INFO:urbanaccess:Processing GTFS feed: lurraldebus_arrasate\n",
            "INFO:urbanaccess:The unique agency id: lurraldebus_urbano_de_arrasate was generated using the name of the agency in the agency.txt file.\n",
            "INFO:urbanaccess:Unique agency id operation complete. Took 0.00 seconds\n",
            "INFO:urbanaccess:Unique GTFS feed id operation complete. Took 0.00 seconds\n",
            "INFO:urbanaccess:No GTFS feed stops were found to be outside the bounding box coordinates\n",
            "INFO:urbanaccess:lurraldebus_arrasate GTFS feed stops: coordinates are in northwest hemisphere. Latitude = North (90); Longitude = West (-90).\n",
            "INFO:urbanaccess:Appended route type to stops\n",
            "INFO:urbanaccess:Appended route type to stop_times\n"
          ]
        },
        {
          "output_type": "stream",
          "name": "stdout",
          "text": [
            "--------------------------------\n",
            "--------------------------------\n",
            "Processing GTFS feed: lurraldebus_arrasate\n",
            "The unique agency id: lurraldebus_urbano_de_arrasate was generated using the name of the agency in the agency.txt file.\n",
            "Unique agency id operation complete. Took 0.00 seconds\n",
            "Unique GTFS feed id operation complete. Took 0.00 seconds\n",
            "No GTFS feed stops were found to be outside the bounding box coordinates\n",
            "lurraldebus_arrasate GTFS feed stops: coordinates are in northwest hemisphere. Latitude = North (90); Longitude = West (-90).\n",
            "Appended route type to stops\n",
            "Appended route type to stop_times\n"
          ]
        },
        {
          "output_type": "stream",
          "name": "stderr",
          "text": [
            "INFO:urbanaccess:--------------------------------\n",
            "INFO:urbanaccess:--------------------------------\n",
            "INFO:urbanaccess:Processing GTFS feed: lurraldebus_eibar\n",
            "INFO:urbanaccess:The unique agency id: udalbus_eibar was generated using the name of the agency in the agency.txt file.\n",
            "INFO:urbanaccess:Unique agency id operation complete. Took 0.01 seconds\n",
            "INFO:urbanaccess:Unique GTFS feed id operation complete. Took 0.01 seconds\n",
            "INFO:urbanaccess:No GTFS feed stops were found to be outside the bounding box coordinates\n",
            "INFO:urbanaccess:lurraldebus_eibar GTFS feed stops: coordinates are in northwest hemisphere. Latitude = North (90); Longitude = West (-90).\n",
            "INFO:urbanaccess:Appended route type to stops\n",
            "INFO:urbanaccess:Appended route type to stop_times\n"
          ]
        },
        {
          "output_type": "stream",
          "name": "stdout",
          "text": [
            "--------------------------------\n",
            "--------------------------------\n",
            "Processing GTFS feed: lurraldebus_eibar\n",
            "The unique agency id: udalbus_eibar was generated using the name of the agency in the agency.txt file.\n",
            "Unique agency id operation complete. Took 0.01 seconds\n",
            "Unique GTFS feed id operation complete. Took 0.01 seconds\n",
            "No GTFS feed stops were found to be outside the bounding box coordinates\n",
            "lurraldebus_eibar GTFS feed stops: coordinates are in northwest hemisphere. Latitude = North (90); Longitude = West (-90).\n",
            "Appended route type to stops\n",
            "Appended route type to stop_times\n"
          ]
        },
        {
          "output_type": "stream",
          "name": "stderr",
          "text": [
            "INFO:urbanaccess:--------------------------------\n",
            "INFO:urbanaccess:--------------------------------\n",
            "INFO:urbanaccess:Processing GTFS feed: lurraldebus_tsst\n",
            "INFO:urbanaccess:The unique agency id: lurraldebus_cia_tranvia_de_tolosa was generated using the name of the agency in the agency.txt file.\n",
            "INFO:urbanaccess:Unique agency id operation complete. Took 0.01 seconds\n",
            "INFO:urbanaccess:Unique GTFS feed id operation complete. Took 0.00 seconds\n",
            "INFO:urbanaccess:No GTFS feed stops were found to be outside the bounding box coordinates\n",
            "INFO:urbanaccess:lurraldebus_tsst GTFS feed stops: coordinates are in northwest hemisphere. Latitude = North (90); Longitude = West (-90).\n",
            "INFO:urbanaccess:Appended route type to stops\n",
            "INFO:urbanaccess:Appended route type to stop_times\n"
          ]
        },
        {
          "output_type": "stream",
          "name": "stdout",
          "text": [
            "--------------------------------\n",
            "--------------------------------\n",
            "Processing GTFS feed: lurraldebus_tsst\n",
            "The unique agency id: lurraldebus_cia_tranvia_de_tolosa was generated using the name of the agency in the agency.txt file.\n",
            "Unique agency id operation complete. Took 0.01 seconds\n",
            "Unique GTFS feed id operation complete. Took 0.00 seconds\n",
            "No GTFS feed stops were found to be outside the bounding box coordinates\n",
            "lurraldebus_tsst GTFS feed stops: coordinates are in northwest hemisphere. Latitude = North (90); Longitude = West (-90).\n",
            "Appended route type to stops\n",
            "Appended route type to stop_times\n"
          ]
        },
        {
          "output_type": "stream",
          "name": "stderr",
          "text": [
            "INFO:urbanaccess:--------------------------------\n",
            "INFO:urbanaccess:--------------------------------\n",
            "INFO:urbanaccess:Processing GTFS feed: lurraldebus_areizaga\n",
            "INFO:urbanaccess:The unique agency id: lurraldebus_hijos_de_antonio_areizaga_s.a. was generated using the name of the agency in the agency.txt file.\n",
            "INFO:urbanaccess:Unique agency id operation complete. Took 0.01 seconds\n",
            "INFO:urbanaccess:Unique GTFS feed id operation complete. Took 0.00 seconds\n",
            "INFO:urbanaccess:No GTFS feed stops were found to be outside the bounding box coordinates\n",
            "INFO:urbanaccess:lurraldebus_areizaga GTFS feed stops: coordinates are in northwest hemisphere. Latitude = North (90); Longitude = West (-90).\n",
            "INFO:urbanaccess:Appended route type to stops\n",
            "INFO:urbanaccess:Appended route type to stop_times\n"
          ]
        },
        {
          "output_type": "stream",
          "name": "stdout",
          "text": [
            "--------------------------------\n",
            "--------------------------------\n",
            "Processing GTFS feed: lurraldebus_areizaga\n",
            "The unique agency id: lurraldebus_hijos_de_antonio_areizaga_s.a. was generated using the name of the agency in the agency.txt file.\n",
            "Unique agency id operation complete. Took 0.01 seconds\n",
            "Unique GTFS feed id operation complete. Took 0.00 seconds\n",
            "No GTFS feed stops were found to be outside the bounding box coordinates\n",
            "lurraldebus_areizaga GTFS feed stops: coordinates are in northwest hemisphere. Latitude = North (90); Longitude = West (-90).\n",
            "Appended route type to stops\n",
            "Appended route type to stop_times\n"
          ]
        },
        {
          "output_type": "stream",
          "name": "stderr",
          "text": [
            "INFO:urbanaccess:--------------------------------\n",
            "INFO:urbanaccess:--------------------------------\n",
            "INFO:urbanaccess:Processing GTFS feed: lurraldebus_oiartzun\n",
            "INFO:urbanaccess:The unique agency id: lurraldebus_urbano_de_oiartzun was generated using the name of the agency in the agency.txt file.\n",
            "INFO:urbanaccess:Unique agency id operation complete. Took 0.01 seconds\n",
            "INFO:urbanaccess:Unique GTFS feed id operation complete. Took 0.00 seconds\n",
            "INFO:urbanaccess:No GTFS feed stops were found to be outside the bounding box coordinates\n",
            "INFO:urbanaccess:lurraldebus_oiartzun GTFS feed stops: coordinates are in northwest hemisphere. Latitude = North (90); Longitude = West (-90).\n",
            "INFO:urbanaccess:Appended route type to stops\n",
            "INFO:urbanaccess:Appended route type to stop_times\n"
          ]
        },
        {
          "output_type": "stream",
          "name": "stdout",
          "text": [
            "--------------------------------\n",
            "--------------------------------\n",
            "Processing GTFS feed: lurraldebus_oiartzun\n",
            "The unique agency id: lurraldebus_urbano_de_oiartzun was generated using the name of the agency in the agency.txt file.\n",
            "Unique agency id operation complete. Took 0.01 seconds\n",
            "Unique GTFS feed id operation complete. Took 0.00 seconds\n",
            "No GTFS feed stops were found to be outside the bounding box coordinates\n",
            "lurraldebus_oiartzun GTFS feed stops: coordinates are in northwest hemisphere. Latitude = North (90); Longitude = West (-90).\n",
            "Appended route type to stops\n",
            "Appended route type to stop_times\n"
          ]
        },
        {
          "output_type": "stream",
          "name": "stderr",
          "text": [
            "INFO:urbanaccess:--------------------------------\n",
            "INFO:urbanaccess:--------------------------------\n",
            "INFO:urbanaccess:Processing GTFS feed: lurraldebus_auif_urb\n",
            "INFO:urbanaccess:The unique agency id: auif was generated using the name of the agency in the agency.txt file.\n",
            "INFO:urbanaccess:Unique agency id operation complete. Took 0.01 seconds\n",
            "INFO:urbanaccess:Unique GTFS feed id operation complete. Took 0.00 seconds\n",
            "INFO:urbanaccess:No GTFS feed stops were found to be outside the bounding box coordinates\n",
            "INFO:urbanaccess:lurraldebus_auif_urb GTFS feed stops: coordinates are in northwest hemisphere. Latitude = North (90); Longitude = West (-90).\n",
            "INFO:urbanaccess:Appended route type to stops\n",
            "INFO:urbanaccess:Appended route type to stop_times\n"
          ]
        },
        {
          "output_type": "stream",
          "name": "stdout",
          "text": [
            "--------------------------------\n",
            "--------------------------------\n",
            "Processing GTFS feed: lurraldebus_auif_urb\n",
            "The unique agency id: auif was generated using the name of the agency in the agency.txt file.\n",
            "Unique agency id operation complete. Took 0.01 seconds\n",
            "Unique GTFS feed id operation complete. Took 0.00 seconds\n",
            "No GTFS feed stops were found to be outside the bounding box coordinates\n",
            "lurraldebus_auif_urb GTFS feed stops: coordinates are in northwest hemisphere. Latitude = North (90); Longitude = West (-90).\n",
            "Appended route type to stops\n",
            "Appended route type to stop_times\n"
          ]
        },
        {
          "output_type": "stream",
          "name": "stderr",
          "text": [
            "INFO:urbanaccess:--------------------------------\n",
            "INFO:urbanaccess:--------------------------------\n",
            "INFO:urbanaccess:Processing GTFS feed: lurraldebus_hernani\n",
            "INFO:urbanaccess:The unique agency id: lurraldebus_urbano_de_hernani was generated using the name of the agency in the agency.txt file.\n",
            "INFO:urbanaccess:Unique agency id operation complete. Took 0.01 seconds\n",
            "INFO:urbanaccess:Unique GTFS feed id operation complete. Took 0.00 seconds\n",
            "INFO:urbanaccess:No GTFS feed stops were found to be outside the bounding box coordinates\n",
            "INFO:urbanaccess:lurraldebus_hernani GTFS feed stops: coordinates are in northwest hemisphere. Latitude = North (90); Longitude = West (-90).\n",
            "INFO:urbanaccess:Appended route type to stops\n",
            "INFO:urbanaccess:Appended route type to stop_times\n",
            "INFO:urbanaccess:--------------------------------\n"
          ]
        },
        {
          "output_type": "stream",
          "name": "stdout",
          "text": [
            "--------------------------------\n",
            "--------------------------------\n",
            "Processing GTFS feed: lurraldebus_hernani\n",
            "The unique agency id: lurraldebus_urbano_de_hernani was generated using the name of the agency in the agency.txt file.\n",
            "Unique agency id operation complete. Took 0.01 seconds\n",
            "Unique GTFS feed id operation complete. Took 0.00 seconds\n",
            "No GTFS feed stops were found to be outside the bounding box coordinates\n",
            "lurraldebus_hernani GTFS feed stops: coordinates are in northwest hemisphere. Latitude = North (90); Longitude = West (-90).\n",
            "Appended route type to stops\n",
            "Appended route type to stop_times\n",
            "--------------------------------\n"
          ]
        },
        {
          "output_type": "stream",
          "name": "stderr",
          "text": [
            "INFO:urbanaccess:Added descriptive definitions to stops, routes, stop_times, and trips tables\n"
          ]
        },
        {
          "output_type": "stream",
          "name": "stdout",
          "text": [
            "Added descriptive definitions to stops, routes, stop_times, and trips tables\n"
          ]
        },
        {
          "output_type": "stream",
          "name": "stderr",
          "text": [
            "INFO:urbanaccess:Successfully converted ['departure_time'] to seconds past midnight and appended new columns to stop_times. Took 1.84 seconds\n",
            "INFO:urbanaccess:22 GTFS feed file(s) successfully read as dataframes:\n",
            "INFO:urbanaccess:     lurraldebus_pesa\n",
            "INFO:urbanaccess:     lurraldebus_garayar\n",
            "INFO:urbanaccess:     lurraldebus_gipuzkoana\n",
            "INFO:urbanaccess:     lurraldebus_goierrialdea\n",
            "INFO:urbanaccess:     Euskotren\n",
            "INFO:urbanaccess:     lurraldebus_lasarte\n",
            "INFO:urbanaccess:     lurraldebus_zarautz\n",
            "INFO:urbanaccess:     dbus\n",
            "INFO:urbanaccess:     lurraldebus_tbh\n",
            "INFO:urbanaccess:     Renfe_cercanias\n",
            "INFO:urbanaccess:     Renfe\n",
            "INFO:urbanaccess:     lurraldebus_euskotren_bus\n",
            "INFO:urbanaccess:     lurraldebus_tolosaldea\n",
            "INFO:urbanaccess:     lurraldebus_ekialdebus\n",
            "INFO:urbanaccess:     lurraldebus_renteria\n",
            "INFO:urbanaccess:     lurraldebus_arrasate\n",
            "INFO:urbanaccess:     lurraldebus_eibar\n",
            "INFO:urbanaccess:     lurraldebus_tsst\n",
            "INFO:urbanaccess:     lurraldebus_areizaga\n",
            "INFO:urbanaccess:     lurraldebus_oiartzun\n",
            "INFO:urbanaccess:     lurraldebus_auif_urb\n",
            "INFO:urbanaccess:     lurraldebus_hernani\n",
            "INFO:urbanaccess:     Took 15.25 seconds\n",
            "WARNING:urbanaccess:WARNING: Time range passed: ['08:00:00', '20:00:00'] is a 12 hour period. Long periods over 3 hours may take a significant amount of time to process.\n",
            "INFO:urbanaccess:Using calendar to extract service_ids to select trips.\n",
            "INFO:urbanaccess:4,416 service_ids were extracted from calendar\n"
          ]
        },
        {
          "output_type": "stream",
          "name": "stdout",
          "text": [
            "Successfully converted ['departure_time'] to seconds past midnight and appended new columns to stop_times. Took 1.84 seconds\n",
            "22 GTFS feed file(s) successfully read as dataframes:\n",
            "     lurraldebus_pesa\n",
            "     lurraldebus_garayar\n",
            "     lurraldebus_gipuzkoana\n",
            "     lurraldebus_goierrialdea\n",
            "     Euskotren\n",
            "     lurraldebus_lasarte\n",
            "     lurraldebus_zarautz\n",
            "     dbus\n",
            "     lurraldebus_tbh\n",
            "     Renfe_cercanias\n",
            "     Renfe\n",
            "     lurraldebus_euskotren_bus\n",
            "     lurraldebus_tolosaldea\n",
            "     lurraldebus_ekialdebus\n",
            "     lurraldebus_renteria\n",
            "     lurraldebus_arrasate\n",
            "     lurraldebus_eibar\n",
            "     lurraldebus_tsst\n",
            "     lurraldebus_areizaga\n",
            "     lurraldebus_oiartzun\n",
            "     lurraldebus_auif_urb\n",
            "     lurraldebus_hernani\n",
            "     Took 15.25 seconds\n",
            "Type of loaded_feeds: <class 'urbanaccess.gtfs.gtfsfeeds_dataframe.urbanaccess_gtfs_df'>\n",
            "Attributes of loaded_feeds: ['__class__', '__delattr__', '__dict__', '__dir__', '__doc__', '__eq__', '__format__', '__ge__', '__getattribute__', '__getstate__', '__gt__', '__hash__', '__init__', '__init_subclass__', '__le__', '__lt__', '__module__', '__ne__', '__new__', '__reduce__', '__reduce_ex__', '__repr__', '__setattr__', '__sizeof__', '__str__', '__subclasshook__', '__weakref__', 'calendar', 'calendar_dates', 'headways', 'routes', 'stop_times', 'stop_times_int', 'stops', 'trips']\n",
            "WARNING: Time range passed: ['08:00:00', '20:00:00'] is a 12 hour period. Long periods over 3 hours may take a significant amount of time to process.\n",
            "Using calendar to extract service_ids to select trips.\n",
            "4,416 service_ids were extracted from calendar\n"
          ]
        },
        {
          "output_type": "stream",
          "name": "stderr",
          "text": [
            "INFO:urbanaccess:34,643 trip(s) 22.05 percent of 157,076 total trip records were found in calendar for GTFS feed(s): ['lurraldebus pesa', 'lurraldebus garayar', 'lurraldebus gipuzkoana', 'lurraldebus goierrialdea', 'euskotren', 'lurraldebus lasarte', 'lurraldebus zarautz', 'dbus', 'lurraldebus tbh', 'renfe cercanias', 'renfe', 'lurraldebus euskotren bus', 'lurraldebus tolosaldea', 'lurraldebus ekialdebus', 'lurraldebus renteria', 'lurraldebus arrasate', 'lurraldebus eibar', 'lurraldebus tsst', 'lurraldebus areizaga', 'lurraldebus oiartzun', 'lurraldebus auif urb', 'lurraldebus hernani']\n",
            "WARNING:urbanaccess:NOTE: If you expected more trips to have been extracted and your GTFS feed(s) have a calendar_dates file, consider utilizing the calendar_dates_lookup parameter in order to add additional trips based on information inside of calendar_dates. This should only be done if you know the corresponding GTFS feed is using calendar_dates instead of calendar to specify service_ids. When in doubt do not use the calendar_dates_lookup parameter.\n",
            "INFO:urbanaccess:34,643 trip(s) 22.05 percent of 157,076 total trip records were not found in calendar for GTFS feed: lurraldebus pesa\n",
            "INFO:urbanaccess:34,643 trip(s) 22.05 percent of 157,076 total trip records were not found in calendar for GTFS feed: lurraldebus garayar\n",
            "INFO:urbanaccess:34,643 trip(s) 22.05 percent of 157,076 total trip records were not found in calendar for GTFS feed: lurraldebus gipuzkoana\n",
            "INFO:urbanaccess:34,643 trip(s) 22.05 percent of 157,076 total trip records were not found in calendar for GTFS feed: lurraldebus goierrialdea\n",
            "INFO:urbanaccess:34,643 trip(s) 22.05 percent of 157,076 total trip records were not found in calendar for GTFS feed: euskotren\n",
            "INFO:urbanaccess:34,643 trip(s) 22.05 percent of 157,076 total trip records were not found in calendar for GTFS feed: lurraldebus zarautz\n",
            "INFO:urbanaccess:34,643 trip(s) 22.05 percent of 157,076 total trip records were not found in calendar for GTFS feed: dbus\n",
            "INFO:urbanaccess:34,643 trip(s) 22.05 percent of 157,076 total trip records were not found in calendar for GTFS feed: lurraldebus tbh\n",
            "INFO:urbanaccess:34,643 trip(s) 22.05 percent of 157,076 total trip records were not found in calendar for GTFS feed: renfe cercanias\n",
            "INFO:urbanaccess:34,643 trip(s) 22.05 percent of 157,076 total trip records were not found in calendar for GTFS feed: lurraldebus euskotren bus\n",
            "INFO:urbanaccess:34,643 trip(s) 22.05 percent of 157,076 total trip records were not found in calendar for GTFS feed: lurraldebus tolosaldea\n",
            "INFO:urbanaccess:34,643 trip(s) 22.05 percent of 157,076 total trip records were not found in calendar for GTFS feed: lurraldebus ekialdebus\n",
            "INFO:urbanaccess:34,643 trip(s) 22.05 percent of 157,076 total trip records were not found in calendar for GTFS feed: lurraldebus renteria\n",
            "INFO:urbanaccess:34,643 trip(s) 22.05 percent of 157,076 total trip records were not found in calendar for GTFS feed: lurraldebus arrasate\n",
            "INFO:urbanaccess:34,643 trip(s) 22.05 percent of 157,076 total trip records were not found in calendar for GTFS feed: lurraldebus eibar\n",
            "INFO:urbanaccess:34,643 trip(s) 22.05 percent of 157,076 total trip records were not found in calendar for GTFS feed: lurraldebus areizaga\n",
            "INFO:urbanaccess:34,643 trip(s) 22.05 percent of 157,076 total trip records were not found in calendar for GTFS feed: lurraldebus oiartzun\n",
            "INFO:urbanaccess:34,643 trip(s) 22.05 percent of 157,076 total trip records were not found in calendar for GTFS feed: lurraldebus auif urb\n",
            "INFO:urbanaccess:34,643 trip(s) 22.05 percent of 157,076 total trip records were not found in calendar for GTFS feed: lurraldebus hernani\n",
            "INFO:urbanaccess:34,643 of 157,076 total trips were extracted representing calendar day: monday. Took 0.35 seconds\n"
          ]
        },
        {
          "output_type": "stream",
          "name": "stdout",
          "text": [
            "34,643 trip(s) 22.05 percent of 157,076 total trip records were found in calendar for GTFS feed(s): ['lurraldebus pesa', 'lurraldebus garayar', 'lurraldebus gipuzkoana', 'lurraldebus goierrialdea', 'euskotren', 'lurraldebus lasarte', 'lurraldebus zarautz', 'dbus', 'lurraldebus tbh', 'renfe cercanias', 'renfe', 'lurraldebus euskotren bus', 'lurraldebus tolosaldea', 'lurraldebus ekialdebus', 'lurraldebus renteria', 'lurraldebus arrasate', 'lurraldebus eibar', 'lurraldebus tsst', 'lurraldebus areizaga', 'lurraldebus oiartzun', 'lurraldebus auif urb', 'lurraldebus hernani']\n",
            "NOTE: If you expected more trips to have been extracted and your GTFS feed(s) have a calendar_dates file, consider utilizing the calendar_dates_lookup parameter in order to add additional trips based on information inside of calendar_dates. This should only be done if you know the corresponding GTFS feed is using calendar_dates instead of calendar to specify service_ids. When in doubt do not use the calendar_dates_lookup parameter.\n",
            "34,643 trip(s) 22.05 percent of 157,076 total trip records were not found in calendar for GTFS feed: lurraldebus pesa\n",
            "34,643 trip(s) 22.05 percent of 157,076 total trip records were not found in calendar for GTFS feed: lurraldebus garayar\n",
            "34,643 trip(s) 22.05 percent of 157,076 total trip records were not found in calendar for GTFS feed: lurraldebus gipuzkoana\n",
            "34,643 trip(s) 22.05 percent of 157,076 total trip records were not found in calendar for GTFS feed: lurraldebus goierrialdea\n",
            "34,643 trip(s) 22.05 percent of 157,076 total trip records were not found in calendar for GTFS feed: euskotren\n",
            "34,643 trip(s) 22.05 percent of 157,076 total trip records were not found in calendar for GTFS feed: lurraldebus zarautz\n",
            "34,643 trip(s) 22.05 percent of 157,076 total trip records were not found in calendar for GTFS feed: dbus\n",
            "34,643 trip(s) 22.05 percent of 157,076 total trip records were not found in calendar for GTFS feed: lurraldebus tbh\n",
            "34,643 trip(s) 22.05 percent of 157,076 total trip records were not found in calendar for GTFS feed: renfe cercanias\n",
            "34,643 trip(s) 22.05 percent of 157,076 total trip records were not found in calendar for GTFS feed: lurraldebus euskotren bus\n",
            "34,643 trip(s) 22.05 percent of 157,076 total trip records were not found in calendar for GTFS feed: lurraldebus tolosaldea\n",
            "34,643 trip(s) 22.05 percent of 157,076 total trip records were not found in calendar for GTFS feed: lurraldebus ekialdebus\n",
            "34,643 trip(s) 22.05 percent of 157,076 total trip records were not found in calendar for GTFS feed: lurraldebus renteria\n",
            "34,643 trip(s) 22.05 percent of 157,076 total trip records were not found in calendar for GTFS feed: lurraldebus arrasate\n",
            "34,643 trip(s) 22.05 percent of 157,076 total trip records were not found in calendar for GTFS feed: lurraldebus eibar\n",
            "34,643 trip(s) 22.05 percent of 157,076 total trip records were not found in calendar for GTFS feed: lurraldebus areizaga\n",
            "34,643 trip(s) 22.05 percent of 157,076 total trip records were not found in calendar for GTFS feed: lurraldebus oiartzun\n",
            "34,643 trip(s) 22.05 percent of 157,076 total trip records were not found in calendar for GTFS feed: lurraldebus auif urb\n",
            "34,643 trip(s) 22.05 percent of 157,076 total trip records were not found in calendar for GTFS feed: lurraldebus hernani\n",
            "34,643 of 157,076 total trips were extracted representing calendar day: monday. Took 0.35 seconds\n"
          ]
        },
        {
          "output_type": "stream",
          "name": "stderr",
          "text": [
            "INFO:urbanaccess:There are no departure time records missing from trips following the specified schedule. There are no records to interpolate.\n",
            "INFO:urbanaccess:Difference between stop times has been successfully calculated. Took 0.04 seconds\n"
          ]
        },
        {
          "output_type": "stream",
          "name": "stdout",
          "text": [
            "There are no departure time records missing from trips following the specified schedule. There are no records to interpolate.\n",
            "Difference between stop times has been successfully calculated. Took 0.04 seconds\n"
          ]
        },
        {
          "output_type": "stream",
          "name": "stderr",
          "text": [
            "INFO:urbanaccess:Stop times from 08:00:00 to 20:00:00 successfully selected 123,653 records out of 160,884 total records (76.86 percent of total). Took 0.08 seconds\n",
            "INFO:urbanaccess:Starting transformation process for 7,308 total trips...\n"
          ]
        },
        {
          "output_type": "stream",
          "name": "stdout",
          "text": [
            "Stop times from 08:00:00 to 20:00:00 successfully selected 123,653 records out of 160,884 total records (76.86 percent of total). Took 0.08 seconds\n",
            "Starting transformation process for 7,308 total trips...\n"
          ]
        },
        {
          "output_type": "stream",
          "name": "stderr",
          "text": [
            "INFO:urbanaccess:stop time table transformation to Pandana format edge table completed. Took 9.78 seconds\n",
            "INFO:urbanaccess:Time conversion completed: seconds converted to minutes.\n",
            "INFO:urbanaccess:2,737 of 3,065 records selected from stops. Took 0.02 seconds\n",
            "INFO:urbanaccess:stop time table transformation to Pandana format node table completed. Took 0.01 seconds\n"
          ]
        },
        {
          "output_type": "stream",
          "name": "stdout",
          "text": [
            "stop time table transformation to Pandana format edge table completed. Took 9.78 seconds\n",
            "Time conversion completed: seconds converted to minutes.\n",
            "2,737 of 3,065 records selected from stops. Took 0.02 seconds\n",
            "stop time table transformation to Pandana format node table completed. Took 0.01 seconds\n"
          ]
        },
        {
          "output_type": "stream",
          "name": "stderr",
          "text": [
            "INFO:urbanaccess:route type successfully joined to transit edges. Took 1.38 seconds\n"
          ]
        },
        {
          "output_type": "stream",
          "name": "stdout",
          "text": [
            "route type successfully joined to transit edges. Took 1.38 seconds\n"
          ]
        },
        {
          "output_type": "stream",
          "name": "stderr",
          "text": [
            "INFO:urbanaccess:route id successfully joined to transit edges. Took 0.30 seconds\n",
            "INFO:urbanaccess:Successfully created transit network. Took 13.19 seconds\n"
          ]
        },
        {
          "output_type": "stream",
          "name": "stdout",
          "text": [
            "route id successfully joined to transit edges. Took 0.30 seconds\n",
            "Successfully created transit network. Took 13.19 seconds\n",
            "\n",
            "Loading saved networks...\n"
          ]
        },
        {
          "output_type": "stream",
          "name": "stderr",
          "text": [
            "INFO:urbanaccess:Created OSM network with travel time impedance using a travel speed of 3 MPH. Took 0.01 seconds\n",
            "INFO:urbanaccess:Loaded UrbanAccess network components comprised of:\n",
            "INFO:urbanaccess:     Transit: 2,737 nodes and 116,345 edges;\n",
            "INFO:urbanaccess:     OSM: 81,919 nodes and 219,972 edges\n"
          ]
        },
        {
          "output_type": "stream",
          "name": "stdout",
          "text": [
            "done!\n",
            "\n",
            "Created OSM network with travel time impedance using a travel speed of 3 MPH. Took 0.01 seconds\n",
            "done!\n",
            "\n",
            "\n",
            "Integrating all networks...\n",
            "Loaded UrbanAccess network components comprised of:\n",
            "     Transit: 2,737 nodes and 116,345 edges;\n",
            "     OSM: 81,919 nodes and 219,972 edges\n"
          ]
        },
        {
          "output_type": "stream",
          "name": "stderr",
          "text": [
            "INFO:urbanaccess:Connector edges between the OSM and transit network nodes successfully completed. Took 1.02 seconds\n"
          ]
        },
        {
          "output_type": "stream",
          "name": "stdout",
          "text": [
            "Connector edges between the OSM and transit network nodes successfully completed. Took 1.02 seconds\n"
          ]
        },
        {
          "output_type": "stream",
          "name": "stderr",
          "text": [
            "INFO:urbanaccess:Edge and node tables formatted for Pandana with integer node ids: id_int, to_int, and from_int. Took 0.98 seconds\n",
            "INFO:urbanaccess:Network edge and node network integration completed successfully resulting in a total of 84,656 nodes and 341,791 edges:\n",
            "INFO:urbanaccess:     Transit: 2,737 nodes 116,345 edges;\n",
            "INFO:urbanaccess:     OSM: 81,919 nodes 219,972 edges; and\n",
            "INFO:urbanaccess:     OSM/Transit connector: 5,474 edges.\n",
            "WARNING:urbanaccess:WARNING: Time range passed: ['08:00:00', '20:00:00'] is a 12 hour period. Long periods over 3 hours may take a significant amount of time to process.\n"
          ]
        },
        {
          "output_type": "stream",
          "name": "stdout",
          "text": [
            "Edge and node tables formatted for Pandana with integer node ids: id_int, to_int, and from_int. Took 0.98 seconds\n",
            "Network edge and node network integration completed successfully resulting in a total of 84,656 nodes and 341,791 edges:\n",
            "     Transit: 2,737 nodes 116,345 edges;\n",
            "     OSM: 81,919 nodes 219,972 edges; and\n",
            "     OSM/Transit connector: 5,474 edges.\n",
            "WARNING: Time range passed: ['08:00:00', '20:00:00'] is a 12 hour period. Long periods over 3 hours may take a significant amount of time to process.\n"
          ]
        },
        {
          "output_type": "stream",
          "name": "stderr",
          "text": [
            "INFO:urbanaccess:Stop times from 08:00:00 to 20:00:00 successfully selected 123,653 records out of 160,884 total records (76.86 percent of total). Took 0.02 seconds\n"
          ]
        },
        {
          "output_type": "stream",
          "name": "stdout",
          "text": [
            "Stop times from 08:00:00 to 20:00:00 successfully selected 123,653 records out of 160,884 total records (76.86 percent of total). Took 0.02 seconds\n"
          ]
        },
        {
          "output_type": "stream",
          "name": "stderr",
          "text": [
            "INFO:urbanaccess:Starting route stop headway calculation for 5,207 route stops...\n"
          ]
        },
        {
          "output_type": "stream",
          "name": "stdout",
          "text": [
            "Starting route stop headway calculation for 5,207 route stops...\n"
          ]
        },
        {
          "output_type": "stream",
          "name": "stderr",
          "text": [
            "INFO:urbanaccess:Route stop headway calculation complete. Took 10.51 seconds\n"
          ]
        },
        {
          "output_type": "stream",
          "name": "stdout",
          "text": [
            "Route stop headway calculation complete. Took 10.51 seconds\n"
          ]
        },
        {
          "output_type": "stream",
          "name": "stderr",
          "text": [
            "INFO:urbanaccess:headway calculation complete. Took 11.68 seconds\n",
            "INFO:urbanaccess:Loaded UrbanAccess network components comprised of:\n",
            "INFO:urbanaccess:     Transit: 2,737 nodes and 116,345 edges;\n",
            "INFO:urbanaccess:     OSM: 81,919 nodes and 219,972 edges\n"
          ]
        },
        {
          "output_type": "stream",
          "name": "stdout",
          "text": [
            "headway calculation complete. Took 11.68 seconds\n",
            "Loaded UrbanAccess network components comprised of:\n",
            "     Transit: 2,737 nodes and 116,345 edges;\n",
            "     OSM: 81,919 nodes and 219,972 edges\n"
          ]
        },
        {
          "output_type": "stream",
          "name": "stderr",
          "text": [
            "INFO:urbanaccess:routes successfully joined to transit nodes. Took 0.25 seconds\n"
          ]
        },
        {
          "output_type": "stream",
          "name": "stdout",
          "text": [
            "routes successfully joined to transit nodes. Took 0.25 seconds\n"
          ]
        },
        {
          "output_type": "stream",
          "name": "stderr",
          "text": [
            "INFO:urbanaccess:Connector edges between the OSM and transit network nodes successfully completed. Took 1.70 seconds\n",
            "INFO:urbanaccess:mean route stop headway will be used for pedestrian to transit edge impedance.\n",
            "INFO:urbanaccess:Headway impedance calculation completed. Took 0.09 seconds\n"
          ]
        },
        {
          "output_type": "stream",
          "name": "stdout",
          "text": [
            "Connector edges between the OSM and transit network nodes successfully completed. Took 1.70 seconds\n",
            "mean route stop headway will be used for pedestrian to transit edge impedance.\n",
            "Headway impedance calculation completed. Took 0.09 seconds\n"
          ]
        },
        {
          "output_type": "stream",
          "name": "stderr",
          "text": [
            "INFO:urbanaccess:Edge and node tables formatted for Pandana with integer node ids: id_int, to_int, and from_int. Took 1.65 seconds\n",
            "INFO:urbanaccess:Network edge and node network integration completed successfully resulting in a total of 87,121 nodes and 465,160 edges:\n",
            "INFO:urbanaccess:     Transit: 5,202 nodes 116,345 edges;\n",
            "INFO:urbanaccess:     OSM: 81,919 nodes 219,972 edges; and\n",
            "INFO:urbanaccess:     OSM/Transit connector: 128,843 edges.\n"
          ]
        },
        {
          "output_type": "stream",
          "name": "stdout",
          "text": [
            "Edge and node tables formatted for Pandana with integer node ids: id_int, to_int, and from_int. Took 1.65 seconds\n",
            "Network edge and node network integration completed successfully resulting in a total of 87,121 nodes and 465,160 edges:\n",
            "     Transit: 5,202 nodes 116,345 edges;\n",
            "     OSM: 81,919 nodes 219,972 edges; and\n",
            "     OSM/Transit connector: 128,843 edges.\n",
            "successfully integrated existing and newly created networks!\n"
          ]
        },
        {
          "output_type": "stream",
          "name": "stderr",
          "text": [
            "/usr/local/lib/python3.11/dist-packages/pandana/loaders/pandash5.py:49: PerformanceWarning: \n",
            "your performance may suffer as PyTables will pickle object types that it cannot\n",
            "map directly to c-types [inferred_type->mixed,key->block0_values] [items->Index(['x', 'y'], dtype='object')]\n",
            "\n",
            "  store['nodes'] = nodes\n"
          ]
        }
      ]
    }
  ]
}