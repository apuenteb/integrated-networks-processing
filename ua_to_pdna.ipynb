{
 "cells": [
  {
   "cell_type": "markdown",
   "metadata": {},
   "source": [
    "In this notebook, a pre-saved urbanaccess network into a h5 file is loaded and transformed into a pandana network. Each step is explained."
   ]
  },
  {
   "cell_type": "markdown",
   "metadata": {},
   "source": [
    "1. Load urbanaccess network and check column names and format"
   ]
  },
  {
   "cell_type": "code",
   "execution_count": 27,
   "metadata": {},
   "outputs": [
    {
     "name": "stdout",
     "output_type": "stream",
     "text": [
      "Successfully read store: data/h5_files/transit_0820.h5 with the following keys: ['/edges', '/impedance_names', '/nodes', '/two_way']\n",
      "Successfully read store: data/h5_files/transit_0820.h5 with the following keys: ['/edges', '/impedance_names', '/nodes', '/two_way']\n"
     ]
    }
   ],
   "source": [
    "import urbanaccess as ua\n",
    "\n",
    "# Define the file path to your saved network\n",
    "h5_file_path = \"h5_files/transit_0820.h5\"\n",
    "\n",
    "# Load the network\n",
    "network = ua.network.load_network(filename=h5_file_path)"
   ]
  },
  {
   "cell_type": "code",
   "execution_count": 28,
   "metadata": {},
   "outputs": [
    {
     "name": "stdout",
     "output_type": "stream",
     "text": [
      "['__class__', '__delattr__', '__dict__', '__dir__', '__doc__', '__eq__', '__format__', '__ge__', '__getattribute__', '__getstate__', '__gt__', '__hash__', '__init__', '__init_subclass__', '__le__', '__lt__', '__module__', '__ne__', '__new__', '__reduce__', '__reduce_ex__', '__repr__', '__setattr__', '__sizeof__', '__str__', '__subclasshook__', '__weakref__', 'net_connector_edges', 'net_edges', 'net_nodes', 'osm_edges', 'osm_nodes', 'transit_edges', 'transit_nodes']\n"
     ]
    }
   ],
   "source": [
    "# Print all available attributes\n",
    "print(dir(network))"
   ]
  },
  {
   "cell_type": "code",
   "execution_count": 29,
   "metadata": {},
   "outputs": [
    {
     "name": "stdout",
     "output_type": "stream",
     "text": [
      "               x          y\n",
      "id_int                     \n",
      "1      -1.976704  43.317669\n",
      "2      -2.318462  43.088273\n",
      "3      -1.800192  43.339582\n",
      "4      -1.976704  43.317669\n",
      "5      -2.078908  43.135405\n",
      "   from    to  weight\n",
      "0     1  5087    45.0\n",
      "1     2  5088    55.0\n",
      "2     3     4    22.0\n",
      "3     4     5    32.0\n",
      "4     5  5089    28.0\n"
     ]
    }
   ],
   "source": [
    "print(network.net_nodes.head())  # Check first rows of nodes\n",
    "print(network.net_edges.head())  # Check first rows of edges"
   ]
  },
  {
   "cell_type": "markdown",
   "metadata": {},
   "source": [
    "2. Load the nodes and edges into two separate dataframes to change format"
   ]
  },
  {
   "cell_type": "code",
   "execution_count": 30,
   "metadata": {},
   "outputs": [
    {
     "name": "stdout",
     "output_type": "stream",
     "text": [
      "               x          y\n",
      "id_int                     \n",
      "1      -1.976704  43.317669\n",
      "2      -2.318462  43.088273\n",
      "3      -1.800192  43.339582\n",
      "4      -1.976704  43.317669\n",
      "5      -2.078908  43.135405\n"
     ]
    }
   ],
   "source": [
    "node_df = network.net_nodes\n",
    "print(node_df.head())"
   ]
  },
  {
   "cell_type": "code",
   "execution_count": 31,
   "metadata": {},
   "outputs": [],
   "source": [
    "node_df.reset_index(inplace=True)"
   ]
  },
  {
   "cell_type": "code",
   "execution_count": 32,
   "metadata": {},
   "outputs": [
    {
     "name": "stdout",
     "output_type": "stream",
     "text": [
      "   id_int         x          y\n",
      "0       1 -1.976704  43.317669\n",
      "1       2 -2.318462  43.088273\n",
      "2       3 -1.800192  43.339582\n",
      "3       4 -1.976704  43.317669\n",
      "4       5 -2.078908  43.135405\n"
     ]
    }
   ],
   "source": [
    "print(node_df.head())"
   ]
  },
  {
   "cell_type": "code",
   "execution_count": 33,
   "metadata": {},
   "outputs": [
    {
     "name": "stdout",
     "output_type": "stream",
     "text": [
      "   from    to  weight\n",
      "0     1  5087    45.0\n",
      "1     2  5088    55.0\n",
      "2     3     4    22.0\n",
      "3     4     5    32.0\n",
      "4     5  5089    28.0\n"
     ]
    }
   ],
   "source": [
    "edge_df = network.net_edges\n",
    "print(edge_df.head())"
   ]
  },
  {
   "cell_type": "code",
   "execution_count": 34,
   "metadata": {},
   "outputs": [
    {
     "name": "stdout",
     "output_type": "stream",
     "text": [
      "Index(['id_int', 'x', 'y'], dtype='object')\n"
     ]
    }
   ],
   "source": [
    "print(node_df.columns)"
   ]
  },
  {
   "cell_type": "markdown",
   "metadata": {},
   "source": [
    "3. Perform the changes necessary to the nodes_df"
   ]
  },
  {
   "cell_type": "code",
   "execution_count": 35,
   "metadata": {},
   "outputs": [
    {
     "name": "stdout",
     "output_type": "stream",
     "text": [
      "   from    to  weight  from_int\n",
      "0     1  5087    45.0       2.0\n",
      "1     2  5088    55.0       3.0\n",
      "2     3     4    22.0       4.0\n",
      "3     4     5    32.0       5.0\n",
      "4     5  5089    28.0       6.0\n"
     ]
    }
   ],
   "source": [
    "import pandas as pd\n",
    "\n",
    "# Merge using the updated 'id_int' column instead of 'id'\n",
    "tmp = pd.merge(edge_df, node_df[['id_int']], left_on='from', right_index=True, sort=False, copy=False, how='left')\n",
    "\n",
    "# Assign the 'from_int' column based on 'id_int' from node_df\n",
    "tmp['from_int'] = tmp['id_int']\n",
    "\n",
    "# Drop the unnecessary columns\n",
    "tmp.drop(['id_int'], axis=1, inplace=True)\n",
    "\n",
    "# Check the resulting dataframe\n",
    "print(tmp.head())"
   ]
  },
  {
   "cell_type": "code",
   "execution_count": 36,
   "metadata": {},
   "outputs": [
    {
     "name": "stdout",
     "output_type": "stream",
     "text": [
      "   from    to  weight  from_int  to_int\n",
      "0     1  5087    45.0       2.0  5088.0\n",
      "1     2  5088    55.0       3.0  5089.0\n",
      "2     3     4    22.0       4.0     5.0\n",
      "3     4     5    32.0       5.0     6.0\n",
      "4     5  5089    28.0       6.0  5090.0\n"
     ]
    }
   ],
   "source": [
    "# Merge to get the 'to_int' column\n",
    "tmp = pd.merge(tmp, node_df[['id_int']], left_on='to', right_index=True, sort=False, copy=False, how='left')\n",
    "\n",
    "# Assign the 'to_int' column based on 'id_int' from node_df\n",
    "tmp['to_int'] = tmp['id_int']\n",
    "\n",
    "# Drop the unnecessary columns\n",
    "tmp.drop(['id_int'], axis=1, inplace=True)\n",
    "\n",
    "# Check the resulting dataframe\n",
    "print(tmp.head())\n"
   ]
  },
  {
   "cell_type": "code",
   "execution_count": 37,
   "metadata": {},
   "outputs": [
    {
     "name": "stdout",
     "output_type": "stream",
     "text": [
      "   id         x          y\n",
      "0   1 -1.976704  43.317669\n",
      "1   2 -2.318462  43.088273\n",
      "2   3 -1.800192  43.339582\n",
      "3   4 -1.976704  43.317669\n",
      "4   5 -2.078908  43.135405\n"
     ]
    }
   ],
   "source": [
    "node_df.rename(columns={'id_int': 'id'}, inplace=True)\n",
    "print(node_df.head())"
   ]
  },
  {
   "cell_type": "markdown",
   "metadata": {},
   "source": [
    "4. Create another urbanaccess network but with the pandana format"
   ]
  },
  {
   "cell_type": "code",
   "execution_count": 38,
   "metadata": {},
   "outputs": [
    {
     "name": "stdout",
     "output_type": "stream",
     "text": [
      "Edge and node tables formatted for Pandana with integer node ids: id_int, to_int, and from_int. Took 0.36 seconds\n"
     ]
    }
   ],
   "source": [
    "network_formated=ua.network._format_pandana_edges_nodes(edge_df, node_df)"
   ]
  },
  {
   "cell_type": "code",
   "execution_count": 39,
   "metadata": {},
   "outputs": [
    {
     "name": "stdout",
     "output_type": "stream",
     "text": [
      "(         from    to     weight  from_int  to_int\n",
      "0           1  5087  45.000000         1    5087\n",
      "1           2  5088  55.000000         2    5088\n",
      "2           3     4  22.000000         3       4\n",
      "3           4     5  32.000000         4       5\n",
      "4           5  5089  28.000000         5    5089\n",
      "...       ...   ...        ...       ...     ...\n",
      "645397  65641  5203   7.808245     65641    5203\n",
      "645398  65641  5203   7.808245     65641    5203\n",
      "645399  65641  5203   7.808245     65641    5203\n",
      "645400  65641  5203   7.808245     65641    5203\n",
      "645401  65641  5203   7.808245     65641    5203\n",
      "\n",
      "[645402 rows x 5 columns],             id         x          y\n",
      "id_int                             \n",
      "1            1 -1.976704  43.317669\n",
      "2            2 -2.318462  43.088273\n",
      "3            3 -1.800192  43.339582\n",
      "4            4 -1.976704  43.317669\n",
      "5            5 -2.078908  43.135405\n",
      "...        ...       ...        ...\n",
      "126263  126263 -2.211893  43.298687\n",
      "126264  126264 -2.213562  43.296225\n",
      "126265  126265 -2.214446  43.295336\n",
      "126266  126266 -2.215143  43.294580\n",
      "126267  126267 -2.216141  43.037996\n",
      "\n",
      "[126267 rows x 3 columns])\n"
     ]
    }
   ],
   "source": [
    "print(network_formated)"
   ]
  },
  {
   "cell_type": "markdown",
   "metadata": {},
   "source": [
    "5. Load the nodes and edges of the formated network"
   ]
  },
  {
   "cell_type": "code",
   "execution_count": 40,
   "metadata": {},
   "outputs": [],
   "source": [
    "edges_df, nodes_df = network_formated"
   ]
  },
  {
   "cell_type": "markdown",
   "metadata": {},
   "source": [
    "6. Create a pandana network with the formated nodes and edges"
   ]
  },
  {
   "cell_type": "code",
   "execution_count": 41,
   "metadata": {},
   "outputs": [],
   "source": [
    "import pandana\n",
    "\n",
    "# Extract the 'from_int', 'to_int', and 'weight' columns for the edges\n",
    "imp = pd.DataFrame(edges_df['weight'])\n",
    "\n",
    "# Create a Pandana network\n",
    "net = pandana.Network(nodes_df.x, nodes_df.y, \n",
    "                      edges_df.from_int, edges_df.to_int, imp, False)"
   ]
  },
  {
   "cell_type": "markdown",
   "metadata": {},
   "source": [
    "7. Save the pandana network (in further uses, these two files can be loaded directly into a pandana network)"
   ]
  },
  {
   "cell_type": "code",
   "execution_count": 59,
   "metadata": {},
   "outputs": [],
   "source": [
    "net.nodes_df.to_csv('nodes.csv')\n",
    "net.edges_df.to_csv('edges.csv')"
   ]
  },
  {
   "cell_type": "markdown",
   "metadata": {},
   "source": [
    "Use the network"
   ]
  },
  {
   "cell_type": "markdown",
   "metadata": {},
   "source": [
    "Load some restaurant locations\n",
    "\n",
    "Here we'll load the locations of restaurants listed on Open Street Map (using the same OSMnet extension as above), and then calculate some shortest paths between them."
   ]
  },
  {
   "cell_type": "code",
   "execution_count": 43,
   "metadata": {},
   "outputs": [],
   "source": [
    "# pip install osmnet\n",
    "from pandana.loaders import osm\n",
    "\n",
    "import warnings\n",
    "warnings.filterwarnings('ignore')"
   ]
  },
  {
   "cell_type": "code",
   "execution_count": 44,
   "metadata": {},
   "outputs": [],
   "source": [
    "restaurants = osm.node_query(\n",
    "    42.89690109,-2.6032552,43.39526782,-1.72713422, tags='\"amenity\"=\"restaurant\"')"
   ]
  },
  {
   "cell_type": "markdown",
   "metadata": {},
   "source": [
    "Choose two at random:"
   ]
  },
  {
   "cell_type": "code",
   "execution_count": 55,
   "metadata": {},
   "outputs": [
    {
     "data": {
      "text/html": [
       "<div>\n",
       "<style scoped>\n",
       "    .dataframe tbody tr th:only-of-type {\n",
       "        vertical-align: middle;\n",
       "    }\n",
       "\n",
       "    .dataframe tbody tr th {\n",
       "        vertical-align: top;\n",
       "    }\n",
       "\n",
       "    .dataframe thead th {\n",
       "        text-align: right;\n",
       "    }\n",
       "</style>\n",
       "<table border=\"1\" class=\"dataframe\">\n",
       "  <thead>\n",
       "    <tr style=\"text-align: right;\">\n",
       "      <th></th>\n",
       "      <th>lat</th>\n",
       "      <th>lon</th>\n",
       "      <th>amenity</th>\n",
       "      <th>name</th>\n",
       "      <th>note</th>\n",
       "      <th>addr:housenumber</th>\n",
       "      <th>addr:street</th>\n",
       "      <th>check_date</th>\n",
       "      <th>payment:mastercard</th>\n",
       "      <th>payment:visa</th>\n",
       "      <th>...</th>\n",
       "      <th>payment:nfc</th>\n",
       "      <th>survey:date</th>\n",
       "      <th>check_date:opening_hours</th>\n",
       "      <th>opening_hours:signed</th>\n",
       "      <th>name:de</th>\n",
       "      <th>diet:healthy</th>\n",
       "      <th>food</th>\n",
       "      <th>dog</th>\n",
       "      <th>payment:qr_code</th>\n",
       "      <th>addr:door</th>\n",
       "    </tr>\n",
       "    <tr>\n",
       "      <th>id</th>\n",
       "      <th></th>\n",
       "      <th></th>\n",
       "      <th></th>\n",
       "      <th></th>\n",
       "      <th></th>\n",
       "      <th></th>\n",
       "      <th></th>\n",
       "      <th></th>\n",
       "      <th></th>\n",
       "      <th></th>\n",
       "      <th></th>\n",
       "      <th></th>\n",
       "      <th></th>\n",
       "      <th></th>\n",
       "      <th></th>\n",
       "      <th></th>\n",
       "      <th></th>\n",
       "      <th></th>\n",
       "      <th></th>\n",
       "      <th></th>\n",
       "      <th></th>\n",
       "    </tr>\n",
       "  </thead>\n",
       "  <tbody>\n",
       "    <tr>\n",
       "      <th>3358548540</th>\n",
       "      <td>43.323538</td>\n",
       "      <td>-1.976657</td>\n",
       "      <td>restaurant</td>\n",
       "      <td>Ikaitz</td>\n",
       "      <td>NaN</td>\n",
       "      <td>21</td>\n",
       "      <td>Kolon pasealekua</td>\n",
       "      <td>NaN</td>\n",
       "      <td>NaN</td>\n",
       "      <td>NaN</td>\n",
       "      <td>...</td>\n",
       "      <td>NaN</td>\n",
       "      <td>NaN</td>\n",
       "      <td>NaN</td>\n",
       "      <td>NaN</td>\n",
       "      <td>NaN</td>\n",
       "      <td>NaN</td>\n",
       "      <td>NaN</td>\n",
       "      <td>NaN</td>\n",
       "      <td>NaN</td>\n",
       "      <td>NaN</td>\n",
       "    </tr>\n",
       "    <tr>\n",
       "      <th>11743424965</th>\n",
       "      <td>43.119851</td>\n",
       "      <td>-2.406504</td>\n",
       "      <td>restaurant</td>\n",
       "      <td>Azpeitxi</td>\n",
       "      <td>NaN</td>\n",
       "      <td>NaN</td>\n",
       "      <td>NaN</td>\n",
       "      <td>NaN</td>\n",
       "      <td>NaN</td>\n",
       "      <td>NaN</td>\n",
       "      <td>...</td>\n",
       "      <td>NaN</td>\n",
       "      <td>NaN</td>\n",
       "      <td>NaN</td>\n",
       "      <td>NaN</td>\n",
       "      <td>NaN</td>\n",
       "      <td>NaN</td>\n",
       "      <td>NaN</td>\n",
       "      <td>leashed</td>\n",
       "      <td>no</td>\n",
       "      <td>NaN</td>\n",
       "    </tr>\n",
       "  </tbody>\n",
       "</table>\n",
       "<p>2 rows × 121 columns</p>\n",
       "</div>"
      ],
      "text/plain": [
       "                   lat       lon     amenity      name note addr:housenumber  \\\n",
       "id                                                                             \n",
       "3358548540   43.323538 -1.976657  restaurant    Ikaitz  NaN               21   \n",
       "11743424965  43.119851 -2.406504  restaurant  Azpeitxi  NaN              NaN   \n",
       "\n",
       "                  addr:street check_date payment:mastercard payment:visa  ...  \\\n",
       "id                                                                        ...   \n",
       "3358548540   Kolon pasealekua        NaN                NaN          NaN  ...   \n",
       "11743424965               NaN        NaN                NaN          NaN  ...   \n",
       "\n",
       "            payment:nfc survey:date check_date:opening_hours  \\\n",
       "id                                                             \n",
       "3358548540          NaN         NaN                      NaN   \n",
       "11743424965         NaN         NaN                      NaN   \n",
       "\n",
       "            opening_hours:signed name:de diet:healthy food      dog  \\\n",
       "id                                                                    \n",
       "3358548540                   NaN     NaN          NaN  NaN      NaN   \n",
       "11743424965                  NaN     NaN          NaN  NaN  leashed   \n",
       "\n",
       "            payment:qr_code addr:door  \n",
       "id                                     \n",
       "3358548540              NaN       NaN  \n",
       "11743424965              no       NaN  \n",
       "\n",
       "[2 rows x 121 columns]"
      ]
     },
     "execution_count": 55,
     "metadata": {},
     "output_type": "execute_result"
    }
   ],
   "source": [
    "res = restaurants.sample(2)\n",
    "res"
   ]
  },
  {
   "cell_type": "markdown",
   "metadata": {},
   "source": [
    "Calculate the shortest route between them"
   ]
  },
  {
   "cell_type": "code",
   "execution_count": 56,
   "metadata": {},
   "outputs": [
    {
     "data": {
      "text/plain": [
       "array([34037, 46533], dtype=int64)"
      ]
     },
     "execution_count": 56,
     "metadata": {},
     "output_type": "execute_result"
    }
   ],
   "source": [
    "nodes = net.get_node_ids(res.lon, res.lat).values\n",
    "nodes"
   ]
  },
  {
   "cell_type": "markdown",
   "metadata": {},
   "source": [
    "Then get the routing between the nodes."
   ]
  },
  {
   "cell_type": "code",
   "execution_count": 57,
   "metadata": {},
   "outputs": [
    {
     "data": {
      "text/plain": [
       "array([ 34037,   8060,   8061,   8078,  75789,  60775,  31665,  31669,\n",
       "       102036,  60773,  14790,  75749,  60769,  33631,   6629,  60763,\n",
       "        31667,  60759,   6668,  15208,  39090,  59088,  70192,  39089,\n",
       "        72952,   4705,   4493,   4495,   6026,  10183,  10181,  10180,\n",
       "        10178,  10195, 114741,  25084,  10184,  10186,  94550,  27145,\n",
       "        27144,  27147, 112516,  10344,  10345, 125384, 125383,  46488,\n",
       "       125382,  46491,  46495, 120014, 125361, 125362,  46508,  46505,\n",
       "        46516,  46518,  46519,  46521,  46523,  46536,  46535,  46534,\n",
       "        46533], dtype=int64)"
      ]
     },
     "execution_count": 57,
     "metadata": {},
     "output_type": "execute_result"
    }
   ],
   "source": [
    "net.shortest_path(nodes[0], nodes[1])"
   ]
  },
  {
   "cell_type": "markdown",
   "metadata": {},
   "source": [
    "Test the shortest path (the weight of the route is the time in minutes from node O to D)"
   ]
  },
  {
   "cell_type": "code",
   "execution_count": 58,
   "metadata": {},
   "outputs": [
    {
     "data": {
      "text/plain": [
       "86.812"
      ]
     },
     "execution_count": 58,
     "metadata": {},
     "output_type": "execute_result"
    }
   ],
   "source": [
    "net.shortest_path_length(nodes[0], nodes[1])"
   ]
  },
  {
   "cell_type": "code",
   "execution_count": 63,
   "metadata": {},
   "outputs": [],
   "source": [
    "casa_lat,casa_lon=[43.30450961354353, -2.0157260103962353]"
   ]
  },
  {
   "cell_type": "code",
   "execution_count": 66,
   "metadata": {},
   "outputs": [
    {
     "data": {
      "text/plain": [
       "array([7726], dtype=int64)"
      ]
     },
     "execution_count": 66,
     "metadata": {},
     "output_type": "execute_result"
    }
   ],
   "source": [
    "casa_nodes = net.get_node_ids([casa_lon], [casa_lat]).values\n",
    "casa_nodes"
   ]
  },
  {
   "cell_type": "code",
   "execution_count": 64,
   "metadata": {},
   "outputs": [],
   "source": [
    "zara_lat,zara_lon=[43.31822992788049, -1.983140736039578]"
   ]
  },
  {
   "cell_type": "code",
   "execution_count": 67,
   "metadata": {},
   "outputs": [
    {
     "data": {
      "text/plain": [
       "array([118798], dtype=int64)"
      ]
     },
     "execution_count": 67,
     "metadata": {},
     "output_type": "execute_result"
    }
   ],
   "source": [
    "zara_nodes = net.get_node_ids([zara_lon], [zara_lat]).values\n",
    "zara_nodes"
   ]
  },
  {
   "cell_type": "code",
   "execution_count": 70,
   "metadata": {},
   "outputs": [
    {
     "data": {
      "text/plain": [
       "22.129"
      ]
     },
     "execution_count": 70,
     "metadata": {},
     "output_type": "execute_result"
    }
   ],
   "source": [
    "casa_nodes = net.get_node_ids([casa_lon], [casa_lat]).values\n",
    "zara_nodes = net.get_node_ids([zara_lon], [zara_lat]).values\n",
    "\n",
    "# Convert both node arrays to integers (if they are not already)\n",
    "casa_nodes = casa_nodes.astype(int)\n",
    "zara_nodes = zara_nodes.astype(int)\n",
    "\n",
    "# Now calculate the shortest path length\n",
    "net.shortest_path_length(casa_nodes[0], zara_nodes[0])\n"
   ]
  }
 ],
 "metadata": {
  "kernelspec": {
   "display_name": "Python 3",
   "language": "python",
   "name": "python3"
  },
  "language_info": {
   "codemirror_mode": {
    "name": "ipython",
    "version": 3
   },
   "file_extension": ".py",
   "mimetype": "text/x-python",
   "name": "python",
   "nbconvert_exporter": "python",
   "pygments_lexer": "ipython3",
   "version": "3.12.3"
  }
 },
 "nbformat": 4,
 "nbformat_minor": 2
}
