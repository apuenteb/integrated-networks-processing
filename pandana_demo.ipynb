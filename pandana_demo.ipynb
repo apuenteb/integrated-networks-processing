{
 "cells": [
  {
   "cell_type": "markdown",
   "metadata": {},
   "source": [
    "Learning pandana through its git demo\n",
    "\n",
    "https://github.com/UDST/pandana/blob/dev/examples/Pandana-demo.ipynb"
   ]
  },
  {
   "cell_type": "markdown",
   "metadata": {},
   "source": [
    "1. Loading data\n",
    "\n",
    "Load street networks directly from Open Street Map (This requires installing a Pandana extension called OSMnet.)"
   ]
  },
  {
   "cell_type": "code",
   "execution_count": 5,
   "metadata": {},
   "outputs": [],
   "source": [
    "# pip install osmnet\n",
    "from pandana.loaders import osm\n",
    "\n",
    "import warnings\n",
    "warnings.filterwarnings('ignore')"
   ]
  },
  {
   "cell_type": "code",
   "execution_count": 6,
   "metadata": {},
   "outputs": [],
   "source": [
    "# bbox = [long_min, lat_min, long_max, lat_max]\n",
    "# bbox for Gipuzkoa\n",
    "lat_max = 43.39526782\n",
    "long_max = -1.72713422\n",
    "lat_min = 42.89690109\n",
    "long_min = -2.6032552\n",
    "bbox = (lat_min,long_min,lat_max,long_max)"
   ]
  },
  {
   "cell_type": "markdown",
   "metadata": {},
   "source": [
    "By default the generated network contains only walkable routes, specify type='drive' to get driveable routes. These networks have one impedance set, named 'distance', which is the distance between nodes in meters."
   ]
  },
  {
   "cell_type": "markdown",
   "metadata": {},
   "source": [
    "pdna_network_from_bbox uses the UDST library OSMnet to download and process OpenStreetMap (OSM) street network data"
   ]
  },
  {
   "cell_type": "code",
   "execution_count": 22,
   "metadata": {},
   "outputs": [
    {
     "name": "stdout",
     "output_type": "stream",
     "text": [
      "Requesting network data within bounding box from Overpass API in 4 request(s)\n",
      "Posting to http://www.overpass-api.de/api/interpreter with timeout=180, \"{'data': '[out:json][timeout:180];(way[\"highway\"][\"highway\"!~\"motor|proposed|construction|abandoned|platform|raceway\"][\"foot\"!~\"no\"][\"pedestrians\"!~\"no\"](42.89690109,-2.60325894,43.14928796,-2.16340993);>;);out;'}\"\n",
      "Downloaded 46,730.7KB from www.overpass-api.de in 2.85 seconds\n",
      "Posting to http://www.overpass-api.de/api/interpreter with timeout=180, \"{'data': '[out:json][timeout:180];(way[\"highway\"][\"highway\"!~\"motor|proposed|construction|abandoned|platform|raceway\"][\"foot\"!~\"no\"][\"pedestrians\"!~\"no\"](43.14691732,-2.60325894,43.39610678,-2.15998958);>;);out;'}\"\n",
      "Downloaded 34,849.4KB from www.overpass-api.de in 2.13 seconds\n",
      "Posting to http://www.overpass-api.de/api/interpreter with timeout=180, \"{'data': '[out:json][timeout:180];(way[\"highway\"][\"highway\"!~\"motor|proposed|construction|abandoned|platform|raceway\"][\"foot\"!~\"no\"][\"pedestrians\"!~\"no\"](43.14289543,-2.16340992,43.39610678,-1.72713422);>;);out;'}\"\n",
      "Downloaded 57,100.7KB from www.overpass-api.de in 4.17 seconds\n",
      "Posting to http://www.overpass-api.de/api/interpreter with timeout=180, \"{'data': '[out:json][timeout:180];(way[\"highway\"][\"highway\"!~\"motor|proposed|construction|abandoned|platform|raceway\"][\"foot\"!~\"no\"][\"pedestrians\"!~\"no\"](42.89690109,-2.16678659,43.14691732,-1.72713422);>;);out;'}\"\n",
      "Downloaded 38,876.3KB from www.overpass-api.de in 2.29 seconds\n",
      "Downloaded OSM network data within bounding box from Overpass API in 4 request(s) and 15.83 seconds\n",
      "37,774 duplicate records removed. Took 10.90 seconds\n",
      "Returning OSM data with 1,514,185 nodes and 110,191 ways...\n",
      "Edge node pairs completed. Took 81.39 seconds\n",
      "Returning processed graph with 123,903 nodes and 167,913 edges...\n",
      "Completed OSM data download and Pandana node and edge table creation in 119.79 seconds\n"
     ]
    }
   ],
   "source": [
    "network = osm.pdna_network_from_bbox(42.89690109,-2.6032552,43.39526782,-1.72713422,)  # Gipuzkoa"
   ]
  },
  {
   "cell_type": "markdown",
   "metadata": {},
   "source": [
    "Saving a Network to HDF5 is a way to share a Network or to preserve it between sessions. For example. you can build a Network using the OpenStreetMap API, then save the Network to HDF5 so you can reuse it without querying OSM again. Users will typically use the save_hdf5() and from_hdf5() methods."
   ]
  },
  {
   "cell_type": "markdown",
   "metadata": {},
   "source": [
    "What does the network look like?\n",
    "\n",
    "Edges and nodes are visible as DataFrames."
   ]
  },
  {
   "cell_type": "code",
   "execution_count": 17,
   "metadata": {},
   "outputs": [
    {
     "data": {
      "text/html": [
       "<div>\n",
       "<style scoped>\n",
       "    .dataframe tbody tr th:only-of-type {\n",
       "        vertical-align: middle;\n",
       "    }\n",
       "\n",
       "    .dataframe tbody tr th {\n",
       "        vertical-align: top;\n",
       "    }\n",
       "\n",
       "    .dataframe thead th {\n",
       "        text-align: right;\n",
       "    }\n",
       "</style>\n",
       "<table border=\"1\" class=\"dataframe\">\n",
       "  <thead>\n",
       "    <tr style=\"text-align: right;\">\n",
       "      <th></th>\n",
       "      <th>x</th>\n",
       "      <th>y</th>\n",
       "    </tr>\n",
       "    <tr>\n",
       "      <th>id</th>\n",
       "      <th></th>\n",
       "      <th></th>\n",
       "    </tr>\n",
       "  </thead>\n",
       "  <tbody>\n",
       "    <tr>\n",
       "      <th>343943</th>\n",
       "      <td>-2.463570</td>\n",
       "      <td>43.183845</td>\n",
       "    </tr>\n",
       "    <tr>\n",
       "      <th>343949</th>\n",
       "      <td>-2.470075</td>\n",
       "      <td>43.180540</td>\n",
       "    </tr>\n",
       "    <tr>\n",
       "      <th>423022</th>\n",
       "      <td>-2.528159</td>\n",
       "      <td>43.176193</td>\n",
       "    </tr>\n",
       "    <tr>\n",
       "      <th>448090</th>\n",
       "      <td>-2.532926</td>\n",
       "      <td>43.172130</td>\n",
       "    </tr>\n",
       "    <tr>\n",
       "      <th>451289</th>\n",
       "      <td>-2.438172</td>\n",
       "      <td>43.192781</td>\n",
       "    </tr>\n",
       "  </tbody>\n",
       "</table>\n",
       "</div>"
      ],
      "text/plain": [
       "               x          y\n",
       "id                         \n",
       "343943 -2.463570  43.183845\n",
       "343949 -2.470075  43.180540\n",
       "423022 -2.528159  43.176193\n",
       "448090 -2.532926  43.172130\n",
       "451289 -2.438172  43.192781"
      ]
     },
     "execution_count": 17,
     "metadata": {},
     "output_type": "execute_result"
    }
   ],
   "source": [
    "network.nodes_df.head()"
   ]
  },
  {
   "cell_type": "code",
   "execution_count": 18,
   "metadata": {},
   "outputs": [
    {
     "data": {
      "text/html": [
       "<div>\n",
       "<style scoped>\n",
       "    .dataframe tbody tr th:only-of-type {\n",
       "        vertical-align: middle;\n",
       "    }\n",
       "\n",
       "    .dataframe tbody tr th {\n",
       "        vertical-align: top;\n",
       "    }\n",
       "\n",
       "    .dataframe thead th {\n",
       "        text-align: right;\n",
       "    }\n",
       "</style>\n",
       "<table border=\"1\" class=\"dataframe\">\n",
       "  <thead>\n",
       "    <tr style=\"text-align: right;\">\n",
       "      <th></th>\n",
       "      <th></th>\n",
       "      <th>from</th>\n",
       "      <th>to</th>\n",
       "      <th>distance</th>\n",
       "    </tr>\n",
       "  </thead>\n",
       "  <tbody>\n",
       "    <tr>\n",
       "      <th>833859</th>\n",
       "      <th>301662479</th>\n",
       "      <td>833859</td>\n",
       "      <td>301662479</td>\n",
       "      <td>20.132225</td>\n",
       "    </tr>\n",
       "    <tr>\n",
       "      <th>5462312</th>\n",
       "      <th>299850007</th>\n",
       "      <td>5462312</td>\n",
       "      <td>299850007</td>\n",
       "      <td>56.146191</td>\n",
       "    </tr>\n",
       "    <tr>\n",
       "      <th>299850007</th>\n",
       "      <th>299850058</th>\n",
       "      <td>299850007</td>\n",
       "      <td>299850058</td>\n",
       "      <td>368.407367</td>\n",
       "    </tr>\n",
       "    <tr>\n",
       "      <th>281522858</th>\n",
       "      <th>27163390</th>\n",
       "      <td>281522858</td>\n",
       "      <td>27163390</td>\n",
       "      <td>1215.620775</td>\n",
       "    </tr>\n",
       "    <tr>\n",
       "      <th>27163390</th>\n",
       "      <th>6602697265</th>\n",
       "      <td>27163390</td>\n",
       "      <td>6602697265</td>\n",
       "      <td>303.278052</td>\n",
       "    </tr>\n",
       "  </tbody>\n",
       "</table>\n",
       "</div>"
      ],
      "text/plain": [
       "                           from          to     distance\n",
       "833859    301662479      833859   301662479    20.132225\n",
       "5462312   299850007     5462312   299850007    56.146191\n",
       "299850007 299850058   299850007   299850058   368.407367\n",
       "281522858 27163390    281522858    27163390  1215.620775\n",
       "27163390  6602697265   27163390  6602697265   303.278052"
      ]
     },
     "execution_count": 18,
     "metadata": {},
     "output_type": "execute_result"
    }
   ],
   "source": [
    "network.edges_df.head()"
   ]
  },
  {
   "cell_type": "markdown",
   "metadata": {},
   "source": [
    "Saving and reloading networks\n",
    "\n",
    "You can't directly save a Pandana network object, but you can easily recreate it from the nodes and edges."
   ]
  },
  {
   "cell_type": "code",
   "execution_count": 11,
   "metadata": {},
   "outputs": [],
   "source": [
    "network.nodes_df.to_csv('nodes.csv')\n",
    "network.edges_df.to_csv('edges.csv')"
   ]
  },
  {
   "cell_type": "code",
   "execution_count": 12,
   "metadata": {},
   "outputs": [],
   "source": [
    "import pandas as pd\n",
    "\n",
    "nodes = pd.read_csv('nodes.csv', index_col=0)\n",
    "edges = pd.read_csv('edges.csv', index_col=[0,1])"
   ]
  },
  {
   "cell_type": "code",
   "execution_count": 13,
   "metadata": {},
   "outputs": [],
   "source": [
    "import pandana\n",
    "\n",
    "network = pandana.Network(nodes['x'], nodes['y'], \n",
    "                          edges['from'], edges['to'], edges[['distance']])"
   ]
  },
  {
   "cell_type": "markdown",
   "metadata": {},
   "source": [
    "2. Shortest paths"
   ]
  },
  {
   "cell_type": "markdown",
   "metadata": {},
   "source": [
    "Load some restaurant locations\n",
    "\n",
    "Here we'll load the locations of restaurants listed on Open Street Map (using the same OSMnet extension as above), and then calculate some shortest paths between them."
   ]
  },
  {
   "cell_type": "code",
   "execution_count": 10,
   "metadata": {},
   "outputs": [],
   "source": [
    "restaurants = osm.node_query(\n",
    "    42.89690109,-2.6032552,43.39526782,-1.72713422, tags='\"amenity\"=\"restaurant\"')"
   ]
  },
  {
   "cell_type": "markdown",
   "metadata": {},
   "source": [
    "Choose two at random:"
   ]
  },
  {
   "cell_type": "code",
   "execution_count": 11,
   "metadata": {},
   "outputs": [
    {
     "data": {
      "text/html": [
       "<div>\n",
       "<style scoped>\n",
       "    .dataframe tbody tr th:only-of-type {\n",
       "        vertical-align: middle;\n",
       "    }\n",
       "\n",
       "    .dataframe tbody tr th {\n",
       "        vertical-align: top;\n",
       "    }\n",
       "\n",
       "    .dataframe thead th {\n",
       "        text-align: right;\n",
       "    }\n",
       "</style>\n",
       "<table border=\"1\" class=\"dataframe\">\n",
       "  <thead>\n",
       "    <tr style=\"text-align: right;\">\n",
       "      <th></th>\n",
       "      <th>lat</th>\n",
       "      <th>lon</th>\n",
       "      <th>amenity</th>\n",
       "      <th>name</th>\n",
       "      <th>note</th>\n",
       "      <th>addr:housenumber</th>\n",
       "      <th>addr:street</th>\n",
       "      <th>check_date</th>\n",
       "      <th>payment:mastercard</th>\n",
       "      <th>payment:visa</th>\n",
       "      <th>...</th>\n",
       "      <th>payment:nfc</th>\n",
       "      <th>survey:date</th>\n",
       "      <th>check_date:opening_hours</th>\n",
       "      <th>opening_hours:signed</th>\n",
       "      <th>name:de</th>\n",
       "      <th>diet:healthy</th>\n",
       "      <th>food</th>\n",
       "      <th>dog</th>\n",
       "      <th>payment:qr_code</th>\n",
       "      <th>addr:door</th>\n",
       "    </tr>\n",
       "    <tr>\n",
       "      <th>id</th>\n",
       "      <th></th>\n",
       "      <th></th>\n",
       "      <th></th>\n",
       "      <th></th>\n",
       "      <th></th>\n",
       "      <th></th>\n",
       "      <th></th>\n",
       "      <th></th>\n",
       "      <th></th>\n",
       "      <th></th>\n",
       "      <th></th>\n",
       "      <th></th>\n",
       "      <th></th>\n",
       "      <th></th>\n",
       "      <th></th>\n",
       "      <th></th>\n",
       "      <th></th>\n",
       "      <th></th>\n",
       "      <th></th>\n",
       "      <th></th>\n",
       "      <th></th>\n",
       "    </tr>\n",
       "  </thead>\n",
       "  <tbody>\n",
       "    <tr>\n",
       "      <th>618300721</th>\n",
       "      <td>43.128262</td>\n",
       "      <td>-2.539756</td>\n",
       "      <td>restaurant</td>\n",
       "      <td>Tanger jatetxea</td>\n",
       "      <td>NaN</td>\n",
       "      <td>NaN</td>\n",
       "      <td>NaN</td>\n",
       "      <td>NaN</td>\n",
       "      <td>NaN</td>\n",
       "      <td>NaN</td>\n",
       "      <td>...</td>\n",
       "      <td>NaN</td>\n",
       "      <td>NaN</td>\n",
       "      <td>NaN</td>\n",
       "      <td>NaN</td>\n",
       "      <td>NaN</td>\n",
       "      <td>NaN</td>\n",
       "      <td>NaN</td>\n",
       "      <td>NaN</td>\n",
       "      <td>NaN</td>\n",
       "      <td>NaN</td>\n",
       "    </tr>\n",
       "    <tr>\n",
       "      <th>6393107953</th>\n",
       "      <td>43.300912</td>\n",
       "      <td>-2.015278</td>\n",
       "      <td>restaurant</td>\n",
       "      <td>Casa Agus</td>\n",
       "      <td>NaN</td>\n",
       "      <td>45B</td>\n",
       "      <td>Portuetxe bidea</td>\n",
       "      <td>NaN</td>\n",
       "      <td>NaN</td>\n",
       "      <td>NaN</td>\n",
       "      <td>...</td>\n",
       "      <td>NaN</td>\n",
       "      <td>NaN</td>\n",
       "      <td>NaN</td>\n",
       "      <td>NaN</td>\n",
       "      <td>NaN</td>\n",
       "      <td>NaN</td>\n",
       "      <td>NaN</td>\n",
       "      <td>NaN</td>\n",
       "      <td>NaN</td>\n",
       "      <td>NaN</td>\n",
       "    </tr>\n",
       "  </tbody>\n",
       "</table>\n",
       "<p>2 rows × 121 columns</p>\n",
       "</div>"
      ],
      "text/plain": [
       "                  lat       lon     amenity             name note  \\\n",
       "id                                                                  \n",
       "618300721   43.128262 -2.539756  restaurant  Tanger jatetxea  NaN   \n",
       "6393107953  43.300912 -2.015278  restaurant        Casa Agus  NaN   \n",
       "\n",
       "           addr:housenumber      addr:street check_date payment:mastercard  \\\n",
       "id                                                                           \n",
       "618300721               NaN              NaN        NaN                NaN   \n",
       "6393107953              45B  Portuetxe bidea        NaN                NaN   \n",
       "\n",
       "           payment:visa  ... payment:nfc survey:date check_date:opening_hours  \\\n",
       "id                       ...                                                    \n",
       "618300721           NaN  ...         NaN         NaN                      NaN   \n",
       "6393107953          NaN  ...         NaN         NaN                      NaN   \n",
       "\n",
       "           opening_hours:signed name:de diet:healthy food  dog  \\\n",
       "id                                                               \n",
       "618300721                   NaN     NaN          NaN  NaN  NaN   \n",
       "6393107953                  NaN     NaN          NaN  NaN  NaN   \n",
       "\n",
       "           payment:qr_code addr:door  \n",
       "id                                    \n",
       "618300721              NaN       NaN  \n",
       "6393107953             NaN       NaN  \n",
       "\n",
       "[2 rows x 121 columns]"
      ]
     },
     "execution_count": 11,
     "metadata": {},
     "output_type": "execute_result"
    }
   ],
   "source": [
    "res = restaurants.sample(2)\n",
    "res"
   ]
  },
  {
   "cell_type": "markdown",
   "metadata": {},
   "source": [
    "Calculate the shortest route between them"
   ]
  },
  {
   "cell_type": "code",
   "execution_count": 19,
   "metadata": {},
   "outputs": [
    {
     "data": {
      "text/plain": [
       "array([12506832861,  1943947788], dtype=int64)"
      ]
     },
     "execution_count": 19,
     "metadata": {},
     "output_type": "execute_result"
    }
   ],
   "source": [
    "nodes = network.get_node_ids(res.lon, res.lat).values\n",
    "nodes"
   ]
  },
  {
   "cell_type": "markdown",
   "metadata": {},
   "source": [
    "Then get the routing between the nodes."
   ]
  },
  {
   "cell_type": "code",
   "execution_count": 20,
   "metadata": {},
   "outputs": [
    {
     "data": {
      "text/plain": [
       "array([12506832861,   297598550,  2219857029,   297598523,   549207369,\n",
       "        2360966552,   297598503,  1945037261,   549216116,   549215576,\n",
       "         293037716, 12506832823,  2189086519,   300535230,    32257893,\n",
       "         300550446,   766688667, 10753276336, 10753276337,    32257914,\n",
       "         297469240, 10753276335,   303899677,   297469262, 12504460987,\n",
       "       12504460981,    32257942,   297469126,   297469119,     5622940,\n",
       "            470873,   297469175,   297469176,   297469179,   303897753,\n",
       "         300554481, 12504507747,  2232375421,  3896993606,   300554484,\n",
       "            470858,   300554516,   300554515,  2235216934,   300554558,\n",
       "            470830, 12346380088,   310559926,      470782,      470781,\n",
       "            470779,   624629219, 12461887888,     6928929, 12461887896,\n",
       "           6731482,    25760601,     6731487,     6986229,    25874006,\n",
       "           6986233,    25433269,    25439644,    25439588,   416322564,\n",
       "          25439614,  8015977041,  9468095477,    25439630, 12382100136,\n",
       "          25439983,    25439988,  9261373379,    25439996,    25439998,\n",
       "          25722407,     6929692,    25495065, 11580311620,  7547339589,\n",
       "          25495070,   336077147,   336077148,  9852487225,   567326309,\n",
       "           6929511,   567326314,   280801202,     6929509,  5217716966,\n",
       "        5217716964,  5320436457,   281201348, 12453338685,      470887,\n",
       "           6929502,     6929503,     6929504,  4621837868,  4621837867,\n",
       "          55484941,    55484927,    32660616,  1480060677,    26491502,\n",
       "         280739034,   280670290,    26491521,      517537,   139203860,\n",
       "        1490333753,      517578,   280605305,   280605265,   280597762,\n",
       "         280597767,   280597744,      517622,   280586847,   280586849,\n",
       "         280578951,      517738,   280570937,   280570906,   280570874,\n",
       "         280570816,      563678,   280570688,      563680,    27012541,\n",
       "            528608,   276054112,   276054113,      528606,   276042924,\n",
       "         276042748,   276031472,   276021306,      528584,   276018102,\n",
       "       12485206442,   276016847,   276016844, 12329198909,   275546347,\n",
       "         275714805,      526719,  2349925522,   275705782,   275705748,\n",
       "         275546027,      526737,   275666507,   275666521,  1836402370,\n",
       "         529263650,   529263667,   529263646,   301075845,   301075846,\n",
       "         301075848,  2134239485,   301013608,  3924088716,  3924088713,\n",
       "        3924088694,  2134239542,  2134239504,  1309584225,  4366299642,\n",
       "        1787892941,  1309584314,  1309584220,  1309584283,  1309584301,\n",
       "        1309584243,   843028289,   843027027,   843029557,   843027337,\n",
       "         843029363,  1225945137,  1225945111,  1225945087,  1804381542,\n",
       "        1943947788], dtype=int64)"
      ]
     },
     "execution_count": 20,
     "metadata": {},
     "output_type": "execute_result"
    }
   ],
   "source": [
    "network.shortest_path(nodes[0], nodes[1])"
   ]
  },
  {
   "cell_type": "code",
   "execution_count": 21,
   "metadata": {},
   "outputs": [
    {
     "data": {
      "text/plain": [
       "58511.8"
      ]
     },
     "execution_count": 21,
     "metadata": {},
     "output_type": "execute_result"
    }
   ],
   "source": [
    "network.shortest_path_length(nodes[0], nodes[1])"
   ]
  },
  {
   "cell_type": "markdown",
   "metadata": {},
   "source": [
    "Calculate many shortest paths at once\n",
    "\n",
    "Pandana can generate several million shortest paths in less than a minute."
   ]
  },
  {
   "cell_type": "code",
   "execution_count": 19,
   "metadata": {},
   "outputs": [],
   "source": [
    "restaurant_nodes = network.get_node_ids(restaurants.lon, restaurants.lat).values"
   ]
  },
  {
   "cell_type": "code",
   "execution_count": 20,
   "metadata": {},
   "outputs": [],
   "source": [
    "origs = [o for o in restaurant_nodes for d in restaurant_nodes]\n",
    "dests = [d for o in restaurant_nodes for d in restaurant_nodes]"
   ]
  },
  {
   "cell_type": "code",
   "execution_count": 21,
   "metadata": {},
   "outputs": [
    {
     "name": "stdout",
     "output_type": "stream",
     "text": [
      "CPU times: total: 1min 35s\n",
      "Wall time: 25.9 s\n"
     ]
    }
   ],
   "source": [
    "%%time\n",
    "distances = network.shortest_path_lengths(origs, dests)"
   ]
  },
  {
   "cell_type": "markdown",
   "metadata": {},
   "source": [
    "Now we have the distance from each restaurant to each other restaurant."
   ]
  },
  {
   "cell_type": "code",
   "execution_count": 22,
   "metadata": {},
   "outputs": [
    {
     "data": {
      "text/plain": [
       "count    9.741690e+05\n",
       "mean     6.558483e+04\n",
       "std      3.823757e+05\n",
       "min      0.000000e+00\n",
       "25%      1.547632e+04\n",
       "50%      2.787595e+04\n",
       "75%      4.720361e+04\n",
       "max      4.294967e+06\n",
       "dtype: float64"
      ]
     },
     "execution_count": 22,
     "metadata": {},
     "output_type": "execute_result"
    }
   ],
   "source": [
    "pd.Series(distances).describe()"
   ]
  },
  {
   "cell_type": "markdown",
   "metadata": {},
   "source": [
    "3. Proximity\n",
    "\n",
    "Find the closest restaurants to each node\n",
    "\n",
    "To do a network-wide calculation like this, we first need to formally add the restaurants into the network."
   ]
  },
  {
   "cell_type": "code",
   "execution_count": 24,
   "metadata": {},
   "outputs": [],
   "source": [
    "network.set_pois(category = 'restaurants',\n",
    "                 maxdist = 1000,\n",
    "                 maxitems = 3,\n",
    "                 x_col = restaurants.lon, \n",
    "                 y_col = restaurants.lat)"
   ]
  },
  {
   "cell_type": "markdown",
   "metadata": {},
   "source": [
    "(The maxdist and maxitems parameters are the maximum distance and item counts you anticipate using in proximity searches, so that Pandana can optimize the caching.)\n",
    "\n",
    "Now we can run the query."
   ]
  },
  {
   "cell_type": "code",
   "execution_count": 25,
   "metadata": {},
   "outputs": [
    {
     "data": {
      "text/html": [
       "<div>\n",
       "<style scoped>\n",
       "    .dataframe tbody tr th:only-of-type {\n",
       "        vertical-align: middle;\n",
       "    }\n",
       "\n",
       "    .dataframe tbody tr th {\n",
       "        vertical-align: top;\n",
       "    }\n",
       "\n",
       "    .dataframe thead th {\n",
       "        text-align: right;\n",
       "    }\n",
       "</style>\n",
       "<table border=\"1\" class=\"dataframe\">\n",
       "  <thead>\n",
       "    <tr style=\"text-align: right;\">\n",
       "      <th></th>\n",
       "      <th>1</th>\n",
       "      <th>2</th>\n",
       "      <th>3</th>\n",
       "      <th>poi1</th>\n",
       "      <th>poi2</th>\n",
       "      <th>poi3</th>\n",
       "    </tr>\n",
       "    <tr>\n",
       "      <th>id</th>\n",
       "      <th></th>\n",
       "      <th></th>\n",
       "      <th></th>\n",
       "      <th></th>\n",
       "      <th></th>\n",
       "      <th></th>\n",
       "    </tr>\n",
       "  </thead>\n",
       "  <tbody>\n",
       "    <tr>\n",
       "      <th>451277</th>\n",
       "      <td>498.864990</td>\n",
       "      <td>632.142029</td>\n",
       "      <td>1000.000000</td>\n",
       "      <td>1.204949e+10</td>\n",
       "      <td>1.069360e+10</td>\n",
       "      <td>NaN</td>\n",
       "    </tr>\n",
       "    <tr>\n",
       "      <th>451289</th>\n",
       "      <td>1000.000000</td>\n",
       "      <td>1000.000000</td>\n",
       "      <td>1000.000000</td>\n",
       "      <td>NaN</td>\n",
       "      <td>NaN</td>\n",
       "      <td>NaN</td>\n",
       "    </tr>\n",
       "    <tr>\n",
       "      <th>451290</th>\n",
       "      <td>1000.000000</td>\n",
       "      <td>1000.000000</td>\n",
       "      <td>1000.000000</td>\n",
       "      <td>NaN</td>\n",
       "      <td>NaN</td>\n",
       "      <td>NaN</td>\n",
       "    </tr>\n",
       "    <tr>\n",
       "      <th>451291</th>\n",
       "      <td>212.623001</td>\n",
       "      <td>329.417999</td>\n",
       "      <td>566.120972</td>\n",
       "      <td>1.069360e+10</td>\n",
       "      <td>1.204949e+10</td>\n",
       "      <td>306283698.0</td>\n",
       "    </tr>\n",
       "    <tr>\n",
       "      <th>469499</th>\n",
       "      <td>58.217999</td>\n",
       "      <td>953.028992</td>\n",
       "      <td>1000.000000</td>\n",
       "      <td>1.138508e+10</td>\n",
       "      <td>9.333773e+09</td>\n",
       "      <td>NaN</td>\n",
       "    </tr>\n",
       "  </tbody>\n",
       "</table>\n",
       "</div>"
      ],
      "text/plain": [
       "                  1            2            3          poi1          poi2  \\\n",
       "id                                                                          \n",
       "451277   498.864990   632.142029  1000.000000  1.204949e+10  1.069360e+10   \n",
       "451289  1000.000000  1000.000000  1000.000000           NaN           NaN   \n",
       "451290  1000.000000  1000.000000  1000.000000           NaN           NaN   \n",
       "451291   212.623001   329.417999   566.120972  1.069360e+10  1.204949e+10   \n",
       "469499    58.217999   953.028992  1000.000000  1.138508e+10  9.333773e+09   \n",
       "\n",
       "               poi3  \n",
       "id                   \n",
       "451277          NaN  \n",
       "451289          NaN  \n",
       "451290          NaN  \n",
       "451291  306283698.0  \n",
       "469499          NaN  "
      ]
     },
     "execution_count": 25,
     "metadata": {},
     "output_type": "execute_result"
    }
   ],
   "source": [
    "results = network.nearest_pois(distance = 1000,\n",
    "                               category = 'restaurants',\n",
    "                               num_pois = 3,\n",
    "                               include_poi_ids = True)\n",
    "results.head()"
   ]
  },
  {
   "cell_type": "markdown",
   "metadata": {},
   "source": [
    "These are the distances (in meters) and IDs of the three closest restaurants to each network node."
   ]
  },
  {
   "cell_type": "markdown",
   "metadata": {},
   "source": [
    "4. Accessibility\n",
    "\n",
    "How many restaurants are within 500 meters of each node?\n",
    "\n",
    "Pandana calls this kind of calculation an aggregation. It requires passing a list of network nodes and associated values.\n",
    "\n",
    "In this case, the \"value\" is just presence of a restaurant, but it could also be characteristics like square footage of a building or income of a household."
   ]
  },
  {
   "cell_type": "code",
   "execution_count": 26,
   "metadata": {},
   "outputs": [],
   "source": [
    "restaurant_nodes = network.get_node_ids(restaurants.lon, restaurants.lat)"
   ]
  },
  {
   "cell_type": "code",
   "execution_count": 27,
   "metadata": {},
   "outputs": [],
   "source": [
    "network.set(restaurant_nodes, \n",
    "            name = 'restaurants')"
   ]
  },
  {
   "cell_type": "code",
   "execution_count": 28,
   "metadata": {},
   "outputs": [
    {
     "data": {
      "text/plain": [
       "count    123258.000000\n",
       "mean          1.829455\n",
       "std           5.526980\n",
       "min           0.000000\n",
       "25%           0.000000\n",
       "50%           0.000000\n",
       "75%           1.000000\n",
       "max          90.000000\n",
       "dtype: float64"
      ]
     },
     "execution_count": 28,
     "metadata": {},
     "output_type": "execute_result"
    }
   ],
   "source": [
    "accessibility = network.aggregate(distance = 500,\n",
    "                                  type = 'count',\n",
    "                                  name = 'restaurants')\n",
    "accessibility.describe()"
   ]
  },
  {
   "cell_type": "markdown",
   "metadata": {},
   "source": [
    "5. Visualization\n",
    "\n",
    "Pandana's built-in plot function uses an older Matplotlib extension called Basemap that's now difficult to install. So here we'll just use Matplotlib directly.\n",
    "\n",
    "Mapping restaurant accessibility"
   ]
  },
  {
   "cell_type": "code",
   "execution_count": 29,
   "metadata": {},
   "outputs": [
    {
     "name": "stdout",
     "output_type": "stream",
     "text": [
      "3.9.0\n"
     ]
    }
   ],
   "source": [
    "import matplotlib\n",
    "from matplotlib import pyplot as plt\n",
    "\n",
    "print(matplotlib.__version__)"
   ]
  },
  {
   "cell_type": "code",
   "execution_count": 31,
   "metadata": {},
   "outputs": [
    {
     "data": {
      "image/png": "[encoded data removed]",
      "text/plain": [
       "<Figure size 1000x800 with 2 Axes>"
      ]
     },
     "metadata": {},
     "output_type": "display_data"
    }
   ],
   "source": [
    "fig, ax = plt.subplots(figsize=(10,8))\n",
    "\n",
    "plt.title('Gipuzkoa: Restaurants within 500m')\n",
    "plt.scatter(network.nodes_df.x, network.nodes_df.y, \n",
    "            c=accessibility, s=1, cmap='YlOrRd', \n",
    "            norm=matplotlib.colors.LogNorm())\n",
    "cb = plt.colorbar()\n",
    "\n",
    "plt.show()"
   ]
  }
 ],
 "metadata": {
  "kernelspec": {
   "display_name": "Python 3",
   "language": "python",
   "name": "python3"
  },
  "language_info": {
   "codemirror_mode": {
    "name": "ipython",
    "version": 3
   },
   "file_extension": ".py",
   "mimetype": "text/x-python",
   "name": "python",
   "nbconvert_exporter": "python",
   "pygments_lexer": "ipython3",
   "version": "3.12.3"
  }
 },
 "nbformat": 4,
 "nbformat_minor": 2
}
